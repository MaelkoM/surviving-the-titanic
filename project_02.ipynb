{
 "cells": [
  {
   "cell_type": "markdown",
   "metadata": {},
   "source": [
    "# 1. Explore the Titanic dataset"
   ]
  },
  {
   "cell_type": "code",
   "execution_count": 168,
   "metadata": {},
   "outputs": [],
   "source": [
    "import pandas as pd\n",
    "import seaborn as sns\n",
    "from sklearn.model_selection import train_test_split\n",
    "from matplotlib import pyplot as plt\n",
<<<<<<< HEAD
=======
    "from sklearn.linear_model import LogisticRegression\n",
>>>>>>> 919260e0344a37d9495170641d01e414d191855d
    "from sklearn import preprocessing"
   ]
  },
  {
   "cell_type": "markdown",
   "metadata": {},
   "source": [
    "## 1.1. Read the file train.csv into Python and print a few rows."
   ]
  },
  {
   "cell_type": "code",
   "execution_count": 169,
   "metadata": {},
   "outputs": [
    {
     "data": {
      "text/html": [
       "<div>\n",
       "<style scoped>\n",
       "    .dataframe tbody tr th:only-of-type {\n",
       "        vertical-align: middle;\n",
       "    }\n",
       "\n",
       "    .dataframe tbody tr th {\n",
       "        vertical-align: top;\n",
       "    }\n",
       "\n",
       "    .dataframe thead th {\n",
       "        text-align: right;\n",
       "    }\n",
       "</style>\n",
       "<table border=\"1\" class=\"dataframe\">\n",
       "  <thead>\n",
       "    <tr style=\"text-align: right;\">\n",
       "      <th></th>\n",
       "      <th>PassengerId</th>\n",
       "      <th>Survived</th>\n",
       "      <th>Pclass</th>\n",
       "      <th>Name</th>\n",
       "      <th>Sex</th>\n",
       "      <th>Age</th>\n",
       "      <th>SibSp</th>\n",
       "      <th>Parch</th>\n",
       "      <th>Ticket</th>\n",
       "      <th>Fare</th>\n",
       "      <th>Cabin</th>\n",
       "      <th>Embarked</th>\n",
       "    </tr>\n",
       "  </thead>\n",
       "  <tbody>\n",
       "    <tr>\n",
       "      <th>0</th>\n",
       "      <td>1</td>\n",
       "      <td>0</td>\n",
       "      <td>3</td>\n",
       "      <td>Braund, Mr. Owen Harris</td>\n",
       "      <td>male</td>\n",
       "      <td>22.0</td>\n",
       "      <td>1</td>\n",
       "      <td>0</td>\n",
       "      <td>A/5 21171</td>\n",
       "      <td>7.2500</td>\n",
       "      <td>NaN</td>\n",
       "      <td>S</td>\n",
       "    </tr>\n",
       "    <tr>\n",
       "      <th>1</th>\n",
       "      <td>2</td>\n",
       "      <td>1</td>\n",
       "      <td>1</td>\n",
       "      <td>Cumings, Mrs. John Bradley (Florence Briggs Th...</td>\n",
       "      <td>female</td>\n",
       "      <td>38.0</td>\n",
       "      <td>1</td>\n",
       "      <td>0</td>\n",
       "      <td>PC 17599</td>\n",
       "      <td>71.2833</td>\n",
       "      <td>C85</td>\n",
       "      <td>C</td>\n",
       "    </tr>\n",
       "    <tr>\n",
       "      <th>2</th>\n",
       "      <td>3</td>\n",
       "      <td>1</td>\n",
       "      <td>3</td>\n",
       "      <td>Heikkinen, Miss. Laina</td>\n",
       "      <td>female</td>\n",
       "      <td>26.0</td>\n",
       "      <td>0</td>\n",
       "      <td>0</td>\n",
       "      <td>STON/O2. 3101282</td>\n",
       "      <td>7.9250</td>\n",
       "      <td>NaN</td>\n",
       "      <td>S</td>\n",
       "    </tr>\n",
       "    <tr>\n",
       "      <th>3</th>\n",
       "      <td>4</td>\n",
       "      <td>1</td>\n",
       "      <td>1</td>\n",
       "      <td>Futrelle, Mrs. Jacques Heath (Lily May Peel)</td>\n",
       "      <td>female</td>\n",
       "      <td>35.0</td>\n",
       "      <td>1</td>\n",
       "      <td>0</td>\n",
       "      <td>113803</td>\n",
       "      <td>53.1000</td>\n",
       "      <td>C123</td>\n",
       "      <td>S</td>\n",
       "    </tr>\n",
       "    <tr>\n",
       "      <th>4</th>\n",
       "      <td>5</td>\n",
       "      <td>0</td>\n",
       "      <td>3</td>\n",
       "      <td>Allen, Mr. William Henry</td>\n",
       "      <td>male</td>\n",
       "      <td>35.0</td>\n",
       "      <td>0</td>\n",
       "      <td>0</td>\n",
       "      <td>373450</td>\n",
       "      <td>8.0500</td>\n",
       "      <td>NaN</td>\n",
       "      <td>S</td>\n",
       "    </tr>\n",
       "  </tbody>\n",
       "</table>\n",
       "</div>"
      ],
      "text/plain": [
       "   PassengerId  Survived  Pclass  \\\n",
       "0            1         0       3   \n",
       "1            2         1       1   \n",
       "2            3         1       3   \n",
       "3            4         1       1   \n",
       "4            5         0       3   \n",
       "\n",
       "                                                Name     Sex   Age  SibSp  \\\n",
       "0                            Braund, Mr. Owen Harris    male  22.0      1   \n",
       "1  Cumings, Mrs. John Bradley (Florence Briggs Th...  female  38.0      1   \n",
       "2                             Heikkinen, Miss. Laina  female  26.0      0   \n",
       "3       Futrelle, Mrs. Jacques Heath (Lily May Peel)  female  35.0      1   \n",
       "4                           Allen, Mr. William Henry    male  35.0      0   \n",
       "\n",
       "   Parch            Ticket     Fare Cabin Embarked  \n",
       "0      0         A/5 21171   7.2500   NaN        S  \n",
       "1      0          PC 17599  71.2833   C85        C  \n",
       "2      0  STON/O2. 3101282   7.9250   NaN        S  \n",
       "3      0            113803  53.1000  C123        S  \n",
       "4      0            373450   8.0500   NaN        S  "
      ]
     },
     "execution_count": 169,
     "metadata": {},
     "output_type": "execute_result"
    }
   ],
   "source": [
    "df = pd.read_csv('data/train.csv', sep=\",\")\n",
    "df.head()"
   ]
  },
  {
   "cell_type": "markdown",
   "metadata": {},
   "source": [
    "## 1.2. Calculate the number of surviving/non-surviving passengers and display it as a bar plot."
   ]
  },
  {
   "cell_type": "code",
   "execution_count": 170,
   "metadata": {},
   "outputs": [
    {
     "data": {
      "text/plain": [
       "<AxesSubplot:xlabel='Survived', ylabel='Survived'>"
      ]
     },
     "execution_count": 170,
     "metadata": {},
     "output_type": "execute_result"
    },
    {
     "data": {
      "image/png": "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\n",
      "text/plain": [
       "<Figure size 432x288 with 1 Axes>"
      ]
     },
     "metadata": {
      "needs_background": "light"
     },
     "output_type": "display_data"
    }
   ],
   "source": [
    "sns.barplot(x=df[\"Survived\"], y=df[\"Survived\"].value_counts())"
   ]
  },
  {
   "cell_type": "code",
   "execution_count": 171,
   "metadata": {},
   "outputs": [
    {
     "data": {
      "text/plain": [
       "<AxesSubplot:>"
      ]
     },
     "execution_count": 171,
     "metadata": {},
     "output_type": "execute_result"
    },
    {
     "data": {
      "image/png": "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\n",
      "text/plain": [
       "<Figure size 432x288 with 1 Axes>"
      ]
     },
     "metadata": {
      "needs_background": "light"
     },
     "output_type": "display_data"
    }
   ],
   "source": [
    "df[\"Survived\"].value_counts().plot.barh()"
   ]
  },
  {
   "cell_type": "markdown",
   "metadata": {},
   "source": [
    "## 1.3. Calculate the proportion of surviving 1st class passengers with regards to the total number of 1st class passengers."
   ]
  },
  {
   "cell_type": "code",
   "execution_count": 172,
   "metadata": {},
   "outputs": [],
   "source": [
    "pes_class_1st = df[df[\"Pclass\"] == 1]"
   ]
  },
  {
   "cell_type": "code",
   "execution_count": 173,
   "metadata": {},
   "outputs": [
    {
     "data": {
      "text/plain": [
       "0.37037037037037035"
      ]
     },
     "execution_count": 173,
     "metadata": {},
     "output_type": "execute_result"
    }
   ],
   "source": [
    "count = pes_class_1st.value_counts(\"Survived\")\n",
    "prop = count[0]/count.sum()\n",
    "prop"
   ]
  },
  {
   "cell_type": "markdown",
   "metadata": {},
   "source": [
    "## 1.4. Create a bar plot with separate bars for male/female passengers and 1st/2nd/3rd class passengers."
   ]
  },
  {
   "cell_type": "code",
   "execution_count": 174,
   "metadata": {},
   "outputs": [
    {
     "data": {
      "text/plain": [
       "<seaborn.axisgrid.FacetGrid at 0x7febfee10640>"
      ]
     },
     "execution_count": 174,
     "metadata": {},
     "output_type": "execute_result"
    },
    {
     "data": {
      "image/png": "iVBORw0KGgoAAAANSUhEUgAAAa0AAAFgCAYAAAAIICZdAAAAOXRFWHRTb2Z0d2FyZQBNYXRwbG90bGliIHZlcnNpb24zLjMuMiwgaHR0cHM6Ly9tYXRwbG90bGliLm9yZy8vihELAAAACXBIWXMAAAsTAAALEwEAmpwYAAAaWUlEQVR4nO3df7RdZX3n8feHgOAIFSgXJoYgqLQjMBpsjAgzLvzRkkFXwRnROAyiVcEpOFprV0FbxdHMdKb+qi5F44hQl4qx4oioWESQWi0YKb/Cj5oRlJAMBB0FFiw08Tt/nB05vdzkHiT7nvMk79daZ519nv3sc7/3WXA/2fvs8zypKiRJasFO4y5AkqRRGVqSpGYYWpKkZhhakqRmGFqSpGbsPO4CHo2lS5fWxRdfPO4yJGlYxl3A9qzpM62777573CVIkuZQ06ElSdqxGFqSpGYYWpKkZhhakqRmGFqSpGYYWpKkZhhakqRm9BZaSXZLclWSa5OsTvKOrv2sJHckuaZ7HDt0zJlJ1iS5JckxfdUmSWpTnzNiPAg8r6ruS7IL8K0kX+32va+q3j3cOckhwDLgUOAJwNeT/FZVbeqxRklSQ3o706qB+7qXu3SPra04eRxwflU9WFW3AmuAJX3VJ0lqT6+faSWZl+Qa4C7gkqq6stt1epLrkpyTZK+ubQFw+9Dha7s2SZKAnkOrqjZV1SJgf2BJksOAs4EnA4uA9cB7uu4zTTL5sDOzJKckWZVk1YYNG3qpW5I0mebk7sGq+ilwObC0qu7swuyXwMd46BLgWmDh0GH7A+tmeK8VVbW4qhZPTU31W7gkaaL0effgVJI9u+3HAi8Abk4yf6jbi4Ebuu0LgWVJdk1yEHAwcFVf9UmtW7DwAJI081iw8IBxD5m2A33ePTgfOC/JPAbhuLKqLkryySSLGFz6uw04FaCqVidZCdwIbARO885BacvWrb2dl3302+MuY2SfPfXIcZeg7UBvoVVV1wGHz9B+0laOWQ4s76smSVLbnBFDktQMQ0uS1AxDS5LUDENLktQMQ0uS1AxDS5LUDENLktQMQ0uS1AxDS5LUDENLktQMQ0uS1AxDS5LUDENLktQMQ0uS1AxDS5LUDENLktQMQ0uS1AxDS5LUDENLktQMQ0uS1AxDS5LUDENLktQMQ0uS1AxDS5LUDENLktQMQ0uS1AxDS5LUDENLktQMQ0uS1AxDS5LUDENLktQMQ0uS1AxDS5LUjN5CK8luSa5Kcm2S1Une0bXvneSSJN/vnvcaOubMJGuS3JLkmL5qkyS1qc8zrQeB51XV04FFwNIkRwBnAJdW1cHApd1rkhwCLAMOBZYCH04yr8f6JEmN6S20auC+7uUu3aOA44DzuvbzgOO77eOA86vqwaq6FVgDLOmrPklSe3r9TCvJvCTXAHcBl1TVlcB+VbUeoHvet+u+ALh96PC1XZskSUDPoVVVm6pqEbA/sCTJYVvpnpne4mGdklOSrEqyasOGDduoUklSC+bk7sGq+ilwOYPPqu5MMh+ge76r67YWWDh02P7Auhnea0VVLa6qxVNTU32WLUmaMH3ePTiVZM9u+7HAC4CbgQuBk7tuJwNf7LYvBJYl2TXJQcDBwFV91SdJas/OPb73fOC87g7AnYCVVXVRku8AK5O8GvgRcAJAVa1OshK4EdgInFZVm3qsT5LUmN5Cq6quAw6fof3HwPO3cMxyYHlfNUmS2uaMGJKkZhhakqRmGFqSpGYYWpKkZhhakqRmGFqSpGYYWpKkZhhakqRmGFqSpGYYWpKkZhhakqRmGFqSpGYYWpKkZhhakqRmGFqSpGYYWpKkZhhakqRmGFqSpGYYWpKkZhhakqRmGFqSpGYYWpKkZhhakqRmGFqSpGYYWpKkZhhakqRmGFqSpGYYWpKkZhhakqRmGFqSpGYYWpKkZhhakqRmGFqSpGYYWpKkZvQWWkkWJrksyU1JVid5Q9d+VpI7klzTPY4dOubMJGuS3JLkmL5qkyS1aece33sj8MdVdXWSPYDvJbmk2/e+qnr3cOckhwDLgEOBJwBfT/JbVbWpxxolSQ3p7UyrqtZX1dXd9r3ATcCCrRxyHHB+VT1YVbcCa4AlfdUnSWrPnHymleRA4HDgyq7p9CTXJTknyV5d2wLg9qHD1jJDyCU5JcmqJKs2bNjQZ9mSpAnTe2gl2R34PPDGqroHOBt4MrAIWA+8Z3PXGQ6vhzVUraiqxVW1eGpqqp+iJUkTqdfQSrILg8D6VFVdAFBVd1bVpqr6JfAxHroEuBZYOHT4/sC6PuuTJLWlz7sHA3wcuKmq3jvUPn+o24uBG7rtC4FlSXZNchBwMHBVX/VJktrT592DRwEnAdcnuaZrewvw8iSLGFz6uw04FaCqVidZCdzI4M7D07xzUJI0rLfQqqpvMfPnVF/ZyjHLgeV91SRJapszYkiSmmFoSZKaYWhJkpphaEmSmmFoSZKaYWhJkpphaEmSmmFoSZKaYWhJkpphaEmSmmFoSZKaYWhJkpphaEmSmmFoSZKaYWhJkpphaEmSmmFoSZKaYWhJkpphaEmSmmFoSZKaYWhJkpphaEmSmmFoSZKaYWhJkpphaEmSmmFoSZKaYWhJkpphaEmSmmFoSZKaYWhJkpphaEmSmmFoSZKaYWhJkprRW2glWZjksiQ3JVmd5A1d+95JLkny/e55r6FjzkyyJsktSY7pqzZJUpv6PNPaCPxxVT0VOAI4LckhwBnApVV1MHBp95pu3zLgUGAp8OEk83qsT5LUmN5Cq6rWV9XV3fa9wE3AAuA44Lyu23nA8d32ccD5VfVgVd0KrAGW9FWfJKk9c/KZVpIDgcOBK4H9qmo9DIIN2LfrtgC4feiwtV3b9Pc6JcmqJKs2bNjQa92SpMnSe2gl2R34PPDGqrpna11naKuHNVStqKrFVbV4ampqW5UpSWpAr6GVZBcGgfWpqrqga74zyfxu/3zgrq59LbBw6PD9gXV91idJastIoZXkqFHapu0P8HHgpqp679CuC4GTu+2TgS8OtS9LsmuSg4CDgatGqU+StGMY9UzrgyO2DTsKOAl4XpJrusexwF8Av5vk+8Dvdq+pqtXASuBG4GLgtKraNGJ9kqQdwM5b25nk2cCRwFSSNw3t+g1gq7ejV9W3mPlzKoDnb+GY5cDyrb2vJGnHtdXQAh4D7N7122Oo/R7gJX0VJUnSTLYaWlX1TeCbSc6tqh/OUU2SJM1otjOtzXZNsgI4cPiYqnpeH0VJkjSTUUPrc8BHgP8FeHOEJGksRg2tjVV1dq+VSJI0i1Fvef9Skj9MMr+bpX3vJHv3WpkkaZtL8tZu5Y3ruq8iPWvcNT0So55pbf4y8J8MtRXwpG1bjiSpL93XmF4EPKOqHkyyD4O7xJsxUmhV1UF9FyJJ6t184O6qehCgqu4GSPI7wHsZfMXpbuCVwP0MZiX6/aq6JclngG9U1cfGUfhmI4VWklfM1F5Vf71ty5Ek9ehvgbcl+Sfg68BngW8zmOHouKrakORlwPKq+oMkpwPnJvkrYK9xBxaMfnnwmUPbuzGY0eJqwNCSpEZU1X3dWdW/BZ7LILTeBRwGXDKYMpZ5wObloy5JcgLwIeDpYyl6mlEvD75++HWSxwOf7KUiSVJvujldLwcuT3I9cBqwuqqePb1vkp2ApwIPAHszWI1jrH7dpUnuZzALuySpEUl+O8nw3+5FDFaVn+pu0iDJLkkO7fb/Ubf/5cA53XJTYzXqZ1pf4qEFGecxSN6VfRUlSerF7sAHk+wJbATWAKcAK4APdFfRdgben+QXwGuAJVV1b5IrgD8D3j6Wyjujfqb17qHtjcAPq2rsp4mSpNFV1fcYrNwx3d3Ac2Zof+rQsW+aYf+cG+nyYDdx7s0MZnrfC/h5n0VJkjSTUVcufimD+/VPAF4KXJnEpUkkSXNq1MuDbwWeWVV3ASSZYnCP/9/0VZgkSdONevfgTpsDq/PjR3CsJEnbxKhnWhcn+Rrwme71y4Cv9FOSJEkz22poJXkKsF9V/UmSfw/8GyDAd4BPzUF9kiT9ymyX+N4P3AtQVRdU1Zuq6o8YnGW9v9/SJEmTLsnRSS6aq5832+XBA6vquumNVbUqyYH9lCRJO7bsvMs6Nm2cv83ecN7O62vjL56wzd5vjGYLrd22su+x27IQSVJn08b5T/zTiy7fVm/3w//xoqO3tr87CbkY+BZwBHAt8AngHcC+wIld1/cz+Nv/APCqqrpl2vs8jsGM8f+aQb6cVVVf3Ea/BjD75cHvJnnt9MYkrwa+ty0LkSSN1VOAvwKeBvwr4D8yuI/hzcBbGEww8ZyqOhx4G/DfZniPtzJYc+uZDGaR/8suyLaZ2c603gh8IcmJPBRSixmsdPnibVmIJGmsbq2q6wGSrAYurarqZoI/EHg8cF434W4BM02e+3vA7yd5c/d6N+AABpPubhNbDa2quhM4MslzGay3AvDlqvrGtipAkjQRHhza/uXQ618yyIp3ApdV1Yu7y4mXz/AeAf7D9MuG29Ko62ldBlzWVxGSpIn3eOCObvuVW+jzNeD1SV7fnaUdXlX/uC2LcFYLSdIo/ifw35P8PYMlqmbyTgaXDa9LckP3eptKVc3ea0ItXry4Vq1aNe4ypLFIwss++u1xlzGyz556JC3/vXkE8qjfwFvet2jUaZwkSXNkewmYPnh5UJLUDENLktQMQ0uS1IzeQivJOUnu6u4g2dx2VpI7klzTPY4d2ndmkjVJbklyTF91SZLa1eeZ1rnA0hna31dVi7rHVwCSHAIsAw7tjvlwki3dUilJ2kH1FlpVdQXwkxG7HwecX1UPVtWtwBpgSV+1SZL+uST/JclNSXpZK7G70vbm2Xtu3Tg+0zo9yXXd5cO9urYFwO1DfdZ2bQ+T5JQkq5Ks2rBhQ9+1StKc23XnrEtS2+qx685ZN8KP/UPg2Ko6cdaeYzTX39M6m8E3pKt7fg/wB8z8ZbwZv4VYVSuAFTD4cnE/ZUrS+Px8E/Pr7b9x+bZ6v7zjnqO3uj/5CPAk4MIk5wNPZtryIkleCRzPYDaMwxj8/X4McBKDeQqPraqfdCuDnNLtWwOcVFX3T/t5TwY+BEwB9wOvraqbR/ld5vRMq6rurKpNVfVL4GM8dAlwLbBwqOv+wCj/MpAkPUpV9ToGf3OfCzyOLS8vchiDJUuWAMuB+7ulSr4DvKLrc0FVPbOqns5gdvdXz/AjVwCvr6rfYbD0yYdHrXVOz7SSzK+q9d3LFwOb7yy8EPh0kvcCTwAOBq6ay9okScCWlxeBwSzv9wL3JvkZ8KWu/XoG63ABHJbkXcCewO4MJtH9lSS7A0cCn0t+dZFt11GL6y20knwGOBrYJ8la4O3A0UkWMbj0dxtwKkBVrU6yErgR2AicVlWb+qpNkrRFMy4vkuRZzL58CQzuHD++qq7tLikePe39dwJ+WlWLfp3iegutqnr5DM0f30r/5QxONyVtp4b+Zd2EJ+7/BG67/Y7ZO25fHu3yInsA65PsApzIQ8uZAFBV9yS5NckJVfW5DP6jeFpVXTvKmzthrqQ5U5944bhLeETyqi+Pu4RxeCfwfgbLi4TBVbEXPYLj/xy4Evghg8uGe8zQ50Tg7CR/xmApk/MBQ0uSWvSYeayf7Y6/R/p+s/WpqgOHXp46w/5zGVz6e1j/4X1VdTaDO8WnH3/W0PatzDz5xKwMLUmaMA9uLJcm2QInzJUkNcPQkiQ1w9CSJDXD0JIkNcPQkiQ1w9CSJDXD0JIkNcPQkiQ1w9CSJDXD0JIkNcPQkiQ1w9CSJDXD0JIkNcPQkiQ1w9CSJDVjhwytBQsPIEkzjwULDxj3kEnSRNghF4Fct/Z2XvbRb4+7jJF99tQjx12CJE2EHfJMS5LUJkNLktQMQ0uS1AxDS5LUDENLktQMQ0uS1AxDS5LUDENLktQMQ0uS1AxDS5LUDENLvXB+R0l92CHnHlT/nN9RUh8805IkNaO30EpyTpK7ktww1LZ3kkuSfL973mto35lJ1iS5JckxfdUlSWpXn2da5wJLp7WdAVxaVQcDl3avSXIIsAw4tDvmw0nm9VibJKlBvYVWVV0B/GRa83HAed32ecDxQ+3nV9WDVXUrsAZY0ldtkqQ2zfVnWvtV1XqA7nnfrn0BcPtQv7Vd28MkOSXJqiSrNmzY0GuxkqTJMik3YmSGtpqpY1WtqKrFVbV4amqq57IkSZNkrkPrziTzAbrnu7r2tcDCoX77A+vmuDZJ0oSb69C6EDi52z4Z+OJQ+7IkuyY5CDgYuGqOa5MkTbjevlyc5DPA0cA+SdYCbwf+AliZ5NXAj4ATAKpqdZKVwI3ARuC0qtrUV22SpDb1FlpV9fIt7Hr+FvovB5b3VU/rkpk+9pOkHYvTODWiPvHCcZfwiORVXx53CZK2Q5Ny96AkSbMytCRJzTC0JEnNMLQkSc0wtCRJzTC0JEnNMLQkSc0wtCRJzTC0JEnNMLQkSc0wtCRJzTC0JEnNMLQkSc0wtCRJzXBpEqnjmmXS5DO0pI5rlkmTz8uDkqRmGFqSpGYYWpKkZhhakqRmGFqSpGYYWpKkZhhakqRmGFqSpGYYWpKkZhhakqRmGFqSpGYYWpKkZhhakqRmGFqSpGYYWpKkZhhakqRmjGURyCS3AfcCm4CNVbU4yd7AZ4EDgduAl1bV/xtHfZKkyTTOM63nVtWiqlrcvT4DuLSqDgYu7V5LkvQrk3R58DjgvG77POD48ZUiSZpE4wqtAv42yfeSnNK17VdV6wG6533HVJskaUKN5TMt4KiqWpdkX+CSJDePemAXcqcAHHDAAX3VJ0maQGM506qqdd3zXcAXgCXAnUnmA3TPd23h2BVVtbiqFk9NTc1VyZKkCTDnoZXkcUn22LwN/B5wA3AhcHLX7WTgi3NdmyRpso3j8uB+wBeSbP75n66qi5N8F1iZ5NXAj4ATxlCbJGmCzXloVdUPgKfP0P5j4PlzXY8kqR2TdMu7JElbZWhJkpphaEmSmmFoSZKaYWhJkpphaEmSmmFoSZKaYWhJkpphaEmSmmFoSZKaYWhJkpphaEmSmmFoSZKaYWhJkpphaEmSmmFoSZKaYWhJkpphaEmSmmFoSZKaYWhJkpphaEmSmmFoSZKaYWhJkpphaEmSmmFoSZKaYWhJkpphaEmSmmFoSZKaYWhJkpphaEmSmmFoSZKaYWhJkpphaEmSmmFoSZKaMXGhlWRpkluSrElyxrjrkSRNjokKrSTzgA8B/w44BHh5kkPGW5UkaVJMVGgBS4A1VfWDqvo5cD5w3JhrkiRNiFTVuGv4lSQvAZZW1Wu61ycBz6qq04f6nAKc0r38beCWX+NH7QPc/SjLnUut1Qvt1dxavdBeza3VC79ezXdX1dI+ihHsPO4CpskMbf8sVatqBbDiUf2QZFVVLX407zGXWqsX2qu5tXqhvZpbqxfarHl7N2mXB9cCC4de7w+sG1MtkqQJM2mh9V3g4CQHJXkMsAy4cMw1SZImxERdHqyqjUlOB74GzAPOqarVPfyoR3V5cQxaqxfaq7m1eqG9mlurF9qsebs2UTdiSJK0NZN2eVCSpC0ytCRJzdhuQ2u26aCSHJ3kZ0mu6R5vG0edQ/Wck+SuJDdsYX+SfKD7fa5L8oy5rnGGmmaredLGeGGSy5LclGR1kjfM0GeixnnEmidmnJPsluSqJNd29b5jhj6TNsaj1DwxY7zDq6rt7sHgJo7/AzwJeAxwLXDItD5HAxeNu9ahep4DPAO4YQv7jwW+yuC7bEcAVzZQ86SN8XzgGd32HsA/zfDfxUSN84g1T8w4d+O2e7e9C3AlcMSEj/EoNU/MGO/oj+31TKu56aCq6grgJ1vpchzw1zXwD8CeSebPTXUzG6HmiVJV66vq6m77XuAmYMG0bhM1ziPWPDG6cbuve7lL95h+t9ekjfEoNWtCbK+htQC4fej1Wmb+H/3Z3SWBryY5dG5K+7WN+jtNmokc4yQHAocz+Ff1sIkd563UDBM0zknmJbkGuAu4pKomfoxHqBkmaIx3ZNtraM06HRRwNfDEqno68EHgf/dd1KM0yu80aSZyjJPsDnweeGNV3TN99wyHjH2cZ6l5osa5qjZV1SIGM9osSXLYtC4TN8Yj1DxRY7wj215Da9bpoKrqns2XBKrqK8AuSfaZuxIfseamuJrEMU6yC4M//p+qqgtm6DJx4zxbzZM4zl0tPwUuB6ZPHjtxY7zZlmqe1DHeEW2voTXrdFBJ/mWSdNtLGIzFj+e80tFdCLyiu/PqCOBnVbV+3EVtzaSNcVfLx4Gbquq9W+g2UeM8Ss2TNM5JppLs2W0/FngBcPO0bpM2xrPWPEljvKObqGmctpXawnRQSV7X7f8I8BLgPyfZCDwALKuqsV2iSPIZBnco7ZNkLfB2Bh8Ib673KwzuuloD3A+8ajyVPmSEmidqjIGjgJOA67vPLwDeAhwAEzvOo9Q8SeM8HzgvgwVddwJWVtVF0/7fm7QxHqXmSRrjHZrTOEmSmrG9Xh6UJG2HDC1JUjMMLUlSMwwtSVIzDC1JUjMMLW1XkmzqZuG+IcnnkvyLrfQ9K8mb57I+SY+OoaXtzQNVtaiqDgN+Drxu3AVJ2nYMLW3P/g54CkCSV3RrN12b5JPTOyZ5bZLvdvs/v/kMLckJ3VnbtUmu6NoOzWD9pWu69zx4Tn8raQfml4u1XUlyX1XtnmRnBvP1XQxcAVwAHFVVdyfZu6p+kuQs4L6qeneS36yqH3fv8S7gzqr6YJLrgaVVdUeSPavqp0k+CPxDVX2qmyZsXlU9MJZfWNrBeKal7c1ju+mOVgE/YjBv3/OAv6mquwGqaqY1wA5L8nddSJ0IbF564u+Bc5O8lsGUYADfAd6S5E8ZzPxtYElzZLuce1A7tAe6JSZ+pZvodLZLCucCx1fVtUleyWBORarqdUmeBbwQuCbJoqr6dJIru7avJXlNVX1j2/4akmbimZZ2BJcCL03ymwBJ9p6hzx7A+m4ZkBM3NyZ5clVdWVVvA+4GFiZ5EvCDqvoAgxnLn9b7byAJ8ExLO4Buhv/lwDeTbAL+EXjltG5/zmBF4B8C1zMIMYC/7G60CIPwuxY4A/hPSX4B/F/gv/b+S0gCvBFDktQQLw9KkpphaEmSmmFoSZKaYWhJkpphaEmSmmFoSZKaYWhJkprx/wHk51IlBVlvYgAAAABJRU5ErkJggg==\n",
      "text/plain": [
       "<Figure size 430.5x360 with 1 Axes>"
      ]
     },
     "metadata": {
      "needs_background": "light"
     },
     "output_type": "display_data"
    }
   ],
   "source": [
    "sns.displot(df, x=\"Pclass\", hue=\"Sex\", multiple=\"dodge\", discrete=True)"
   ]
  },
  {
   "cell_type": "code",
   "execution_count": 175,
   "metadata": {},
   "outputs": [
    {
     "data": {
      "text/plain": [
       "<AxesSubplot:xlabel='Pclass', ylabel='count'>"
      ]
     },
     "execution_count": 175,
     "metadata": {},
     "output_type": "execute_result"
    },
    {
     "data": {
      "image/png": "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\n",
      "text/plain": [
       "<Figure size 432x288 with 1 Axes>"
      ]
     },
     "metadata": {
      "needs_background": "light"
     },
     "output_type": "display_data"
    }
   ],
   "source": [
    "sns.countplot(x=\"Pclass\",hue=\"Sex\",data=df)"
   ]
  },
  {
   "cell_type": "markdown",
   "metadata": {},
   "source": [
    "## 1.5. Create a histogram showing the age distribution of passengers. Compare surviving/non-surviving passengers."
   ]
  },
  {
   "cell_type": "code",
   "execution_count": 176,
   "metadata": {},
   "outputs": [
    {
     "data": {
      "text/plain": [
       "<seaborn.axisgrid.FacetGrid at 0x7febff8e4f40>"
      ]
     },
     "execution_count": 176,
     "metadata": {},
     "output_type": "execute_result"
    },
    {
     "data": {
      "image/png": "iVBORw0KGgoAAAANSUhEUgAAAZoAAAFgCAYAAACCD78cAAAAOXRFWHRTb2Z0d2FyZQBNYXRwbG90bGliIHZlcnNpb24zLjMuMiwgaHR0cHM6Ly9tYXRwbG90bGliLm9yZy8vihELAAAACXBIWXMAAAsTAAALEwEAmpwYAAAZc0lEQVR4nO3de7SddX3n8feHBFCgKpTAiiEx2MmgSL1ARIVOh0od42XAtiKh2kmVFmYNWry0CmVW1dXFGrrG1dHlKg5ZymVay0XUgaLDZaLotFowKigXI4wgOSSQoFOp2oUGvvPH80SO8UBOztm/vXfOeb/W2mvv5/fcvvvkJJ/8nsvvSVUhSVIre4y6AEnS3GbQSJKaMmgkSU0ZNJKkpgwaSVJTC0ddwGysWrWqrr322lGXIUmTZdQFjJvdukfz0EMPjboESdJO7NZBI0kafwaNJKkpg0aS1JRBI0lqyqCRJDVl0EiSmjJoJElNGTSSpKYMGklSUwaNJKkpg0aS1JRBI0lqyqCRJDVl0MxzS5YuI8mMX0uWLhv1V5A05nbr59Fo9jZNbOTkC7404/UvP/2YAVYjaS6yRyNJaqpZ0CS5MMmWJLdNMe+Pk1SSAye1nZ3k7iQbkryyVV2SpOFq2aO5GFi1Y2OSpcArgPsmtR0OrAae169zfpIFDWuTJA1Js6Cpqi8C359i1n8D3g3UpLYTgcuq6pGquge4Gzi6VW2SpOEZ6jmaJCcA91fVrTvMWgJsnDQ90bdNtY3TkqxPsn7r1q2NKpUkDcrQgibJPsA5wJ9NNXuKtpqijapaW1Urq2rlokWLBlmiJKmBYV7e/CvAocCtSQAOAb6W5Gi6HszSScseAmwaYm2SpEaG1qOpqm9W1UFVtbyqltOFy5FV9QBwNbA6yd5JDgVWADcPqzZJUjstL2++FPgycFiSiSSnPtGyVXU7cAVwB3AtcEZVPdqqNknS8DQ7dFZVp+xk/vIdps8Fzm1VjyRpNBwZQJLUlEEjSWrKoJEkNWXQSJKaMmgkSU0ZNJKkpgwaSVJTBo0kqSmDRpLUlEEjSWrKoJEkNWXQSJKaMmgkSU0ZNJKkpgwaSVJTBo0kqSmDRpLUlEEjSWrKoJEkNWXQSJKaMmgkSU0ZNJKkpgwaSVJTBo0kqSmDRpLUlEEjSWrKoJEkNWXQSJKaMmgkSU0ZNJKkpgwaSVJTBo0kqalmQZPkwiRbktw2qe2/JvlWkm8k+XSSZ0yad3aSu5NsSPLKVnVJkoarZY/mYmDVDm03AEdU1fOBbwNnAyQ5HFgNPK9f5/wkCxrWJkkakmZBU1VfBL6/Q9v1VbWtn/xH4JD+84nAZVX1SFXdA9wNHN2qNknS8IzyHM1bgP/Vf14CbJw0b6Jv+wVJTkuyPsn6rVu3Ni5RkjRbIwmaJOcA24CPb2+aYrGaat2qWltVK6tq5aJFi1qVKEkakIXD3mGSNcBrgeOranuYTABLJy12CLBp2LVJkgZvqD2aJKuA9wAnVNWPJ826GlidZO8khwIrgJuHWZskqY1mPZoklwLHAQcmmQDeS3eV2d7ADUkA/rGq/mNV3Z7kCuAOukNqZ1TVo61qkyQNT7OgqapTpmj+2JMsfy5wbqt6JEmj4cgAkqSmDBpJUlMGjSSpKYNGktSUQSNJasqgkSQ1ZdBIkpoyaCRJTRk0kqSmDBpJUlMGjSSpKYNGktSUQSNJasqgkSQ1ZdBIkpoyaCRJTRk0kqSmDBpJUlMGjSSpKYNGktSUQSNJasqgkSQ1ZdBIkpoyaCRJTRk0kqSmDBpJUlMGjSSpKYNGktSUQSNJasqgkSQ1ZdBIkpoyaCRJTTULmiQXJtmS5LZJbQckuSHJXf37/pPmnZ3k7iQbkryyVV2SpOFq2aO5GFi1Q9tZwLqqWgGs66dJcjiwGnhev875SRY0rE2SNCTNgqaqvgh8f4fmE4FL+s+XAK+b1H5ZVT1SVfcAdwNHt6pNkjQ8wz5Hc3BVbQbo3w/q25cAGyctN9G3/YIkpyVZn2T91q1bmxYrSZq9cbkYIFO01VQLVtXaqlpZVSsXLVrUuCxJ0mwNO2geTLIYoH/f0rdPAEsnLXcIsGnItUmSGhh20FwNrOk/rwGumtS+OsneSQ4FVgA3D7k2SVIDC1ttOMmlwHHAgUkmgPcC5wFXJDkVuA84CaCqbk9yBXAHsA04o6oebVWbJGl4mgVNVZ3yBLOOf4LlzwXObVWPJGk0xuViAEnSHGXQSJKaMmgkSU0ZNJKkpgwaSVJTBo0kqSmDRiO3ZOkykszqtWTpslF/DUlPoNl9NNJ0bZrYyMkXfGlW27j89GMGVI2kQbNHI0lqyqCRJDVl0EiSmjJoJElNGTSSpKYMGklSUwaNJKkpg0aS1JRBI0lqyqCRJDVl0EiSmjJoJElNGTSSpKYMGklSUwaNJKkpg0aS1JRBI0lqyqCRJDVl0EiSmjJoJElNGTSSpKYMGklSUwaNJKkpg0aS1NRIgibJO5LcnuS2JJcmeUqSA5LckOSu/n3/UdQmSRqsaQVNkmOn0zbNbS0B/ghYWVVHAAuA1cBZwLqqWgGs66clSbu56fZoPjzNtulaCDw1yUJgH2ATcCJwST//EuB1s9i+JGlMLHyymUleBhwDLEryzkmznkbXE9llVXV/kg8A9wH/AlxfVdcnObiqNvfLbE5y0BPUdBpwGsCyZctmUoIkaYh21qPZC9iPLpB+adLrYeD1M9lhf+7lROBQ4JnAvkneNN31q2ptVa2sqpWLFi2aSQmSpCF60h5NVX0B+EKSi6vquwPa528C91TVVoAkn6LrNT2YZHHfm1kMbBnQ/iRJI/SkQTPJ3knWAssnr1NVL5/BPu8DXppkH7pDZ8cD64EfAWuA8/r3q2awbUnSmJlu0HwC+O/AR4FHZ7PDqropyZXA14BtwNeBtXSH6K5IcipdGJ00m/1IksbDdINmW1V9ZFA7rar3Au/dofkRut6NJGkOme7lzX+X5D8lWdzfWHlAkgOaVqbdRpJZvST9oiTn9De2fyPJLUleMoBtnpBkIPcoJvnhdJedbo9mTf/+J5PaCnj2dHekuasues2s1s+bPzOgSqS5ob+15LXAkVX1SJID6a4Cns66C6tq21Tzqupq4OrBVTo90wqaqjq0dSGSpJ9ZDDxUVY8AVNVDAEnupRtV5aEkK4EPVNVxSd5Hd7vIcuChJL8CvKWqbu/XuxF4F/CrwErgHOBW4NlV9Vh/cdYGus7DMuCvgEXAj4E/rKpvJTkU+Fu63Lh2V77MdIeg+Q9TvXZlR5KkabseWJrk20nOT/Jvp7HOUcCJVfW7wGXAGwD620WeWVVf3b5gVf2ALmi2b/ffA9dV1U/pLs56W1UdBfwxcH6/zIeAj1TVi4EHduXLTPcczYsnvf4N8D7ghF3ZkSRpeqrqh3TBcRqwFbg8ye/vZLWrq+pf+s9X8PiVu2+gu3J4R5cDJ/efV/f72I/uvsZPJLkFuICudwVwLHBp//mvd+X7TPfQ2dsmTyd5+q7uSJI0fVX1KHAjcGOSb9KdK9/G4x2Ep+ywyo8mrXt/ku8leT5dmJw+xS6uBv5Lf2HXUcDngH2Bf6qqFz5RWTP5LjN9TMCPgRUzXFeS9CSSHJZk8r+xLwS+C9xLFwoAv7OTzVwGvBt4elV9c8eZfa/pZrpDYtdU1aNV9TBwT5KT+jqS5AX9Kv9A1/MBeOOufJ9p9WiS/B2PJ9kC4Ll0XTNJ0uDtB3w4yTPoejF30x1Gey7wsSR/Cty0k21cSRcif/4ky1xOd1jtuEltbwQ+kuQ/A3vSBdatwJnA3yY5E/jkrnyZ6V7e/IFJn7cB362qiV3ZkdTabO7JedYhz+TejfcPsBpp5voT98dMMev/AP96iuXfN0Xbg+zwb3xVXQxcPGn6SiA7LHMPsGqK7d0DvGxS03lP/A1+3nTP0XwhycF0FwMA3DXdHUjDMpv7ebyXR2pnupc3v4HuWN5JdFcw3JRkRo8JkCTNL9M9dHYO8OKq2gKQZBHwv+mOAUqS9ISme9XZHttDpve9XVhXkjSPTbdHc22S63j8Zp2Tgc+2KUmSNJc8adAk+VfAwVX1J0l+G/g1uisUvgx8fAj1SZJ2czs7/PVB4J8BqupTVfXOqnoHXW/mg21LkySNUpJVSTYkuXs2jxfYWdAsr6pv7NhYVevpRgmVJDWWhXtuSlIDey3cc9NO95ksoBvF+VXA4cApSQ6fSf07O0ez41g6kz11JjuUJO2iR7ctftZ7rrlxUJv77l+89rhpLHY0cHdVfQcgyWXAicAdu7q/nfVovpLkD3dsTHIq8NUplpckzQ1LgI2Tpif6tl22sx7N24FPJ3kjjwfLSronvf3WTHYoSdotTDWm04xGb37SoOnHyjkmyW8AR/TNn6mqz81kZ5Kk3cYEsHTS9CHATs/tTGW6Y519Hvj8THYgSdotfQVY0T/C+X66RwT87kw2NN0bNiVJ80hVbUvyVuA6usfDXFhVt89kWwaNJI27BQs3T/NKsWlvbzqLVdVnGcAoMAaNJI252vbTZ466htlwYExJUlMGjSSpKYNGktSUQSNJasqgkSQ1ZdBIkn5BkguTbEly22y3ZdBI0pjbe2EG+piAvRdmOkPJXAysGkT9I7mPJskzgI/SjZ9WwFuADcDldM+5uRd4Q1X9v1HUJ0nj5CePsrje+7QbB7W9vP/h43a2TFV9McnyQexvVD2aDwHXVtVzgBcAdwJnAeuqagWwrp+es5YsXUaSWb2WLF026q8hSTs19B5NkqcBvw78PkBV/QT4SZITgeP6xS4BbgTeM+z6hmXTxEZOvuBLs9rG5acfM6BqJKmdUfRong1sBS5K8vUkH02yL3BwVW0G6N8PmmrlJKclWZ9k/datW4dXtSRpRkYRNAuBI4GPVNWLgB+xC4fJqmptVa2sqpWLFi1qVaMkaUBGETQTwERV3dRPX0kXPA8mWQzQv28ZQW2SJCDJpcCXgcOSTCQ5dabbGvo5mqp6IMnGJIdV1QbgeOCO/rUGOK9/v2rYtUnSONprAZunc6XYrmxvZ8tU1SmD2t+oHhPwNuDjSfYCvgO8ma53dUWfmvcBJ42oNkkaK49sq936MQEjCZqqugVYOcWs44dciiSpMUcGkCQ1ZdBIkpoyaCRJTRk0kqSmDBoJYI+Fjj0nNTKqy5ul8fLYNseekxqxRyNJasqgkSQ1ZdBIkpoyaCRJTRk0kqSmDBpJUlMGjSSpKYNGktSUQSNJasqgkSQ1ZdBIkpoyaCRJTRk0kqSmDBpJUlMGjSSpKYNGktSUQSNJasqgkSQ1ZdBIkpoyaCRJTRk0kqSmDBpJUlMGjSSpKYNGktSUQSNJasqgkSQ1NbKgSbIgydeTXNNPH5DkhiR39e/7j6o2SdLgjLJHcyZw56Tps4B1VbUCWNdPayeSzOolSa0tHMVOkxwCvAY4F3hn33wicFz/+RLgRuA9w65td1MXvWZW6+fNnxlQJZI0tVH1aD4IvBt4bFLbwVW1GaB/P2iqFZOclmR9kvVbt25tXqgkaXaGHjRJXgtsqaqvzmT9qlpbVSurauWiRYsGXJ0kadBGcejsWOCEJK8GngI8LcnfAA8mWVxVm5MsBraMoDZJ0oANvUdTVWdX1SFVtRxYDXyuqt4EXA2s6RdbA1w17NokSYM3TvfRnAe8IsldwCv66bG0fOkSr/aSpGkayVVn21XVjXRXl1FV3wOOH2U90/XdiU1e7SVJ0zROPRpJ0hxk0EiSmjJoJElNGTSSpKYMGklSUwaNJKkpg0YaoNneX7V86ZJRfwVp4EZ6H40013h/lfSL7NFIkpoyaCRJTRk0kqSmDBpJUlMGjSSpKYNGktSUQSNJasqgkSQ1ZdBIkpoyaCRJTRk00jjZY+Gsx0tbsnTZqL+F9HMc60waJ49t4+QLvjSrTVx++jEDKkYaDHs0kqSmDBpJUlMGjSSpKYNGktSUQSNJasqgkSQ1ZdBIkpqal0GzZOmyWd0Qxx7efiRJ0zUv/8XcNLFxVjfFeUOcJE3fvOzRSJKGx6CRJDVl0EiSmhp60CRZmuTzSe5McnuSM/v2A5LckOSu/n3/YdcmSRq8UfRotgHvqqrnAi8FzkhyOHAWsK6qVgDr+mlJ0m5u6EFTVZur6mv9538G7gSWACcCl/SLXQK8bti1SZIGb6TnaJIsB14E3AQcXFWboQsj4KAnWOe0JOuTrN+6devQapV2J7O5T2z50iWjLl9zzMjuo0myH/BJ4O1V9XCSaa1XVWuBtQArV66sdhVKu6+66DUzXjdv/swAK5FG1KNJsiddyHy8qj7VNz+YZHE/fzGwZRS1SZIGaxRXnQX4GHBnVf3lpFlXA2v6z2uAq4ZdmyRp8EZx6OxY4PeAbya5pW/7U+A84IokpwL3ASeNoDZJ0oANPWiq6u+BJzohc/wwa5EktefIAJKkpgwaSVJTBo0kqSmDRpLUlEEjSWrKoJEkNWXQSJKaMmgkSU0ZNJJ+3h4LZzX6cxKWLF026m+hMTKy0ZsljanHtnHyBV+a1SYuP/2YARWjucAejSSpKYNGktSUQSNJasqgkSQ1ZdBIkpoyaCRJTRk0kqSmDBpJUlMGjSSpKYNGktSUQSNJasqgkSQ1ZdBIkpoyaCQ1MdtHDSzca28fVTBH+JgASU3URa+Z1fp582dm9bgCH1UwPuzRSJKaMmgkSU0ZNJKkpgwaSVJTBo0kqSmDRpLUlEEjSWpq7IImyaokG5LcneSsUdcjSZqdsQqaJAuAvwJeBRwOnJLk8NFWJWl3NdvRCZYvXTLqrzAnjNvIAEcDd1fVdwCSXAacCNwx0qok7ZYGMTqBZi9VNeoafibJ64FVVfUH/fTvAS+pqrdOWuY04LR+8jBgwwx2dSDw0CzLna1xqAHGow5reNw41DEONcB41DGTGh6qqlUtitldjVuPJlO0/VwSVtVaYO2sdpKsr6qVs9nGbI1DDeNShzWMVx3jUMO41DEONcwFY3WOBpgAlk6aPgTYNKJaJEkDMG5B8xVgRZJDk+wFrAauHnFNkqRZGKtDZ1W1LclbgeuABcCFVXV7g13N6tDbgIxDDTAedVjD48ahjnGoAcajjnGoYbc3VhcDSJLmnnE7dCZJmmMMGklSU/MqaEY1vE2SC5NsSXLbpLYDktyQ5K7+ff/GNSxN8vkkdya5PcmZw64jyVOS3Jzk1r6G9w+7hkm1LEjy9STXjLCGe5N8M8ktSdaPsI5nJLkyybf634+XDfn34rD+Z7D99XCSt4/g78g7+t/L25Jc2v++Dv3PYy6aN0Ez4uFtLgZ2vIHrLGBdVa0A1vXTLW0D3lVVzwVeCpzRf/9h1vEI8PKqegHwQmBVkpcOuYbtzgTunDQ9ihoAfqOqXjjpXo1R1PEh4Nqqeg7wArqfy9DqqKoN/c/ghcBRwI+BTw+zhiRLgD8CVlbVEXQXI60eZg1zWlXNixfwMuC6SdNnA2cPcf/LgdsmTW8AFvefFwMbhvzzuAp4xajqAPYBvga8ZNg10N2ftQ54OXDNqP48gHuBA3doG/bP4mnAPfQXBo2qjkn7/XfAPwy7BmAJsBE4gO5q3Gv6Wkb693SuvOZNj4bHf5G2m+jbRuXgqtoM0L8fNKwdJ1kOvAi4adh19IesbgG2ADdU1dBrAD4IvBt4bFLbKP48Crg+yVf7oZVGUcezga3ARf2hxI8m2XcEdWy3Gri0/zy0GqrqfuADwH3AZuAHVXX9MGuYy+ZT0Ox0eJv5IMl+wCeBt1fVw8Pef1U9Wt0hkkOAo5McMcz9J3ktsKWqvjrM/T6BY6vqSLrDuWck+fUR1LAQOBL4SFW9CPgRIzo81N+kfQLwiRHse3+6AXwPBZ4J7JvkTcOuY66aT0EzbsPbPJhkMUD/vqX1DpPsSRcyH6+qT42qDoCq+ifgRrpzV8Os4VjghCT3ApcBL0/yN0OuAYCq2tS/b6E7J3H0COqYACb6niXAlXTBM4rfi1cBX6uqB/vpYdbwm8A9VbW1qn4KfAo4Zsg1zFnzKWjGbXibq4E1/ec1dOdMmkkS4GPAnVX1l6OoI8miJM/oPz+V7i/3t4ZZQ1WdXVWHVNVyut+Bz1XVm4ZZA0CSfZP80vbPdOcDbht2HVX1ALAxyWF90/F0j+UYah29U3j8sBlDruE+4KVJ9un/rhxPd1HEKH4Oc8+oTxIN8wW8Gvg28H+Bc4a430vpjvv+lO5/kKcCv0x3Qvqu/v2AxjX8Gt2hwm8At/SvVw+zDuD5wNf7Gm4D/qxvH+rPYlI9x/H4xQDD/vN4NnBr/7p9++/jKH4WdFcAru//XP4nsP8Ifh77AN8Dnj6pbdg1vJ/uPz63AX8N7D2q38259nIIGklSU/Pp0JkkaQQMGklSUwaNJKkpg0aS1JRBI0lqyqDRvJHkt5JUkueMuhZpPjFoNJ+cAvw93Y2akobEoNG80I/xdizdzbKr+7Y9kpzfP4PkmiSfTfL6ft5RSb7QD3h53fZhSCTtOoNG88Xr6J658m3g+0mOBH6b7vENvwr8Ad2jJLaPCfdh4PVVdRRwIXDuCGqW5oSFoy5AGpJT6B4PAN1gmqcAewKfqKrHgAeSfL6ffxhwBHBDN+wVC+iGEJI0AwaN5rwkv0z3kLMjkhRdcBTdiMlTrgLcXlUvG1KJ0pzmoTPNB68H/kdVPauqllfVUrqnSj4E/E5/ruZgukE2oXuq4qIkPzuUluR5oyhcmgsMGs0Hp/CLvZdP0j3gaoJutN4L6J44+oOq+gldOP1FklvpRro+ZmjVSnOMozdrXkuyX1X9sD+8djPdUy8fGHVd0lziORrNd9f0D2PbC/hzQ0YaPHs0kqSmPEcjSWrKoJEkNWXQSJKaMmgkSU0ZNJKkpv4/R5jYRE8IWswAAAAASUVORK5CYII=\n",
      "text/plain": [
       "<Figure size 411.875x360 with 1 Axes>"
      ]
     },
     "metadata": {
      "needs_background": "light"
     },
     "output_type": "display_data"
    }
   ],
   "source": [
    "sns.displot(df, x=\"Age\", hue=\"Survived\", multiple=\"dodge\", bins=[0, 10, 20, 30, 40, 50, 60, 70, 80])"
   ]
  },
  {
   "cell_type": "code",
   "execution_count": 177,
   "metadata": {},
   "outputs": [
    {
     "data": {
      "text/plain": [
       "<seaborn.axisgrid.FacetGrid at 0x7febefa30fd0>"
      ]
     },
     "execution_count": 177,
     "metadata": {},
     "output_type": "execute_result"
    },
    {
     "data": {
      "image/png": "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\n",
      "text/plain": [
       "<Figure size 411.875x360 with 1 Axes>"
      ]
     },
     "metadata": {
      "needs_background": "light"
     },
     "output_type": "display_data"
    }
   ],
   "source": [
    "sns.displot(df, x=\"Age\", hue=\"Survived\", multiple=\"dodge\", stat=\"density\", common_norm=False, bins=[0, 10, 20, 30, 40, 50, 60, 70, 80])"
   ]
  },
  {
   "cell_type": "markdown",
   "metadata": {},
   "source": [
    "## 1.6. Calculate the average age for survived and drowned passengers separately."
   ]
  },
  {
   "cell_type": "code",
   "execution_count": 178,
   "metadata": {},
   "outputs": [
    {
     "name": "stdout",
     "output_type": "stream",
     "text": [
      "Average survivor age: 28.3\n",
      "Average drowned age: 30.6\n"
     ]
    }
   ],
   "source": [
    "print(\"Average survivor age:\", round(df[df[\"Survived\"] == 1][\"Age\"].mean(), 1))\n",
    "print(\"Average drowned age:\", round(df[df[\"Survived\"] == 0][\"Age\"].mean(), 1))"
   ]
  },
  {
   "cell_type": "code",
   "execution_count": 179,
   "metadata": {},
   "outputs": [
    {
     "data": {
      "text/html": [
       "<div>\n",
       "<style scoped>\n",
       "    .dataframe tbody tr th:only-of-type {\n",
       "        vertical-align: middle;\n",
       "    }\n",
       "\n",
       "    .dataframe tbody tr th {\n",
       "        vertical-align: top;\n",
       "    }\n",
       "\n",
       "    .dataframe thead th {\n",
       "        text-align: right;\n",
       "    }\n",
       "</style>\n",
       "<table border=\"1\" class=\"dataframe\">\n",
       "  <thead>\n",
       "    <tr style=\"text-align: right;\">\n",
       "      <th></th>\n",
       "      <th>Age</th>\n",
       "    </tr>\n",
       "    <tr>\n",
       "      <th>Survived</th>\n",
       "      <th></th>\n",
       "    </tr>\n",
       "  </thead>\n",
       "  <tbody>\n",
       "    <tr>\n",
       "      <th>0</th>\n",
       "      <td>30.626179</td>\n",
       "    </tr>\n",
       "    <tr>\n",
       "      <th>1</th>\n",
       "      <td>28.343690</td>\n",
       "    </tr>\n",
       "  </tbody>\n",
       "</table>\n",
       "</div>"
      ],
      "text/plain": [
       "                Age\n",
       "Survived           \n",
       "0         30.626179\n",
       "1         28.343690"
      ]
     },
     "execution_count": 179,
     "metadata": {},
     "output_type": "execute_result"
    }
   ],
   "source": [
    "df.groupby('Survived')[['Age']].mean()"
   ]
  },
  {
   "cell_type": "markdown",
   "metadata": {},
   "source": [
    "## 1.7. Replace missing age values by the mean age."
   ]
  },
  {
   "cell_type": "code",
   "execution_count": 807,
   "metadata": {},
   "outputs": [
    {
     "data": {
      "text/html": [
       "<div>\n",
       "<style scoped>\n",
       "    .dataframe tbody tr th:only-of-type {\n",
       "        vertical-align: middle;\n",
       "    }\n",
       "\n",
       "    .dataframe tbody tr th {\n",
       "        vertical-align: top;\n",
       "    }\n",
       "\n",
       "    .dataframe thead th {\n",
       "        text-align: right;\n",
       "    }\n",
       "</style>\n",
       "<table border=\"1\" class=\"dataframe\">\n",
       "  <thead>\n",
       "    <tr style=\"text-align: right;\">\n",
       "      <th></th>\n",
       "      <th>PassengerId</th>\n",
       "      <th>Survived</th>\n",
       "      <th>Name</th>\n",
       "      <th>Ticket</th>\n",
       "      <th>Cabin</th>\n",
       "      <th>x0_C</th>\n",
       "      <th>x0_Q</th>\n",
       "      <th>x0_S</th>\n",
       "      <th>Pclass</th>\n",
       "      <th>Age</th>\n",
       "      <th>SibSp</th>\n",
       "      <th>Parch</th>\n",
       "      <th>Sex_male</th>\n",
       "      <th>Fare</th>\n",
       "    </tr>\n",
       "  </thead>\n",
       "  <tbody>\n",
       "    <tr>\n",
       "      <th>0</th>\n",
       "      <td>1</td>\n",
       "      <td>0</td>\n",
       "      <td>Braund, Mr. Owen Harris</td>\n",
       "      <td>A/5 21171</td>\n",
       "      <td>NaN</td>\n",
       "      <td>0.0</td>\n",
       "      <td>0.0</td>\n",
       "      <td>1.0</td>\n",
       "      <td>0.827377</td>\n",
       "      <td>0</td>\n",
       "      <td>0.432793</td>\n",
       "      <td>-0.473674</td>\n",
       "      <td>0.737695</td>\n",
       "      <td>-0.502445</td>\n",
       "    </tr>\n",
       "    <tr>\n",
       "      <th>1</th>\n",
       "      <td>2</td>\n",
       "      <td>1</td>\n",
       "      <td>Cumings, Mrs. John Bradley (Florence Briggs Th...</td>\n",
       "      <td>PC 17599</td>\n",
       "      <td>C85</td>\n",
       "      <td>1.0</td>\n",
       "      <td>0.0</td>\n",
       "      <td>0.0</td>\n",
       "      <td>-1.566107</td>\n",
       "      <td>0</td>\n",
       "      <td>0.432793</td>\n",
       "      <td>-0.473674</td>\n",
       "      <td>-1.355574</td>\n",
       "      <td>0.786845</td>\n",
       "    </tr>\n",
       "    <tr>\n",
       "      <th>2</th>\n",
       "      <td>3</td>\n",
       "      <td>1</td>\n",
       "      <td>Heikkinen, Miss. Laina</td>\n",
       "      <td>STON/O2. 3101282</td>\n",
       "      <td>NaN</td>\n",
       "      <td>0.0</td>\n",
       "      <td>0.0</td>\n",
       "      <td>1.0</td>\n",
       "      <td>0.827377</td>\n",
       "      <td>0</td>\n",
       "      <td>-0.474545</td>\n",
       "      <td>-0.473674</td>\n",
       "      <td>-1.355574</td>\n",
       "      <td>-0.488854</td>\n",
       "    </tr>\n",
       "    <tr>\n",
       "      <th>3</th>\n",
       "      <td>4</td>\n",
       "      <td>1</td>\n",
       "      <td>Futrelle, Mrs. Jacques Heath (Lily May Peel)</td>\n",
       "      <td>113803</td>\n",
       "      <td>C123</td>\n",
       "      <td>0.0</td>\n",
       "      <td>0.0</td>\n",
       "      <td>1.0</td>\n",
       "      <td>-1.566107</td>\n",
       "      <td>0</td>\n",
       "      <td>0.432793</td>\n",
       "      <td>-0.473674</td>\n",
       "      <td>-1.355574</td>\n",
       "      <td>0.420730</td>\n",
       "    </tr>\n",
       "    <tr>\n",
       "      <th>4</th>\n",
       "      <td>5</td>\n",
       "      <td>0</td>\n",
       "      <td>Allen, Mr. William Henry</td>\n",
       "      <td>373450</td>\n",
       "      <td>NaN</td>\n",
       "      <td>0.0</td>\n",
       "      <td>0.0</td>\n",
       "      <td>1.0</td>\n",
       "      <td>0.827377</td>\n",
       "      <td>0</td>\n",
       "      <td>-0.474545</td>\n",
       "      <td>-0.473674</td>\n",
       "      <td>0.737695</td>\n",
       "      <td>-0.486337</td>\n",
       "    </tr>\n",
       "    <tr>\n",
       "      <th>...</th>\n",
       "      <td>...</td>\n",
       "      <td>...</td>\n",
       "      <td>...</td>\n",
       "      <td>...</td>\n",
       "      <td>...</td>\n",
       "      <td>...</td>\n",
       "      <td>...</td>\n",
       "      <td>...</td>\n",
       "      <td>...</td>\n",
       "      <td>...</td>\n",
       "      <td>...</td>\n",
       "      <td>...</td>\n",
       "      <td>...</td>\n",
       "      <td>...</td>\n",
       "    </tr>\n",
       "    <tr>\n",
       "      <th>886</th>\n",
       "      <td>887</td>\n",
       "      <td>0</td>\n",
       "      <td>Montvila, Rev. Juozas</td>\n",
       "      <td>211536</td>\n",
       "      <td>NaN</td>\n",
       "      <td>0.0</td>\n",
       "      <td>0.0</td>\n",
       "      <td>1.0</td>\n",
       "      <td>-0.369365</td>\n",
       "      <td>0</td>\n",
       "      <td>-0.474545</td>\n",
       "      <td>-0.473674</td>\n",
       "      <td>0.737695</td>\n",
       "      <td>-0.386671</td>\n",
       "    </tr>\n",
       "    <tr>\n",
       "      <th>887</th>\n",
       "      <td>888</td>\n",
       "      <td>1</td>\n",
       "      <td>Graham, Miss. Margaret Edith</td>\n",
       "      <td>112053</td>\n",
       "      <td>B42</td>\n",
       "      <td>0.0</td>\n",
       "      <td>0.0</td>\n",
       "      <td>1.0</td>\n",
       "      <td>-1.566107</td>\n",
       "      <td>0</td>\n",
       "      <td>-0.474545</td>\n",
       "      <td>-0.473674</td>\n",
       "      <td>-1.355574</td>\n",
       "      <td>-0.044381</td>\n",
       "    </tr>\n",
       "    <tr>\n",
       "      <th>888</th>\n",
       "      <td>889</td>\n",
       "      <td>0</td>\n",
       "      <td>Johnston, Miss. Catherine Helen \"Carrie\"</td>\n",
       "      <td>W./C. 6607</td>\n",
       "      <td>NaN</td>\n",
       "      <td>0.0</td>\n",
       "      <td>0.0</td>\n",
       "      <td>1.0</td>\n",
       "      <td>0.827377</td>\n",
       "      <td>0</td>\n",
       "      <td>0.432793</td>\n",
       "      <td>2.008933</td>\n",
       "      <td>-1.355574</td>\n",
       "      <td>-0.176263</td>\n",
       "    </tr>\n",
       "    <tr>\n",
       "      <th>889</th>\n",
       "      <td>890</td>\n",
       "      <td>1</td>\n",
       "      <td>Behr, Mr. Karl Howell</td>\n",
       "      <td>111369</td>\n",
       "      <td>C148</td>\n",
       "      <td>1.0</td>\n",
       "      <td>0.0</td>\n",
       "      <td>0.0</td>\n",
       "      <td>-1.566107</td>\n",
       "      <td>0</td>\n",
       "      <td>-0.474545</td>\n",
       "      <td>-0.473674</td>\n",
       "      <td>0.737695</td>\n",
       "      <td>-0.044381</td>\n",
       "    </tr>\n",
       "    <tr>\n",
       "      <th>890</th>\n",
       "      <td>891</td>\n",
       "      <td>0</td>\n",
       "      <td>Dooley, Mr. Patrick</td>\n",
       "      <td>370376</td>\n",
       "      <td>NaN</td>\n",
       "      <td>0.0</td>\n",
       "      <td>1.0</td>\n",
       "      <td>0.0</td>\n",
       "      <td>0.827377</td>\n",
       "      <td>0</td>\n",
       "      <td>-0.474545</td>\n",
       "      <td>-0.473674</td>\n",
       "      <td>0.737695</td>\n",
       "      <td>-0.492378</td>\n",
       "    </tr>\n",
       "  </tbody>\n",
       "</table>\n",
       "<p>891 rows × 14 columns</p>\n",
       "</div>"
      ],
      "text/plain": [
       "     PassengerId  Survived                                               Name  \\\n",
       "0              1         0                            Braund, Mr. Owen Harris   \n",
       "1              2         1  Cumings, Mrs. John Bradley (Florence Briggs Th...   \n",
       "2              3         1                             Heikkinen, Miss. Laina   \n",
       "3              4         1       Futrelle, Mrs. Jacques Heath (Lily May Peel)   \n",
       "4              5         0                           Allen, Mr. William Henry   \n",
       "..           ...       ...                                                ...   \n",
       "886          887         0                              Montvila, Rev. Juozas   \n",
       "887          888         1                       Graham, Miss. Margaret Edith   \n",
       "888          889         0           Johnston, Miss. Catherine Helen \"Carrie\"   \n",
       "889          890         1                              Behr, Mr. Karl Howell   \n",
       "890          891         0                                Dooley, Mr. Patrick   \n",
       "\n",
       "               Ticket Cabin  x0_C  x0_Q  x0_S    Pclass  Age     SibSp  \\\n",
       "0           A/5 21171   NaN   0.0   0.0   1.0  0.827377    0  0.432793   \n",
       "1            PC 17599   C85   1.0   0.0   0.0 -1.566107    0  0.432793   \n",
       "2    STON/O2. 3101282   NaN   0.0   0.0   1.0  0.827377    0 -0.474545   \n",
       "3              113803  C123   0.0   0.0   1.0 -1.566107    0  0.432793   \n",
       "4              373450   NaN   0.0   0.0   1.0  0.827377    0 -0.474545   \n",
       "..                ...   ...   ...   ...   ...       ...  ...       ...   \n",
       "886            211536   NaN   0.0   0.0   1.0 -0.369365    0 -0.474545   \n",
       "887            112053   B42   0.0   0.0   1.0 -1.566107    0 -0.474545   \n",
       "888        W./C. 6607   NaN   0.0   0.0   1.0  0.827377    0  0.432793   \n",
       "889            111369  C148   1.0   0.0   0.0 -1.566107    0 -0.474545   \n",
       "890            370376   NaN   0.0   1.0   0.0  0.827377    0 -0.474545   \n",
       "\n",
       "        Parch  Sex_male      Fare  \n",
       "0   -0.473674  0.737695 -0.502445  \n",
       "1   -0.473674 -1.355574  0.786845  \n",
       "2   -0.473674 -1.355574 -0.488854  \n",
       "3   -0.473674 -1.355574  0.420730  \n",
       "4   -0.473674  0.737695 -0.486337  \n",
       "..        ...       ...       ...  \n",
       "886 -0.473674  0.737695 -0.386671  \n",
       "887 -0.473674 -1.355574 -0.044381  \n",
       "888  2.008933 -1.355574 -0.176263  \n",
       "889 -0.473674  0.737695 -0.044381  \n",
       "890 -0.473674  0.737695 -0.492378  \n",
       "\n",
       "[891 rows x 14 columns]"
      ]
     },
     "execution_count": 807,
     "metadata": {},
     "output_type": "execute_result"
    }
   ],
   "source": [
    "df[\"Age\"] = df[\"Age\"].fillna(int(df[\"Age\"].mean())).astype(int)\n",
    "df"
   ]
  },
  {
   "cell_type": "markdown",
   "metadata": {},
   "source": [
    "## 1.8. Create a table counting the number of surviving/dead passengers separately for 1st/2nd/3rd class and male/female."
   ]
  },
  {
   "cell_type": "code",
   "execution_count": 181,
   "metadata": {},
   "outputs": [],
   "source": [
    "df_count = pd.crosstab(index=df[\"Pclass\"], columns=[df[\"Sex\"], df[\"Survived\"]]) "
   ]
  },
  {
   "cell_type": "code",
   "execution_count": 182,
   "metadata": {},
   "outputs": [
    {
     "data": {
      "text/html": [
       "<div>\n",
       "<style scoped>\n",
       "    .dataframe tbody tr th:only-of-type {\n",
       "        vertical-align: middle;\n",
       "    }\n",
       "\n",
       "    .dataframe tbody tr th {\n",
       "        vertical-align: top;\n",
       "    }\n",
       "\n",
       "    .dataframe thead tr th {\n",
       "        text-align: left;\n",
       "    }\n",
       "\n",
       "    .dataframe thead tr:last-of-type th {\n",
       "        text-align: right;\n",
       "    }\n",
       "</style>\n",
       "<table border=\"1\" class=\"dataframe\">\n",
       "  <thead>\n",
       "    <tr>\n",
       "      <th>Sex</th>\n",
       "      <th colspan=\"2\" halign=\"left\">female</th>\n",
       "      <th colspan=\"2\" halign=\"left\">male</th>\n",
       "    </tr>\n",
       "    <tr>\n",
       "      <th>Survived</th>\n",
       "      <th>0</th>\n",
       "      <th>1</th>\n",
       "      <th>0</th>\n",
       "      <th>1</th>\n",
       "    </tr>\n",
       "    <tr>\n",
       "      <th>Pclass</th>\n",
       "      <th></th>\n",
       "      <th></th>\n",
       "      <th></th>\n",
       "      <th></th>\n",
       "    </tr>\n",
       "  </thead>\n",
       "  <tbody>\n",
       "    <tr>\n",
       "      <th>1</th>\n",
       "      <td>3</td>\n",
       "      <td>91</td>\n",
       "      <td>77</td>\n",
       "      <td>45</td>\n",
       "    </tr>\n",
       "    <tr>\n",
       "      <th>2</th>\n",
       "      <td>6</td>\n",
       "      <td>70</td>\n",
       "      <td>91</td>\n",
       "      <td>17</td>\n",
       "    </tr>\n",
       "    <tr>\n",
       "      <th>3</th>\n",
       "      <td>72</td>\n",
       "      <td>72</td>\n",
       "      <td>300</td>\n",
       "      <td>47</td>\n",
       "    </tr>\n",
       "  </tbody>\n",
       "</table>\n",
       "</div>"
      ],
      "text/plain": [
       "Sex      female     male    \n",
       "Survived      0   1    0   1\n",
       "Pclass                      \n",
       "1             3  91   77  45\n",
       "2             6  70   91  17\n",
       "3            72  72  300  47"
      ]
     },
     "execution_count": 182,
     "metadata": {},
     "output_type": "execute_result"
    }
   ],
   "source": [
    "df_count"
   ]
  },
  {
   "cell_type": "code",
   "execution_count": 183,
   "metadata": {},
   "outputs": [
    {
     "data": {
      "text/plain": [
       "Pclass  Sex     Survived\n",
       "1       female  1            91\n",
       "                0             3\n",
       "        male    0            77\n",
       "                1            45\n",
       "2       female  1            70\n",
       "                0             6\n",
       "        male    0            91\n",
       "                1            17\n",
       "3       female  0            72\n",
       "                1            72\n",
       "        male    0           300\n",
       "                1            47\n",
       "Name: Survived, dtype: int64"
      ]
     },
     "execution_count": 183,
     "metadata": {},
     "output_type": "execute_result"
    }
   ],
   "source": [
    "df.groupby(['Pclass','Sex'])['Survived'].value_counts()"
   ]
  },
  {
   "cell_type": "code",
   "execution_count": 184,
   "metadata": {},
   "outputs": [
    {
     "data": {
      "text/plain": [
       "<AxesSubplot:xlabel='Survived', ylabel='count'>"
      ]
     },
     "execution_count": 184,
     "metadata": {},
     "output_type": "execute_result"
    },
    {
     "data": {
      "image/png": "iVBORw0KGgoAAAANSUhEUgAAAYUAAAEGCAYAAACKB4k+AAAAOXRFWHRTb2Z0d2FyZQBNYXRwbG90bGliIHZlcnNpb24zLjMuMiwgaHR0cHM6Ly9tYXRwbG90bGliLm9yZy8vihELAAAACXBIWXMAAAsTAAALEwEAmpwYAAAXGklEQVR4nO3df5BdZZ3n8feHkCHMgD8wQWMCJlo48jMNtIlOEBkZFrQcUX5tEDWsKeMfiFjOuqujpYAVV2vEH+WOsiAMoCwYdVQWRxRhWMesCwaJmIAsUaJpiBCCrGGFmMTv/tEnhzbpJJ2kb99u+v2qunXPfe7zPPd7NdUfnnPOPSdVhSRJAHt1uwBJ0uhhKEiSWoaCJKllKEiSWoaCJKm1d7cL2BOTJ0+uGTNmdLsMSRpT7rzzzkeraspg743pUJgxYwZLly7tdhmSNKYk+dX23nP3kSSpZShIklqGgiSpNaaPKUhSt2zcuJG+vj6eeuqpbpeyXZMmTWL69OlMnDhxyGMMBUnaDX19fey///7MmDGDJN0uZxtVxbp16+jr62PmzJlDHufuI0naDU899RTPe97zRmUgACThec973i6vZAwFSdpNozUQttid+gwFSVLLUJCkYTRhwgR6eno44ogjOPPMM/n973+/3b4XXnghn/zkJ0ewup3zQLM6bu7n5na7hF225Pwl3S5BY9S+++7LsmXLADjnnHO49NJLee9739vdonaBKwVJ6pBXvepVrFy5EoBrrrmGo446ilmzZvHWt751m76XX345L3/5y5k1axann356u8L46le/yhFHHMGsWbM4/vjjAVixYgWzZ8+mp6eHo446ivvvv3/YanalIEkdsGnTJr7zne9wyimnsGLFChYtWsSSJUuYPHkyjz322Db9TzvtNN7xjncA8KEPfYgrrriC888/n4svvpjvfve7TJs2jccffxyASy+9lAsuuIBzzjmHP/zhD2zevHnY6nalIEnD6Mknn6Snp4fe3l4OPvhgFixYwK233soZZ5zB5MmTATjggAO2Gbd8+XJe9apXceSRR3LttdeyYsUKAObOncu5557L5Zdf3v7xf+UrX8nHPvYxPvGJT/CrX/2Kfffdd9jqd6UgScNo4DGFLapqp6eHnnvuuXzzm99k1qxZXHXVVdx2221A/6rg9ttv59vf/jY9PT0sW7aMN7/5zcyZM4dvf/vbnHzyyXzxi1/kNa95zbDU70pBkjrsxBNPZPHixaxbtw5g0N1H69evZ+rUqWzcuJFrr722bf/FL37BnDlzuPjii5k8eTKrV6/ml7/8JS9+8Yt597vfzRve8AbuvvvuYavVlYIkddjhhx/OBz/4QV796lczYcIEjj76aK666qo/6fPRj36UOXPm8KIXvYgjjzyS9evXA/C+972P+++/n6rixBNPZNasWXz84x/ny1/+MhMnTuQFL3gBH/7wh4et1lTVsE020np7e8ub7Ix+npKqZ6J7772XQw89tNtl7NRgdSa5s6p6B+vv7iNJUqtjoZBkUpI7kvw0yYokFzXtFyZ5MMmy5vG6AWM+kGRlkvuSnNyp2iRJg+vkMYUNwGuq6okkE4EfJvlO896nq+pPftud5DBgHnA48ELg+0leWlXDdwKuJGmHOrZSqH5PNC8nNo8dHcA4Fbi+qjZU1QPASmB2p+qTJG2ro8cUkkxIsgx4BLi5qm5v3npXkruTXJnkuU3bNGD1gOF9TdvWcy5MsjTJ0rVr13ayfEkadzoaClW1uap6gOnA7CRHAF8AXgL0AGuAS5rug/2yY5uVRVVdVlW9VdU7ZcqUjtQtSePViPxOoaoeT3IbcMrAYwlJLgdubF72AQcNGDYdeGgk6pOkPXXs+64Z1vnu/Ie37bTP29/+dm688UYOPPBAli9fPiyf28mzj6YkeU6zvS/wN8DPk0wd0O1NwJZvcgMwL8k+SWYChwB3dKo+SRrrzj33XG666aZhnbOTK4WpwNVJJtAfPour6sYkX0rSQ/+uoVXAOwGqakWSxcA9wCbgPM88kqTtO/7441m1atWwztmxUKiqu4GjB2nf9kLiT7+3CFjUqZokSTvmL5olSS1DQZLUMhQkSS0vnS1Jw2Aop5AOt7PPPpvbbruNRx99lOnTp3PRRRexYMGCPZrTUJCkMeq6664b9jndfSRJahkKkqSWoSBJahkKkqSWoSBJahkKkqSWp6RK0jD49cVHDut8B3/4Zzvts3r1at72trfxm9/8hr322ouFCxdywQUX7NHnGgqSNEbtvffeXHLJJRxzzDGsX7+eY489lpNOOonDDjtst+d095EkjVFTp07lmGOOAWD//ffn0EMP5cEHH9yjOQ0FSXoGWLVqFXfddRdz5szZo3kMBUka45544glOP/10PvOZz/CsZz1rj+YyFCRpDNu4cSOnn34655xzDqeddtoez2coSNIYVVUsWLCAQw89lPe+973DMqdnH0nSMBjKKaTDbcmSJXzpS1/iyCOPpKenB4CPfexjvO51r9vtOTsWCkkmAT8A9mk+52tV9ZEkBwBfAWYAq4Czquq3zZgPAAuAzcC7q+q7napPksa64447jqoa1jk7uftoA/CaqpoF9ACnJHkF8H7glqo6BLileU2Sw4B5wOHAKcDnk0zoYH2SpK10LBSq3xPNy4nNo4BTgaub9quBNzbbpwLXV9WGqnoAWAnM7lR9kqRtdfRAc5IJSZYBjwA3V9XtwPOrag1A83xg030asHrA8L6mbes5FyZZmmTp2rVrO1m+JI07HQ2FqtpcVT3AdGB2kiN20D2DTTHInJdVVW9V9U6ZMmWYKpUkwQidklpVjwO30X+s4OEkUwGa50eabn3AQQOGTQceGon6JEn9OhYKSaYkeU6zvS/wN8DPgRuA+U23+cC3mu0bgHlJ9kkyEzgEuKNT9UmSttXJ3ylMBa5uziDaC1hcVTcm+RGwOMkC4NfAmQBVtSLJYuAeYBNwXlVt7mB9kjRs5n5u7rDOt+T8JTt8/6mnnuL4449nw4YNbNq0iTPOOIOLLrpojz+3Y6FQVXcDRw/Svg44cTtjFgGLOlWTJD1T7LPPPtx6663st99+bNy4keOOO47Xvva1vOIVr9ijeb3MhSSNQUnYb7/9gP7rH23cuJFksPN1do2hIElj1ObNm+np6eHAAw/kpJNO2uPLZoOhIElj1oQJE1i2bBl9fX3ccccdLF++fI/nNBQkaYx7znOewwknnMBNN920x3MZCpI0Bq1du5bHH38cgCeffJLvf//7vOxlL9vjeb10tiQNg52dQjrc1qxZw/z589m8eTN//OMfOeuss3j961+/x/MaCpI0Bh111FHcddddwz6vu48kSS1DQZLUMhQkaTcN913Phtvu1GcoSNJumDRpEuvWrRu1wVBVrFu3jkmTJu3SOA80S9JumD59On19fYzmm31NmjSJ6dOn79IYQ0GSdsPEiROZOXNmt8sYdu4+kiS1DAVJUstQkCS1DAVJUstQkCS1OhYKSQ5K8q9J7k2yIskFTfuFSR5Msqx5vG7AmA8kWZnkviQnd6o2SdLgOnlK6ibg76rqJ0n2B+5McnPz3qer6pMDOyc5DJgHHA68EPh+kpdW1eYO1ihJGqBjK4WqWlNVP2m21wP3AtN2MORU4Pqq2lBVDwArgdmdqk+StK0ROaaQZAZwNHB70/SuJHcnuTLJc5u2acDqAcP62HGISJKGWcdDIcl+wNeB91TV74AvAC8BeoA1wCVbug4yfJuLiiRZmGRpkqWj+eflkjQWdTQUkkykPxCurap/Bqiqh6tqc1X9Ebicp3cR9QEHDRg+HXho6zmr6rKq6q2q3ilTpnSyfEkadzp59lGAK4B7q+pTA9qnDuj2JmB5s30DMC/JPklmAocAd3SqPknStjp59tFc4K3Az5Isa9r+Hjg7SQ/9u4ZWAe8EqKoVSRYD99B/5tJ5nnkkSSOrY6FQVT9k8OME/7KDMYuARZ2qSZK0Y/6iWZLUMhQkSS1DQZLUMhQkSS1DQZLUMhQkSS1DQZLUMhQkSS1DQZLUMhQkSS1DQZLUMhQkSS1DQZLUMhQkSa0hhUKSW4bSJkka23Z4P4Ukk4A/ByYneS5P3x/hWcALO1ybJGmE7ewmO+8E3kN/ANzJ06HwO+AfO1eWJKkbdhgKVfVZ4LNJzq+qz41QTZKkLhnS7Tir6nNJ/gqYMXBMVV3TobokSV0w1APNXwI+CRwHvLx59O5kzEFJ/jXJvUlWJLmgaT8gyc1J7m+enztgzAeSrExyX5KTd/tbSZJ2y5BWCvQHwGFVVbsw9ybg76rqJ0n2B+5McjNwLnBLVX08yfuB9wP/OclhwDzgcPqPYXw/yUuravMufKYkaQ8M9XcKy4EX7MrEVbWmqn7SbK8H7gWmAacCVzfdrgbe2GyfClxfVRuq6gFgJTB7Vz5TkrRnhrpSmAzck+QOYMOWxqp6w1AGJ5kBHA3cDjy/qtY049ckObDpNg343wOG9TVtW8+1EFgIcPDBBw+xfEnSUAw1FC7c3Q9Ish/wdeA9VfW7JNvtOkjbNrurquoy4DKA3t7eXdmdJUnaiaGeffQ/d2fyJBPpD4Rrq+qfm+aHk0xtVglTgUea9j7goAHDpwMP7c7nSpJ2z1DPPlqf5HfN46kkm5P8bidjAlwB3FtVnxrw1g3A/GZ7PvCtAe3zkuyTZCZwCHDHrnwZSdKeGepKYf+Br5O8kZ0fBJ4LvBX4WZJlTdvfAx8HFidZAPwaOLP5jBVJFgP30H/m0nmeeSRJI2uoxxT+RFV9szmddEd9fsjgxwkATtzOmEXAot2pSZK054YUCklOG/ByL/p/t+BBXkl6hhnqSuFvB2xvAlbR/7sCSdIzyFCPKfyHThciSeq+oZ59ND3JN5I8kuThJF9PMr3TxUmSRtZQL3PxT/SfMvpC+n9l/D+aNknSM8hQQ2FKVf1TVW1qHlcBUzpYlySpC4YaCo8meUuSCc3jLcC6ThYmSRp5Qw2FtwNnAb8B1gBnAB58lqRnmKGekvpRYH5V/Rb6b5RD/0133t6pwiRJI2+oK4WjtgQCQFU9Rv+lsCVJzyBDDYW9trpt5gHs5iUyJEmj11D/sF8C/K8kX6P/8hZn4TWKJOkZZ6i/aL4myVLgNfRf5O60qrqno5VJkkbckHcBNSFgEEjSM9hQjylIksYBQ0GS1DIUJEktQ0GS1DIUJEmtjoVCkiub+y8sH9B2YZIHkyxrHq8b8N4HkqxMcl+SkztVlyRp+zq5UrgKOGWQ9k9XVU/z+BeAJIcB84DDmzGfTzKhg7VJkgbRsVCoqh8Ajw2x+6nA9VW1oaoeAFYCsztVmyRpcN04pvCuJHc3u5e2XE9pGrB6QJ++pm0bSRYmWZpk6dq1aztdqySNKyMdCl8AXgL00H9fhkua9gzStwaboKouq6requqdMsWbv0nScBrRUKiqh6tqc1X9Ebicp3cR9QEHDeg6HXhoJGuTJI1wKCSZOuDlm4AtZybdAMxLsk+SmcAhwB0jWZskqYP3REhyHXACMDlJH/AR4IQkPfTvGloFvBOgqlYkWUz/Bfc2AedV1eZO1SZJGlzHQqGqzh6k+Yod9F+E92iQpK7yF82SpJahIElqeZ9laZQ69n3XdLuEXXbnP7yt2yVoD7lSkCS1DAVJUstQkCS1DAVJUstQkCS1DAVJUstQkCS1DAVJUstQkCS1/EWzpHFt7ufmdruEXbLk/CUdnd+VgiSpZShIklqGgiSpZShIklqGgiSpZShIklodC4UkVyZ5JMnyAW0HJLk5yf3N83MHvPeBJCuT3Jfk5E7VJUnavk6uFK4CTtmq7f3ALVV1CHBL85okhwHzgMObMZ9PMqGDtUmSBtGxUKiqHwCPbdV8KnB1s3018MYB7ddX1YaqegBYCczuVG2SpMGN9DGF51fVGoDm+cCmfRqwekC/vqZtG0kWJlmaZOnatWs7WqwkjTej5UBzBmmrwTpW1WVV1VtVvVOmTOlwWZI0voz0tY8eTjK1qtYkmQo80rT3AQcN6DcdeGiEaxszfn3xkd0uYdc891ndrkDSEI30SuEGYH6zPR/41oD2eUn2STITOAS4Y4Rrk6Rxr2MrhSTXAScAk5P0AR8BPg4sTrIA+DVwJkBVrUiyGLgH2AScV1WbO1WbJGlwHQuFqjp7O2+duJ3+i4BFnapHkrRzo+VAsyRpFPAmO5KGzZg7CQI8EWIrrhQkSS1DQZLUMhQkSa1xf0zh2Pdd0+0Sdtk39u92BZKeqVwpSJJahoIkqWUoSJJahoIkqWUoSJJahoIkqWUoSJJahoIkqWUoSJJahoIkqWUoSJJahoIkqWUoSJJaXblKapJVwHpgM7CpqnqTHAB8BZgBrALOqqrfdqM+SRqvurlS+Ouq6qmq3ub1+4FbquoQ4JbmtSRpBI2m3UenAlc321cDb+xeKZI0PnUrFAr4XpI7kyxs2p5fVWsAmucDBxuYZGGSpUmWrl27doTKlaTxoVt3XptbVQ8lORC4OcnPhzqwqi4DLgPo7e2tThUoSeNRV1YKVfVQ8/wI8A1gNvBwkqkAzfMj3ahNksazEQ+FJH+RZP8t28C/A5YDNwDzm27zgW+NdG2SNN51Y/fR84FvJNny+f+9qm5K8mNgcZIFwK+BM7tQmySNayMeClX1S2DWIO3rgBNHuh5J0tNG0ympkqQuMxQkSS1DQZLUMhQkSS1DQZLUMhQkSS1DQZLUMhQkSS1DQZLUMhQkSS1DQZLUMhQkSS1DQZLUMhQkSS1DQZLUMhQkSS1DQZLUMhQkSS1DQZLUGnWhkOSUJPclWZnk/d2uR5LGk1EVCkkmAP8IvBY4DDg7yWHdrUqSxo9RFQrAbGBlVf2yqv4AXA+c2uWaJGnc2LvbBWxlGrB6wOs+YM7ADkkWAgubl08kuW+Eahs1XtS5qScDj3Zu+rEj7063SxiT/LfZecP0b3O7/1eNtlAY7NvWn7yougy4bGTKGV+SLK2q3m7XIW3Nf5sjZ7TtPuoDDhrwejrwUJdqkaRxZ7SFwo+BQ5LMTPJnwDzghi7XJEnjxqjafVRVm5K8C/guMAG4sqpWdLms8cTdchqt/Lc5QlJVO+8lSRoXRtvuI0lSFxkKkqSWoSAvLaJRK8mVSR5JsrzbtYwXhsI456VFNMpdBZzS7SLGE0NBXlpEo1ZV/QB4rNt1jCeGgga7tMi0LtUiqcsMBe300iKSxg9DQV5aRFLLUJCXFpHUMhTGuaraBGy5tMi9wGIvLaLRIsl1wI+Av0zSl2RBt2t6pvMyF5KklisFSVLLUJAktQwFSVLLUJAktQwFSVLLUJCAJB9MsiLJ3UmWJZkzDHO+YbiuOpvkieGYR9oZT0nVuJfklcCngBOqakOSycCfVdVOf9mdZO/mtx6drvGJqtqv058juVKQYCrwaFVtAKiqR6vqoSSrmoAgSW+S25rtC5NcluR7wDVJbk9y+JbJktyW5Ngk5yb5r0me3cy1V/P+nydZnWRikpckuSnJnUn+LcnLmj4zk/woyY+TfHSE//fQOGYoSPA94KAk/yfJ55O8eghjjgVOrao303+58bMAkkwFXlhVd27pWFX/F/gpsGXevwW+W1Ub6b8h/flVdSzwH4HPN30+C3yhql4O/GaPv6E0RIaCxr2qeoL+P/ILgbXAV5Kcu5NhN1TVk832YuDMZvss4KuD9P8K8O+b7XnNZ+wH/BXw1STLgP9G/6oFYC5wXbP9pV35PtKe2LvbBUijQVVtBm4DbkvyM2A+sImn/8Np0lZD/t+AsQ8mWZfkKPr/8L9zkI+4AfgvSQ6gP4BuBf4CeLyqerZX1u59G2n3uVLQuJfkL5McMqCpB/gVsIr+P+AAp+9kmuuB/wQ8u6p+tvWbzWrkDvp3C91YVZur6nfAA0nObOpIklnNkCX0rygAztnlLyXtJkNBgv2Aq5Pck+Ru+u9VfSFwEfDZJP8GbN7JHF+j/4/44h30+QrwluZ5i3OABUl+Cqzg6VuhXgCcl+THwLN37etIu89TUiVJLVcKkqSWoSBJahkKkqSWoSBJahkKkqSWoSBJahkKkqTW/weEo2RiKl/rpAAAAABJRU5ErkJggg==\n",
      "text/plain": [
       "<Figure size 432x288 with 1 Axes>"
      ]
     },
     "metadata": {
      "needs_background": "light"
     },
     "output_type": "display_data"
    }
   ],
   "source": [
    "sns.countplot(data=df, x=\"Survived\", hue=\"Pclass\")"
   ]
  },
  {
   "cell_type": "markdown",
   "metadata": {},
   "source": [
    "# 2. Train a Logistic Regression classification model"
   ]
  },
  {
   "cell_type": "code",
<<<<<<< HEAD
   "execution_count": 28,
   "metadata": {},
   "outputs": [],
   "source": [
    "import pandas as pd\n",
    "import seaborn as sns\n",
    "from sklearn.model_selection import train_test_split\n",
    "from matplotlib import pyplot as plt"
   ]
  },
  {
   "cell_type": "code",
   "execution_count": 29,
   "metadata": {},
   "outputs": [],
   "source": [
    "df_train = pd.read_csv('data/train.csv', sep=\",\")\n",
    "df_test = pd.read_csv('data/test.csv', sep=\",\")"
=======
   "execution_count": 1556,
   "metadata": {},
   "outputs": [
    {
     "data": {
      "text/html": [
       "<div>\n",
       "<style scoped>\n",
       "    .dataframe tbody tr th:only-of-type {\n",
       "        vertical-align: middle;\n",
       "    }\n",
       "\n",
       "    .dataframe tbody tr th {\n",
       "        vertical-align: top;\n",
       "    }\n",
       "\n",
       "    .dataframe thead th {\n",
       "        text-align: right;\n",
       "    }\n",
       "</style>\n",
       "<table border=\"1\" class=\"dataframe\">\n",
       "  <thead>\n",
       "    <tr style=\"text-align: right;\">\n",
       "      <th></th>\n",
       "      <th>PassengerId</th>\n",
       "      <th>Survived</th>\n",
       "      <th>Pclass</th>\n",
       "      <th>Name</th>\n",
       "      <th>Sex</th>\n",
       "      <th>Age</th>\n",
       "      <th>SibSp</th>\n",
       "      <th>Parch</th>\n",
       "      <th>Ticket</th>\n",
       "      <th>Fare</th>\n",
       "      <th>Cabin</th>\n",
       "      <th>Embarked</th>\n",
       "    </tr>\n",
       "  </thead>\n",
       "  <tbody>\n",
       "    <tr>\n",
       "      <th>0</th>\n",
       "      <td>1</td>\n",
       "      <td>0</td>\n",
       "      <td>3</td>\n",
       "      <td>Braund, Mr. Owen Harris</td>\n",
       "      <td>male</td>\n",
       "      <td>22.0</td>\n",
       "      <td>1</td>\n",
       "      <td>0</td>\n",
       "      <td>A/5 21171</td>\n",
       "      <td>7.2500</td>\n",
       "      <td>NaN</td>\n",
       "      <td>S</td>\n",
       "    </tr>\n",
       "    <tr>\n",
       "      <th>1</th>\n",
       "      <td>2</td>\n",
       "      <td>1</td>\n",
       "      <td>1</td>\n",
       "      <td>Cumings, Mrs. John Bradley (Florence Briggs Th...</td>\n",
       "      <td>female</td>\n",
       "      <td>38.0</td>\n",
       "      <td>1</td>\n",
       "      <td>0</td>\n",
       "      <td>PC 17599</td>\n",
       "      <td>71.2833</td>\n",
       "      <td>C85</td>\n",
       "      <td>C</td>\n",
       "    </tr>\n",
       "    <tr>\n",
       "      <th>2</th>\n",
       "      <td>3</td>\n",
       "      <td>1</td>\n",
       "      <td>3</td>\n",
       "      <td>Heikkinen, Miss. Laina</td>\n",
       "      <td>female</td>\n",
       "      <td>26.0</td>\n",
       "      <td>0</td>\n",
       "      <td>0</td>\n",
       "      <td>STON/O2. 3101282</td>\n",
       "      <td>7.9250</td>\n",
       "      <td>NaN</td>\n",
       "      <td>S</td>\n",
       "    </tr>\n",
       "    <tr>\n",
       "      <th>3</th>\n",
       "      <td>4</td>\n",
       "      <td>1</td>\n",
       "      <td>1</td>\n",
       "      <td>Futrelle, Mrs. Jacques Heath (Lily May Peel)</td>\n",
       "      <td>female</td>\n",
       "      <td>35.0</td>\n",
       "      <td>1</td>\n",
       "      <td>0</td>\n",
       "      <td>113803</td>\n",
       "      <td>53.1000</td>\n",
       "      <td>C123</td>\n",
       "      <td>S</td>\n",
       "    </tr>\n",
       "    <tr>\n",
       "      <th>4</th>\n",
       "      <td>5</td>\n",
       "      <td>0</td>\n",
       "      <td>3</td>\n",
       "      <td>Allen, Mr. William Henry</td>\n",
       "      <td>male</td>\n",
       "      <td>35.0</td>\n",
       "      <td>0</td>\n",
       "      <td>0</td>\n",
       "      <td>373450</td>\n",
       "      <td>8.0500</td>\n",
       "      <td>NaN</td>\n",
       "      <td>S</td>\n",
       "    </tr>\n",
       "  </tbody>\n",
       "</table>\n",
       "</div>"
      ],
      "text/plain": [
       "   PassengerId  Survived  Pclass  \\\n",
       "0            1         0       3   \n",
       "1            2         1       1   \n",
       "2            3         1       3   \n",
       "3            4         1       1   \n",
       "4            5         0       3   \n",
       "\n",
       "                                                Name     Sex   Age  SibSp  \\\n",
       "0                            Braund, Mr. Owen Harris    male  22.0      1   \n",
       "1  Cumings, Mrs. John Bradley (Florence Briggs Th...  female  38.0      1   \n",
       "2                             Heikkinen, Miss. Laina  female  26.0      0   \n",
       "3       Futrelle, Mrs. Jacques Heath (Lily May Peel)  female  35.0      1   \n",
       "4                           Allen, Mr. William Henry    male  35.0      0   \n",
       "\n",
       "   Parch            Ticket     Fare Cabin Embarked  \n",
       "0      0         A/5 21171   7.2500   NaN        S  \n",
       "1      0          PC 17599  71.2833   C85        C  \n",
       "2      0  STON/O2. 3101282   7.9250   NaN        S  \n",
       "3      0            113803  53.1000  C123        S  \n",
       "4      0            373450   8.0500   NaN        S  "
      ]
     },
     "execution_count": 1556,
     "metadata": {},
     "output_type": "execute_result"
    }
   ],
   "source": [
    "df = pd.read_csv('data/train.csv', sep=\",\")\n",
    "df.head()"
>>>>>>> 919260e0344a37d9495170641d01e414d191855d
   ]
  },
  {
   "cell_type": "markdown",
   "metadata": {},
   "source": [
    "## 2.1. Feature Engineering"
   ]
  },
  {
   "cell_type": "markdown",
   "metadata": {},
   "source": [
    "Show which columns contain NaN"
   ]
  },
  {
   "cell_type": "code",
<<<<<<< HEAD
   "execution_count": 30,
=======
   "execution_count": 1557,
>>>>>>> 919260e0344a37d9495170641d01e414d191855d
   "metadata": {},
   "outputs": [
    {
     "name": "stdout",
     "output_type": "stream",
     "text": [
      "NaN in PassengerId: False\n",
      "NaN in Survived: False\n",
      "NaN in Pclass: False\n",
      "NaN in Name: False\n",
      "NaN in Sex: False\n",
      "NaN in Age: True\n",
      "NaN in SibSp: False\n",
      "NaN in Parch: False\n",
      "NaN in Ticket: False\n",
      "NaN in Fare: False\n",
      "NaN in Cabin: True\n",
      "NaN in Embarked: True\n"
     ]
    }
   ],
   "source": [
<<<<<<< HEAD
    "for column in df_train.columns:\n",
    "    print(f\"NaN in {column}:\", df_train[column].isnull().values.any())"
   ]
  },
  {
   "cell_type": "markdown",
   "metadata": {},
   "source": [
    "### Names"
   ]
  },
  {
   "cell_type": "code",
   "execution_count": 31,
   "metadata": {},
   "outputs": [
    {
     "data": {
      "text/plain": [
       "array(['Mr', 'Mrs', 'Miss', 'Master', 'Don', 'Rev', 'Dr', 'Mme', 'Ms',\n",
       "       'Major', 'Lady', 'Sir', 'Mlle', 'Col', 'Capt', 'Countess',\n",
       "       'Jonkheer'], dtype=object)"
      ]
     },
     "execution_count": 31,
     "metadata": {},
     "output_type": "execute_result"
    }
   ],
   "source": [
    "df_train['rank'] = df_train['Name'].str.split('([A-Za-z]+)(\\.)', expand=True)[1]\n",
    "df_train[\"rank\"].unique()"
   ]
  },
  {
   "cell_type": "code",
   "execution_count": 32,
   "metadata": {},
   "outputs": [],
   "source": [
    "for df in (df_train, df_test):\n",
    "    df['rank'] = df['Name'].str.split('([A-Za-z]+)(\\.)', expand=True)[1]\n",
    "    titles = df[\"rank\"].unique().tolist()\n",
    "    rank = [1,1,1,3,4,2,2,1,1,3,4,4,1,3,3,4,4]\n",
    "    # rank = [3,2,1,9,10,4,5,2,2,11,6,8,1,12,13,7,14]\n",
    "    dic = {}\n",
    "    for title, rank in zip(titles, rank):\n",
    "        dic[title] = rank\n",
    "    df[\"rank\"].replace(dic, inplace=True)"
   ]
  },
  {
   "cell_type": "markdown",
   "metadata": {},
   "source": [
    "### Fare"
   ]
  },
  {
   "cell_type": "code",
   "execution_count": 33,
   "metadata": {},
   "outputs": [
    {
     "data": {
      "text/plain": [
       "<function matplotlib.pyplot.show(close=None, block=None)>"
      ]
     },
     "execution_count": 33,
     "metadata": {},
     "output_type": "execute_result"
    },
    {
     "data": {
      "image/png": "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\n",
      "text/plain": [
       "<Figure size 432x288 with 1 Axes>"
      ]
     },
     "metadata": {
      "needs_background": "light"
     },
     "output_type": "display_data"
    }
   ],
   "source": [
    "import numpy as np\n",
    "for df in (df_train, df_test):\n",
    "    \n",
    "    df[\"Fare\"] = np.log(df[\"Fare\"] + 10)\n",
    "    plt.plot(df[\"Fare\"])\n",
    "plt.show"
=======
    "for column in df.columns:\n",
    "    print(f\"NaN in {column}:\", df[column].isnull().values.any())"
>>>>>>> 919260e0344a37d9495170641d01e414d191855d
   ]
  },
  {
   "cell_type": "markdown",
   "metadata": {},
   "source": [
<<<<<<< HEAD
    "### OneHotEncoder for Sex"
=======
    "OneHotEncoder for Sex"
>>>>>>> 919260e0344a37d9495170641d01e414d191855d
   ]
  },
  {
   "cell_type": "code",
<<<<<<< HEAD
   "execution_count": 34,
=======
   "execution_count": 1558,
>>>>>>> 919260e0344a37d9495170641d01e414d191855d
   "metadata": {},
   "outputs": [],
   "source": [
    "from sklearn.preprocessing import OneHotEncoder\n",
    "# ohc_sex = OneHotEncoder(sparse=False, dtype=int)\n",
    "# ohc_sex.fit(df[[\"Sex\"]])\n",
    "# t = ohc_sex.transform(df[[\"Sex\"]])\n",
    "# sex_matrix = pd.DataFrame(t, columns=ohc_sex.get_feature_names())\n",
    "# df = pd.concat([df, sex_matrix], axis=1).drop([\"Sex\"], axis=1)"
   ]
  },
  {
   "cell_type": "code",
<<<<<<< HEAD
   "execution_count": 35,
   "metadata": {},
   "outputs": [],
   "source": [
    "df2 = pd.get_dummies(df_train, prefix=['Sex'], columns = ['Sex'], drop_first=True)\n",
    "df_train = df2\n",
    "df2 = pd.get_dummies(df_test, prefix=['Sex'], columns = ['Sex'], drop_first=True)\n",
    "df_test = df2"
   ]
  },
  {
   "cell_type": "markdown",
   "metadata": {},
   "source": [
    "### Cabin"
   ]
  },
  {
   "cell_type": "code",
   "execution_count": 36,
   "metadata": {},
   "outputs": [],
   "source": [
    "for df in (df_train, df_test):\n",
    "    df[\"Cabin\"] = df[\"Cabin\"].fillna(\"Z\")\n",
    "    result = df[\"Cabin\"].astype(str).str[0]\n",
    "    df[\"deck\"] = result.replace({\"A\": 1, \"B\": 2, \"C\": 3, \"D\": 4, \"E\": 5, \"F\": 6, \"G\": 7, \"T\": 1, \"Z\": 4})\n",
    "    df[\"cabin_number\"] = df[\"Cabin\"].str.split('([A-Za-z]+)(\\d+)', expand=True)[2]\n",
    "    df[\"cabin_number\"] = df[\"cabin_number\"].fillna(0).astype(int)\n",
    "    df[\"cabin_number\"] = df[\"Cabin\"].str.split('([A-Za-z]+)(\\d+)', expand=True)[2]\n",
    "    df[\"cabin_number\"] = df[\"cabin_number\"].fillna(df[\"cabin_number\"].median()).astype(int)"
=======
   "execution_count": 1559,
   "metadata": {},
   "outputs": [],
   "source": [
    "df = pd.get_dummies(df,prefix=['Sex'], columns = ['Sex'], drop_first=True)\n",
    "# df"
>>>>>>> 919260e0344a37d9495170641d01e414d191855d
   ]
  },
  {
   "cell_type": "markdown",
   "metadata": {},
   "source": [
<<<<<<< HEAD
    "### Imputation for Age"
=======
    "Imputation for Age"
>>>>>>> 919260e0344a37d9495170641d01e414d191855d
   ]
  },
  {
   "cell_type": "code",
<<<<<<< HEAD
   "execution_count": 37,
=======
   "execution_count": 1560,
>>>>>>> 919260e0344a37d9495170641d01e414d191855d
   "metadata": {},
   "outputs": [],
   "source": [
    "from sklearn.impute import SimpleImputer\n",
    "# imp_age = SimpleImputer(strategy=\"median\")\n",
    "# imp_age.fit(df[[\"Age\"]])\n",
    "# t = imp_age.transform(df[[\"Age\"]])\n",
    "# df[\"Age\"] = t"
   ]
  },
  {
   "cell_type": "code",
<<<<<<< HEAD
   "execution_count": 38,
   "metadata": {},
   "outputs": [],
   "source": [
    "# df[\"Age\"] = df[\"Age\"].fillna(df[\"Age\"].median()).astype(int)\n",
=======
   "execution_count": 1561,
   "metadata": {},
   "outputs": [],
   "source": [
    "df[\"Age\"] = df[\"Age\"].fillna(df[\"Age\"].median()).astype(int)\n",
>>>>>>> 919260e0344a37d9495170641d01e414d191855d
    "# df"
   ]
  },
  {
<<<<<<< HEAD
   "cell_type": "code",
   "execution_count": 39,
   "metadata": {},
   "outputs": [],
   "source": [
    "for df in (df_train, df_test):\n",
    "    for row, value in df.loc[df[\"Age\"] != type(float)][\"Pclass\"].iteritems():\n",
    "        df.loc[row, \"Age\"] = df.loc[df[\"Pclass\"] == value][\"Age\"].median()"
   ]
  },
  {
   "cell_type": "markdown",
   "metadata": {},
   "source": [
    "### Pipeline of OHE and Imputation for Embarked"
=======
   "cell_type": "markdown",
   "metadata": {},
   "source": [
    "Pipeline of OHE and Imputation for Embarked"
>>>>>>> 919260e0344a37d9495170641d01e414d191855d
   ]
  },
  {
   "cell_type": "code",
<<<<<<< HEAD
   "execution_count": 40,
   "metadata": {},
   "outputs": [],
   "source": [
    "from sklearn.pipeline import make_pipeline\n",
    "impute_and_encode = make_pipeline(SimpleImputer(strategy='most_frequent'), OneHotEncoder(sparse=False))"
=======
   "execution_count": 1562,
   "metadata": {},
   "outputs": [],
   "source": [
    "impute_and_encode = make_pipeline(\n",
    "    SimpleImputer(strategy='most_frequent'), \n",
    "    OneHotEncoder(sparse=False)\n",
    ")"
>>>>>>> 919260e0344a37d9495170641d01e414d191855d
   ]
  },
  {
   "cell_type": "code",
<<<<<<< HEAD
   "execution_count": 41,
   "metadata": {},
   "outputs": [],
   "source": [
    "for df in (df_train, df_test):\n",
    "    impute_and_encode.fit(df[[\"Embarked\"]])\n",
    "    t = impute_and_encode.transform(df[[\"Embarked\"]])\n",
    "    embarked_matrix = pd.DataFrame(t, columns=impute_and_encode[1].get_feature_names())\n",
    "    df = pd.concat([df, embarked_matrix], axis=1).drop([\"Embarked\"], axis=1)"
=======
   "execution_count": 1563,
   "metadata": {},
   "outputs": [],
   "source": [
    "impute_and_encode.fit(df[[\"Embarked\"]])\n",
    "t = impute_and_encode.transform(df[[\"Embarked\"]])\n",
    "embarked_matrix = pd.DataFrame(t, columns=impute_and_encode[1].get_feature_names())\n",
    "df = pd.concat([df, embarked_matrix], axis=1).drop([\"Embarked\"], axis=1)"
>>>>>>> 919260e0344a37d9495170641d01e414d191855d
   ]
  },
  {
   "cell_type": "code",
<<<<<<< HEAD
   "execution_count": 42,
=======
   "execution_count": 1564,
>>>>>>> 919260e0344a37d9495170641d01e414d191855d
   "metadata": {
    "scrolled": false
   },
   "outputs": [
    {
     "data": {
      "text/html": [
       "<div>\n",
       "<style scoped>\n",
       "    .dataframe tbody tr th:only-of-type {\n",
       "        vertical-align: middle;\n",
       "    }\n",
       "\n",
       "    .dataframe tbody tr th {\n",
       "        vertical-align: top;\n",
       "    }\n",
       "\n",
       "    .dataframe thead th {\n",
       "        text-align: right;\n",
       "    }\n",
       "</style>\n",
       "<table border=\"1\" class=\"dataframe\">\n",
       "  <thead>\n",
       "    <tr style=\"text-align: right;\">\n",
       "      <th></th>\n",
       "      <th>PassengerId</th>\n",
       "      <th>Survived</th>\n",
       "      <th>Pclass</th>\n",
       "      <th>Name</th>\n",
       "      <th>Age</th>\n",
       "      <th>SibSp</th>\n",
       "      <th>Parch</th>\n",
       "      <th>Ticket</th>\n",
       "      <th>Fare</th>\n",
       "      <th>Cabin</th>\n",
<<<<<<< HEAD
       "      <th>Embarked</th>\n",
       "      <th>rank</th>\n",
       "      <th>Sex_male</th>\n",
       "      <th>deck</th>\n",
       "      <th>cabin_number</th>\n",
=======
       "      <th>Sex_male</th>\n",
       "      <th>x0_C</th>\n",
       "      <th>x0_Q</th>\n",
       "      <th>x0_S</th>\n",
>>>>>>> 919260e0344a37d9495170641d01e414d191855d
       "    </tr>\n",
       "  </thead>\n",
       "  <tbody>\n",
       "    <tr>\n",
       "      <th>0</th>\n",
       "      <td>1</td>\n",
       "      <td>0</td>\n",
       "      <td>3</td>\n",
       "      <td>Braund, Mr. Owen Harris</td>\n",
<<<<<<< HEAD
       "      <td>24.0</td>\n",
       "      <td>1</td>\n",
       "      <td>0</td>\n",
       "      <td>A/5 21171</td>\n",
       "      <td>2.847812</td>\n",
       "      <td>Z</td>\n",
       "      <td>S</td>\n",
       "      <td>1</td>\n",
       "      <td>1</td>\n",
       "      <td>4</td>\n",
       "      <td>43</td>\n",
=======
       "      <td>22</td>\n",
       "      <td>1</td>\n",
       "      <td>0</td>\n",
       "      <td>A/5 21171</td>\n",
       "      <td>7.2500</td>\n",
       "      <td>NaN</td>\n",
       "      <td>1</td>\n",
       "      <td>0.0</td>\n",
       "      <td>0.0</td>\n",
       "      <td>1.0</td>\n",
>>>>>>> 919260e0344a37d9495170641d01e414d191855d
       "    </tr>\n",
       "    <tr>\n",
       "      <th>1</th>\n",
       "      <td>2</td>\n",
       "      <td>1</td>\n",
       "      <td>1</td>\n",
       "      <td>Cumings, Mrs. John Bradley (Florence Briggs Th...</td>\n",
<<<<<<< HEAD
       "      <td>37.0</td>\n",
       "      <td>1</td>\n",
       "      <td>0</td>\n",
       "      <td>PC 17599</td>\n",
       "      <td>4.397941</td>\n",
       "      <td>C85</td>\n",
       "      <td>C</td>\n",
       "      <td>1</td>\n",
       "      <td>0</td>\n",
       "      <td>3</td>\n",
       "      <td>85</td>\n",
=======
       "      <td>38</td>\n",
       "      <td>1</td>\n",
       "      <td>0</td>\n",
       "      <td>PC 17599</td>\n",
       "      <td>71.2833</td>\n",
       "      <td>C85</td>\n",
       "      <td>0</td>\n",
       "      <td>1.0</td>\n",
       "      <td>0.0</td>\n",
       "      <td>0.0</td>\n",
>>>>>>> 919260e0344a37d9495170641d01e414d191855d
       "    </tr>\n",
       "    <tr>\n",
       "      <th>2</th>\n",
       "      <td>3</td>\n",
       "      <td>1</td>\n",
       "      <td>3</td>\n",
       "      <td>Heikkinen, Miss. Laina</td>\n",
<<<<<<< HEAD
       "      <td>24.0</td>\n",
       "      <td>0</td>\n",
       "      <td>0</td>\n",
       "      <td>STON/O2. 3101282</td>\n",
       "      <td>2.886196</td>\n",
       "      <td>Z</td>\n",
       "      <td>S</td>\n",
       "      <td>1</td>\n",
       "      <td>0</td>\n",
       "      <td>4</td>\n",
       "      <td>43</td>\n",
=======
       "      <td>26</td>\n",
       "      <td>0</td>\n",
       "      <td>0</td>\n",
       "      <td>STON/O2. 3101282</td>\n",
       "      <td>7.9250</td>\n",
       "      <td>NaN</td>\n",
       "      <td>0</td>\n",
       "      <td>0.0</td>\n",
       "      <td>0.0</td>\n",
       "      <td>1.0</td>\n",
>>>>>>> 919260e0344a37d9495170641d01e414d191855d
       "    </tr>\n",
       "    <tr>\n",
       "      <th>3</th>\n",
       "      <td>4</td>\n",
       "      <td>1</td>\n",
       "      <td>1</td>\n",
       "      <td>Futrelle, Mrs. Jacques Heath (Lily May Peel)</td>\n",
<<<<<<< HEAD
       "      <td>37.0</td>\n",
       "      <td>1</td>\n",
       "      <td>0</td>\n",
       "      <td>113803</td>\n",
       "      <td>4.144721</td>\n",
       "      <td>C123</td>\n",
       "      <td>S</td>\n",
       "      <td>1</td>\n",
       "      <td>0</td>\n",
       "      <td>3</td>\n",
       "      <td>123</td>\n",
=======
       "      <td>35</td>\n",
       "      <td>1</td>\n",
       "      <td>0</td>\n",
       "      <td>113803</td>\n",
       "      <td>53.1000</td>\n",
       "      <td>C123</td>\n",
       "      <td>0</td>\n",
       "      <td>0.0</td>\n",
       "      <td>0.0</td>\n",
       "      <td>1.0</td>\n",
>>>>>>> 919260e0344a37d9495170641d01e414d191855d
       "    </tr>\n",
       "    <tr>\n",
       "      <th>4</th>\n",
       "      <td>5</td>\n",
       "      <td>0</td>\n",
       "      <td>3</td>\n",
       "      <td>Allen, Mr. William Henry</td>\n",
<<<<<<< HEAD
       "      <td>24.0</td>\n",
       "      <td>0</td>\n",
       "      <td>0</td>\n",
       "      <td>373450</td>\n",
       "      <td>2.893146</td>\n",
       "      <td>Z</td>\n",
       "      <td>S</td>\n",
       "      <td>1</td>\n",
       "      <td>1</td>\n",
       "      <td>4</td>\n",
       "      <td>43</td>\n",
=======
       "      <td>35</td>\n",
       "      <td>0</td>\n",
       "      <td>0</td>\n",
       "      <td>373450</td>\n",
       "      <td>8.0500</td>\n",
       "      <td>NaN</td>\n",
       "      <td>1</td>\n",
       "      <td>0.0</td>\n",
       "      <td>0.0</td>\n",
       "      <td>1.0</td>\n",
>>>>>>> 919260e0344a37d9495170641d01e414d191855d
       "    </tr>\n",
       "    <tr>\n",
       "      <th>...</th>\n",
       "      <td>...</td>\n",
       "      <td>...</td>\n",
       "      <td>...</td>\n",
       "      <td>...</td>\n",
       "      <td>...</td>\n",
       "      <td>...</td>\n",
       "      <td>...</td>\n",
       "      <td>...</td>\n",
       "      <td>...</td>\n",
       "      <td>...</td>\n",
       "      <td>...</td>\n",
       "      <td>...</td>\n",
       "      <td>...</td>\n",
       "      <td>...</td>\n",
<<<<<<< HEAD
       "      <td>...</td>\n",
=======
>>>>>>> 919260e0344a37d9495170641d01e414d191855d
       "    </tr>\n",
       "    <tr>\n",
       "      <th>886</th>\n",
       "      <td>887</td>\n",
       "      <td>0</td>\n",
       "      <td>2</td>\n",
       "      <td>Montvila, Rev. Juozas</td>\n",
<<<<<<< HEAD
       "      <td>29.0</td>\n",
       "      <td>0</td>\n",
       "      <td>0</td>\n",
       "      <td>211536</td>\n",
       "      <td>3.135494</td>\n",
       "      <td>Z</td>\n",
       "      <td>S</td>\n",
       "      <td>2</td>\n",
       "      <td>1</td>\n",
       "      <td>4</td>\n",
       "      <td>43</td>\n",
=======
       "      <td>27</td>\n",
       "      <td>0</td>\n",
       "      <td>0</td>\n",
       "      <td>211536</td>\n",
       "      <td>13.0000</td>\n",
       "      <td>NaN</td>\n",
       "      <td>1</td>\n",
       "      <td>0.0</td>\n",
       "      <td>0.0</td>\n",
       "      <td>1.0</td>\n",
>>>>>>> 919260e0344a37d9495170641d01e414d191855d
       "    </tr>\n",
       "    <tr>\n",
       "      <th>887</th>\n",
       "      <td>888</td>\n",
       "      <td>1</td>\n",
       "      <td>1</td>\n",
       "      <td>Graham, Miss. Margaret Edith</td>\n",
<<<<<<< HEAD
       "      <td>37.0</td>\n",
       "      <td>0</td>\n",
       "      <td>0</td>\n",
       "      <td>112053</td>\n",
       "      <td>3.688879</td>\n",
       "      <td>B42</td>\n",
       "      <td>S</td>\n",
       "      <td>1</td>\n",
       "      <td>0</td>\n",
       "      <td>2</td>\n",
       "      <td>42</td>\n",
=======
       "      <td>19</td>\n",
       "      <td>0</td>\n",
       "      <td>0</td>\n",
       "      <td>112053</td>\n",
       "      <td>30.0000</td>\n",
       "      <td>B42</td>\n",
       "      <td>0</td>\n",
       "      <td>0.0</td>\n",
       "      <td>0.0</td>\n",
       "      <td>1.0</td>\n",
>>>>>>> 919260e0344a37d9495170641d01e414d191855d
       "    </tr>\n",
       "    <tr>\n",
       "      <th>888</th>\n",
       "      <td>889</td>\n",
       "      <td>0</td>\n",
       "      <td>3</td>\n",
       "      <td>Johnston, Miss. Catherine Helen \"Carrie\"</td>\n",
<<<<<<< HEAD
       "      <td>24.0</td>\n",
       "      <td>1</td>\n",
       "      <td>2</td>\n",
       "      <td>W./C. 6607</td>\n",
       "      <td>3.510052</td>\n",
       "      <td>Z</td>\n",
       "      <td>S</td>\n",
       "      <td>1</td>\n",
       "      <td>0</td>\n",
       "      <td>4</td>\n",
       "      <td>43</td>\n",
=======
       "      <td>28</td>\n",
       "      <td>1</td>\n",
       "      <td>2</td>\n",
       "      <td>W./C. 6607</td>\n",
       "      <td>23.4500</td>\n",
       "      <td>NaN</td>\n",
       "      <td>0</td>\n",
       "      <td>0.0</td>\n",
       "      <td>0.0</td>\n",
       "      <td>1.0</td>\n",
>>>>>>> 919260e0344a37d9495170641d01e414d191855d
       "    </tr>\n",
       "    <tr>\n",
       "      <th>889</th>\n",
       "      <td>890</td>\n",
       "      <td>1</td>\n",
       "      <td>1</td>\n",
       "      <td>Behr, Mr. Karl Howell</td>\n",
<<<<<<< HEAD
       "      <td>37.0</td>\n",
       "      <td>0</td>\n",
       "      <td>0</td>\n",
       "      <td>111369</td>\n",
       "      <td>3.688879</td>\n",
       "      <td>C148</td>\n",
       "      <td>C</td>\n",
       "      <td>1</td>\n",
       "      <td>1</td>\n",
       "      <td>3</td>\n",
       "      <td>148</td>\n",
=======
       "      <td>26</td>\n",
       "      <td>0</td>\n",
       "      <td>0</td>\n",
       "      <td>111369</td>\n",
       "      <td>30.0000</td>\n",
       "      <td>C148</td>\n",
       "      <td>1</td>\n",
       "      <td>1.0</td>\n",
       "      <td>0.0</td>\n",
       "      <td>0.0</td>\n",
>>>>>>> 919260e0344a37d9495170641d01e414d191855d
       "    </tr>\n",
       "    <tr>\n",
       "      <th>890</th>\n",
       "      <td>891</td>\n",
       "      <td>0</td>\n",
       "      <td>3</td>\n",
       "      <td>Dooley, Mr. Patrick</td>\n",
<<<<<<< HEAD
       "      <td>24.0</td>\n",
       "      <td>0</td>\n",
       "      <td>0</td>\n",
       "      <td>370376</td>\n",
       "      <td>2.876386</td>\n",
       "      <td>Z</td>\n",
       "      <td>Q</td>\n",
       "      <td>1</td>\n",
       "      <td>1</td>\n",
       "      <td>4</td>\n",
       "      <td>43</td>\n",
       "    </tr>\n",
       "  </tbody>\n",
       "</table>\n",
       "<p>891 rows × 15 columns</p>\n",
=======
       "      <td>32</td>\n",
       "      <td>0</td>\n",
       "      <td>0</td>\n",
       "      <td>370376</td>\n",
       "      <td>7.7500</td>\n",
       "      <td>NaN</td>\n",
       "      <td>1</td>\n",
       "      <td>0.0</td>\n",
       "      <td>1.0</td>\n",
       "      <td>0.0</td>\n",
       "    </tr>\n",
       "  </tbody>\n",
       "</table>\n",
       "<p>891 rows × 14 columns</p>\n",
>>>>>>> 919260e0344a37d9495170641d01e414d191855d
       "</div>"
      ],
      "text/plain": [
       "     PassengerId  Survived  Pclass  \\\n",
       "0              1         0       3   \n",
       "1              2         1       1   \n",
       "2              3         1       3   \n",
       "3              4         1       1   \n",
       "4              5         0       3   \n",
       "..           ...       ...     ...   \n",
       "886          887         0       2   \n",
       "887          888         1       1   \n",
       "888          889         0       3   \n",
       "889          890         1       1   \n",
       "890          891         0       3   \n",
       "\n",
<<<<<<< HEAD
       "                                                  Name   Age  SibSp  Parch  \\\n",
       "0                              Braund, Mr. Owen Harris  24.0      1      0   \n",
       "1    Cumings, Mrs. John Bradley (Florence Briggs Th...  37.0      1      0   \n",
       "2                               Heikkinen, Miss. Laina  24.0      0      0   \n",
       "3         Futrelle, Mrs. Jacques Heath (Lily May Peel)  37.0      1      0   \n",
       "4                             Allen, Mr. William Henry  24.0      0      0   \n",
       "..                                                 ...   ...    ...    ...   \n",
       "886                              Montvila, Rev. Juozas  29.0      0      0   \n",
       "887                       Graham, Miss. Margaret Edith  37.0      0      0   \n",
       "888           Johnston, Miss. Catherine Helen \"Carrie\"  24.0      1      2   \n",
       "889                              Behr, Mr. Karl Howell  37.0      0      0   \n",
       "890                                Dooley, Mr. Patrick  24.0      0      0   \n",
       "\n",
       "               Ticket      Fare Cabin Embarked  rank  Sex_male  deck  \\\n",
       "0           A/5 21171  2.847812     Z        S     1         1     4   \n",
       "1            PC 17599  4.397941   C85        C     1         0     3   \n",
       "2    STON/O2. 3101282  2.886196     Z        S     1         0     4   \n",
       "3              113803  4.144721  C123        S     1         0     3   \n",
       "4              373450  2.893146     Z        S     1         1     4   \n",
       "..                ...       ...   ...      ...   ...       ...   ...   \n",
       "886            211536  3.135494     Z        S     2         1     4   \n",
       "887            112053  3.688879   B42        S     1         0     2   \n",
       "888        W./C. 6607  3.510052     Z        S     1         0     4   \n",
       "889            111369  3.688879  C148        C     1         1     3   \n",
       "890            370376  2.876386     Z        Q     1         1     4   \n",
       "\n",
       "     cabin_number  \n",
       "0              43  \n",
       "1              85  \n",
       "2              43  \n",
       "3             123  \n",
       "4              43  \n",
       "..            ...  \n",
       "886            43  \n",
       "887            42  \n",
       "888            43  \n",
       "889           148  \n",
       "890            43  \n",
       "\n",
       "[891 rows x 15 columns]"
      ]
     },
     "execution_count": 42,
=======
       "                                                  Name  Age  SibSp  Parch  \\\n",
       "0                              Braund, Mr. Owen Harris   22      1      0   \n",
       "1    Cumings, Mrs. John Bradley (Florence Briggs Th...   38      1      0   \n",
       "2                               Heikkinen, Miss. Laina   26      0      0   \n",
       "3         Futrelle, Mrs. Jacques Heath (Lily May Peel)   35      1      0   \n",
       "4                             Allen, Mr. William Henry   35      0      0   \n",
       "..                                                 ...  ...    ...    ...   \n",
       "886                              Montvila, Rev. Juozas   27      0      0   \n",
       "887                       Graham, Miss. Margaret Edith   19      0      0   \n",
       "888           Johnston, Miss. Catherine Helen \"Carrie\"   28      1      2   \n",
       "889                              Behr, Mr. Karl Howell   26      0      0   \n",
       "890                                Dooley, Mr. Patrick   32      0      0   \n",
       "\n",
       "               Ticket     Fare Cabin  Sex_male  x0_C  x0_Q  x0_S  \n",
       "0           A/5 21171   7.2500   NaN         1   0.0   0.0   1.0  \n",
       "1            PC 17599  71.2833   C85         0   1.0   0.0   0.0  \n",
       "2    STON/O2. 3101282   7.9250   NaN         0   0.0   0.0   1.0  \n",
       "3              113803  53.1000  C123         0   0.0   0.0   1.0  \n",
       "4              373450   8.0500   NaN         1   0.0   0.0   1.0  \n",
       "..                ...      ...   ...       ...   ...   ...   ...  \n",
       "886            211536  13.0000   NaN         1   0.0   0.0   1.0  \n",
       "887            112053  30.0000   B42         0   0.0   0.0   1.0  \n",
       "888        W./C. 6607  23.4500   NaN         0   0.0   0.0   1.0  \n",
       "889            111369  30.0000  C148         1   1.0   0.0   0.0  \n",
       "890            370376   7.7500   NaN         1   0.0   1.0   0.0  \n",
       "\n",
       "[891 rows x 14 columns]"
      ]
     },
     "execution_count": 1564,
>>>>>>> 919260e0344a37d9495170641d01e414d191855d
     "metadata": {},
     "output_type": "execute_result"
    }
   ],
   "source": [
<<<<<<< HEAD
    "df_train"
=======
    "df"
>>>>>>> 919260e0344a37d9495170641d01e414d191855d
   ]
  },
  {
   "cell_type": "markdown",
   "metadata": {},
   "source": [
    "Scale Data"
   ]
  },
  {
   "cell_type": "code",
<<<<<<< HEAD
   "execution_count": 1,
   "metadata": {},
   "outputs": [
    {
     "ename": "NameError",
     "evalue": "name 'df_train' is not defined",
     "output_type": "error",
     "traceback": [
      "\u001b[0;31m---------------------------------------------------------------------------\u001b[0m",
      "\u001b[0;31mNameError\u001b[0m                                 Traceback (most recent call last)",
      "\u001b[0;32m<ipython-input-1-f4728839911a>\u001b[0m in \u001b[0;36m<module>\u001b[0;34m\u001b[0m\n\u001b[1;32m      1\u001b[0m \u001b[0;32mfrom\u001b[0m \u001b[0msklearn\u001b[0m\u001b[0;34m.\u001b[0m\u001b[0mpreprocessing\u001b[0m \u001b[0;32mimport\u001b[0m \u001b[0mMinMaxScaler\u001b[0m\u001b[0;34m\u001b[0m\u001b[0;34m\u001b[0m\u001b[0m\n\u001b[0;32m----> 2\u001b[0;31m \u001b[0;32mfor\u001b[0m \u001b[0mdf\u001b[0m \u001b[0;32min\u001b[0m \u001b[0;34m(\u001b[0m\u001b[0mdf_train\u001b[0m\u001b[0;34m,\u001b[0m \u001b[0mdf_test\u001b[0m\u001b[0;34m)\u001b[0m\u001b[0;34m:\u001b[0m\u001b[0;34m\u001b[0m\u001b[0;34m\u001b[0m\u001b[0m\n\u001b[0m\u001b[1;32m      3\u001b[0m     \u001b[0mx\u001b[0m \u001b[0;34m=\u001b[0m \u001b[0mdf\u001b[0m\u001b[0;34m[\u001b[0m\u001b[0;34m[\u001b[0m\u001b[0;34m\"Pclass\"\u001b[0m\u001b[0;34m,\u001b[0m \u001b[0;34m\"Age\"\u001b[0m\u001b[0;34m,\u001b[0m \u001b[0;34m\"SibSp\"\u001b[0m\u001b[0;34m,\u001b[0m \u001b[0;34m\"Parch\"\u001b[0m\u001b[0;34m,\u001b[0m \u001b[0;34m\"Sex_male\"\u001b[0m\u001b[0;34m,\u001b[0m \u001b[0;34m\"Fare\"\u001b[0m\u001b[0;34m,\u001b[0m \u001b[0;34m\"rank\"\u001b[0m\u001b[0;34m,\u001b[0m \u001b[0;34m\"cabin_number\"\u001b[0m\u001b[0;34m]\u001b[0m\u001b[0;34m]\u001b[0m\u001b[0;34m.\u001b[0m\u001b[0mvalues\u001b[0m \u001b[0;31m#returns a numpy array\u001b[0m\u001b[0;34m\u001b[0m\u001b[0;34m\u001b[0m\u001b[0m\n\u001b[1;32m      4\u001b[0m     \u001b[0mmin_max_scaler\u001b[0m \u001b[0;34m=\u001b[0m \u001b[0mMinMaxScaler\u001b[0m\u001b[0;34m(\u001b[0m\u001b[0;34m)\u001b[0m\u001b[0;34m\u001b[0m\u001b[0;34m\u001b[0m\u001b[0m\n\u001b[1;32m      5\u001b[0m     \u001b[0mx_scaled\u001b[0m \u001b[0;34m=\u001b[0m \u001b[0mmin_max_scaler\u001b[0m\u001b[0;34m.\u001b[0m\u001b[0mfit_transform\u001b[0m\u001b[0;34m(\u001b[0m\u001b[0mx\u001b[0m\u001b[0;34m)\u001b[0m\u001b[0;34m\u001b[0m\u001b[0;34m\u001b[0m\u001b[0m\n",
      "\u001b[0;31mNameError\u001b[0m: name 'df_train' is not defined"
     ]
    }
   ],
   "source": [
    "from sklearn.preprocessing import MinMaxScaler\n",
    "for df in (df_train, df_test):\n",
    "    x = df[[\"Pclass\", \"Age\", \"SibSp\", \"Parch\", \"Sex_male\", \"Fare\", \"rank\", \"cabin_number\"]].values #returns a numpy array\n",
    "    min_max_scaler = MinMaxScaler()\n",
    "    x_scaled = min_max_scaler.fit_transform(x)\n",
    "    df = pd.concat([df.drop([\"Pclass\", \"Age\", \"SibSp\", \"Parch\", \"Sex_male\", \"Fare\", \"rank\", \"cabin_number\"], axis=1), pd.DataFrame(x_scaled, columns=[\"Pclass\", \"Age\", \"SibSp\", \"Parch\", \"Sex_male\", \"Fare\", \"rank\", \"cabin_number\"])], axis=1)"
=======
   "execution_count": 1565,
   "metadata": {},
   "outputs": [],
   "source": [
    "from sklearn.preprocessing import StandardScaler\n",
    "x = df[[\"Pclass\", \"Age\", \"SibSp\", \"Parch\", \"Sex_male\", \"Fare\"]].values #returns a numpy array\n",
    "min_max_scaler = preprocessing.StandardScaler()\n",
    "x_scaled = min_max_scaler.fit_transform(x)\n",
    "df = pd.concat([df.drop([\"Pclass\", \"Age\", \"SibSp\", \"Parch\", \"Sex_male\", \"Fare\"], axis=1), pd.DataFrame(x_scaled, columns=[\"Pclass\", \"Age\", \"SibSp\", \"Parch\", \"Sex_male\", \"Fare\"])], axis=1)"
   ]
  },
  {
   "cell_type": "code",
   "execution_count": 1566,
   "metadata": {},
   "outputs": [
    {
     "data": {
      "text/html": [
       "<div>\n",
       "<style scoped>\n",
       "    .dataframe tbody tr th:only-of-type {\n",
       "        vertical-align: middle;\n",
       "    }\n",
       "\n",
       "    .dataframe tbody tr th {\n",
       "        vertical-align: top;\n",
       "    }\n",
       "\n",
       "    .dataframe thead th {\n",
       "        text-align: right;\n",
       "    }\n",
       "</style>\n",
       "<table border=\"1\" class=\"dataframe\">\n",
       "  <thead>\n",
       "    <tr style=\"text-align: right;\">\n",
       "      <th></th>\n",
       "      <th>PassengerId</th>\n",
       "      <th>Survived</th>\n",
       "      <th>Name</th>\n",
       "      <th>Ticket</th>\n",
       "      <th>Cabin</th>\n",
       "      <th>x0_C</th>\n",
       "      <th>x0_Q</th>\n",
       "      <th>x0_S</th>\n",
       "      <th>Pclass</th>\n",
       "      <th>Age</th>\n",
       "      <th>SibSp</th>\n",
       "      <th>Parch</th>\n",
       "      <th>Sex_male</th>\n",
       "      <th>Fare</th>\n",
       "    </tr>\n",
       "  </thead>\n",
       "  <tbody>\n",
       "    <tr>\n",
       "      <th>0</th>\n",
       "      <td>1</td>\n",
       "      <td>0</td>\n",
       "      <td>Braund, Mr. Owen Harris</td>\n",
       "      <td>A/5 21171</td>\n",
       "      <td>NaN</td>\n",
       "      <td>0.0</td>\n",
       "      <td>0.0</td>\n",
       "      <td>1.0</td>\n",
       "      <td>1.0</td>\n",
       "      <td>0.2750</td>\n",
       "      <td>0.125</td>\n",
       "      <td>0.000000</td>\n",
       "      <td>1.0</td>\n",
       "      <td>0.014151</td>\n",
       "    </tr>\n",
       "    <tr>\n",
       "      <th>1</th>\n",
       "      <td>2</td>\n",
       "      <td>1</td>\n",
       "      <td>Cumings, Mrs. John Bradley (Florence Briggs Th...</td>\n",
       "      <td>PC 17599</td>\n",
       "      <td>C85</td>\n",
       "      <td>1.0</td>\n",
       "      <td>0.0</td>\n",
       "      <td>0.0</td>\n",
       "      <td>0.0</td>\n",
       "      <td>0.4750</td>\n",
       "      <td>0.125</td>\n",
       "      <td>0.000000</td>\n",
       "      <td>0.0</td>\n",
       "      <td>0.139136</td>\n",
       "    </tr>\n",
       "    <tr>\n",
       "      <th>2</th>\n",
       "      <td>3</td>\n",
       "      <td>1</td>\n",
       "      <td>Heikkinen, Miss. Laina</td>\n",
       "      <td>STON/O2. 3101282</td>\n",
       "      <td>NaN</td>\n",
       "      <td>0.0</td>\n",
       "      <td>0.0</td>\n",
       "      <td>1.0</td>\n",
       "      <td>1.0</td>\n",
       "      <td>0.3250</td>\n",
       "      <td>0.000</td>\n",
       "      <td>0.000000</td>\n",
       "      <td>0.0</td>\n",
       "      <td>0.015469</td>\n",
       "    </tr>\n",
       "    <tr>\n",
       "      <th>3</th>\n",
       "      <td>4</td>\n",
       "      <td>1</td>\n",
       "      <td>Futrelle, Mrs. Jacques Heath (Lily May Peel)</td>\n",
       "      <td>113803</td>\n",
       "      <td>C123</td>\n",
       "      <td>0.0</td>\n",
       "      <td>0.0</td>\n",
       "      <td>1.0</td>\n",
       "      <td>0.0</td>\n",
       "      <td>0.4375</td>\n",
       "      <td>0.125</td>\n",
       "      <td>0.000000</td>\n",
       "      <td>0.0</td>\n",
       "      <td>0.103644</td>\n",
       "    </tr>\n",
       "    <tr>\n",
       "      <th>4</th>\n",
       "      <td>5</td>\n",
       "      <td>0</td>\n",
       "      <td>Allen, Mr. William Henry</td>\n",
       "      <td>373450</td>\n",
       "      <td>NaN</td>\n",
       "      <td>0.0</td>\n",
       "      <td>0.0</td>\n",
       "      <td>1.0</td>\n",
       "      <td>1.0</td>\n",
       "      <td>0.4375</td>\n",
       "      <td>0.000</td>\n",
       "      <td>0.000000</td>\n",
       "      <td>1.0</td>\n",
       "      <td>0.015713</td>\n",
       "    </tr>\n",
       "    <tr>\n",
       "      <th>...</th>\n",
       "      <td>...</td>\n",
       "      <td>...</td>\n",
       "      <td>...</td>\n",
       "      <td>...</td>\n",
       "      <td>...</td>\n",
       "      <td>...</td>\n",
       "      <td>...</td>\n",
       "      <td>...</td>\n",
       "      <td>...</td>\n",
       "      <td>...</td>\n",
       "      <td>...</td>\n",
       "      <td>...</td>\n",
       "      <td>...</td>\n",
       "      <td>...</td>\n",
       "    </tr>\n",
       "    <tr>\n",
       "      <th>886</th>\n",
       "      <td>887</td>\n",
       "      <td>0</td>\n",
       "      <td>Montvila, Rev. Juozas</td>\n",
       "      <td>211536</td>\n",
       "      <td>NaN</td>\n",
       "      <td>0.0</td>\n",
       "      <td>0.0</td>\n",
       "      <td>1.0</td>\n",
       "      <td>0.5</td>\n",
       "      <td>0.3375</td>\n",
       "      <td>0.000</td>\n",
       "      <td>0.000000</td>\n",
       "      <td>1.0</td>\n",
       "      <td>0.025374</td>\n",
       "    </tr>\n",
       "    <tr>\n",
       "      <th>887</th>\n",
       "      <td>888</td>\n",
       "      <td>1</td>\n",
       "      <td>Graham, Miss. Margaret Edith</td>\n",
       "      <td>112053</td>\n",
       "      <td>B42</td>\n",
       "      <td>0.0</td>\n",
       "      <td>0.0</td>\n",
       "      <td>1.0</td>\n",
       "      <td>0.0</td>\n",
       "      <td>0.2375</td>\n",
       "      <td>0.000</td>\n",
       "      <td>0.000000</td>\n",
       "      <td>0.0</td>\n",
       "      <td>0.058556</td>\n",
       "    </tr>\n",
       "    <tr>\n",
       "      <th>888</th>\n",
       "      <td>889</td>\n",
       "      <td>0</td>\n",
       "      <td>Johnston, Miss. Catherine Helen \"Carrie\"</td>\n",
       "      <td>W./C. 6607</td>\n",
       "      <td>NaN</td>\n",
       "      <td>0.0</td>\n",
       "      <td>0.0</td>\n",
       "      <td>1.0</td>\n",
       "      <td>1.0</td>\n",
       "      <td>0.3500</td>\n",
       "      <td>0.125</td>\n",
       "      <td>0.333333</td>\n",
       "      <td>0.0</td>\n",
       "      <td>0.045771</td>\n",
       "    </tr>\n",
       "    <tr>\n",
       "      <th>889</th>\n",
       "      <td>890</td>\n",
       "      <td>1</td>\n",
       "      <td>Behr, Mr. Karl Howell</td>\n",
       "      <td>111369</td>\n",
       "      <td>C148</td>\n",
       "      <td>1.0</td>\n",
       "      <td>0.0</td>\n",
       "      <td>0.0</td>\n",
       "      <td>0.0</td>\n",
       "      <td>0.3250</td>\n",
       "      <td>0.000</td>\n",
       "      <td>0.000000</td>\n",
       "      <td>1.0</td>\n",
       "      <td>0.058556</td>\n",
       "    </tr>\n",
       "    <tr>\n",
       "      <th>890</th>\n",
       "      <td>891</td>\n",
       "      <td>0</td>\n",
       "      <td>Dooley, Mr. Patrick</td>\n",
       "      <td>370376</td>\n",
       "      <td>NaN</td>\n",
       "      <td>0.0</td>\n",
       "      <td>1.0</td>\n",
       "      <td>0.0</td>\n",
       "      <td>1.0</td>\n",
       "      <td>0.4000</td>\n",
       "      <td>0.000</td>\n",
       "      <td>0.000000</td>\n",
       "      <td>1.0</td>\n",
       "      <td>0.015127</td>\n",
       "    </tr>\n",
       "  </tbody>\n",
       "</table>\n",
       "<p>891 rows × 14 columns</p>\n",
       "</div>"
      ],
      "text/plain": [
       "     PassengerId  Survived                                               Name  \\\n",
       "0              1         0                            Braund, Mr. Owen Harris   \n",
       "1              2         1  Cumings, Mrs. John Bradley (Florence Briggs Th...   \n",
       "2              3         1                             Heikkinen, Miss. Laina   \n",
       "3              4         1       Futrelle, Mrs. Jacques Heath (Lily May Peel)   \n",
       "4              5         0                           Allen, Mr. William Henry   \n",
       "..           ...       ...                                                ...   \n",
       "886          887         0                              Montvila, Rev. Juozas   \n",
       "887          888         1                       Graham, Miss. Margaret Edith   \n",
       "888          889         0           Johnston, Miss. Catherine Helen \"Carrie\"   \n",
       "889          890         1                              Behr, Mr. Karl Howell   \n",
       "890          891         0                                Dooley, Mr. Patrick   \n",
       "\n",
       "               Ticket Cabin  x0_C  x0_Q  x0_S  Pclass     Age  SibSp  \\\n",
       "0           A/5 21171   NaN   0.0   0.0   1.0     1.0  0.2750  0.125   \n",
       "1            PC 17599   C85   1.0   0.0   0.0     0.0  0.4750  0.125   \n",
       "2    STON/O2. 3101282   NaN   0.0   0.0   1.0     1.0  0.3250  0.000   \n",
       "3              113803  C123   0.0   0.0   1.0     0.0  0.4375  0.125   \n",
       "4              373450   NaN   0.0   0.0   1.0     1.0  0.4375  0.000   \n",
       "..                ...   ...   ...   ...   ...     ...     ...    ...   \n",
       "886            211536   NaN   0.0   0.0   1.0     0.5  0.3375  0.000   \n",
       "887            112053   B42   0.0   0.0   1.0     0.0  0.2375  0.000   \n",
       "888        W./C. 6607   NaN   0.0   0.0   1.0     1.0  0.3500  0.125   \n",
       "889            111369  C148   1.0   0.0   0.0     0.0  0.3250  0.000   \n",
       "890            370376   NaN   0.0   1.0   0.0     1.0  0.4000  0.000   \n",
       "\n",
       "        Parch  Sex_male      Fare  \n",
       "0    0.000000       1.0  0.014151  \n",
       "1    0.000000       0.0  0.139136  \n",
       "2    0.000000       0.0  0.015469  \n",
       "3    0.000000       0.0  0.103644  \n",
       "4    0.000000       1.0  0.015713  \n",
       "..        ...       ...       ...  \n",
       "886  0.000000       1.0  0.025374  \n",
       "887  0.000000       0.0  0.058556  \n",
       "888  0.333333       0.0  0.045771  \n",
       "889  0.000000       1.0  0.058556  \n",
       "890  0.000000       1.0  0.015127  \n",
       "\n",
       "[891 rows x 14 columns]"
      ]
     },
     "execution_count": 1566,
     "metadata": {},
     "output_type": "execute_result"
    }
   ],
   "source": [
    "df"
>>>>>>> 919260e0344a37d9495170641d01e414d191855d
   ]
  },
  {
   "cell_type": "markdown",
   "metadata": {},
   "source": [
    "## 2.2. Defining the Feature Matrix and the Target Vector"
   ]
  },
  {
   "cell_type": "code",
<<<<<<< HEAD
   "execution_count": 47,
=======
   "execution_count": 1567,
>>>>>>> 919260e0344a37d9495170641d01e414d191855d
   "metadata": {},
   "outputs": [],
   "source": [
    "# X = df[[\"Pclass\", \"Age\", \"SibSp\", \"Parch\", \"Sex_male\", \"Fare\", \"x0_C\", \"x0_Q\", \"x0_S\"]]\n",
<<<<<<< HEAD
    "X_train = df_train[[\"rank\", \"Sex_male\", \"SibSp\", \"cabin_number\", \"Age\", \"Pclass\"]]\n",
    "y_train = df_train['Survived']\n",
    "X_test = df_test[[\"rank\", \"Sex_male\", \"SibSp\", \"cabin_number\", \"Age\", \"Pclass\"]]\n",
    "# y_test = df_test['Survived']"
=======
    "X = df[[\"Pclass\", \"Age\", \"Sex_male\", \"SibSp\", \"Parch\", \"Fare\"]]\n",
    "y = df['Survived']"
>>>>>>> 919260e0344a37d9495170641d01e414d191855d
   ]
  },
  {
   "cell_type": "code",
<<<<<<< HEAD
   "execution_count": 50,
=======
   "execution_count": 1568,
>>>>>>> 919260e0344a37d9495170641d01e414d191855d
   "metadata": {},
   "outputs": [
    {
     "data": {
      "text/html": [
       "<div>\n",
       "<style scoped>\n",
       "    .dataframe tbody tr th:only-of-type {\n",
       "        vertical-align: middle;\n",
       "    }\n",
       "\n",
       "    .dataframe tbody tr th {\n",
       "        vertical-align: top;\n",
       "    }\n",
       "\n",
       "    .dataframe thead th {\n",
       "        text-align: right;\n",
       "    }\n",
       "</style>\n",
       "<table border=\"1\" class=\"dataframe\">\n",
       "  <thead>\n",
       "    <tr style=\"text-align: right;\">\n",
       "      <th></th>\n",
<<<<<<< HEAD
       "      <th>rank</th>\n",
       "      <th>Sex_male</th>\n",
       "      <th>SibSp</th>\n",
       "      <th>cabin_number</th>\n",
       "      <th>Age</th>\n",
       "      <th>Pclass</th>\n",
=======
       "      <th>Pclass</th>\n",
       "      <th>Age</th>\n",
       "      <th>Sex_male</th>\n",
       "      <th>SibSp</th>\n",
       "      <th>Parch</th>\n",
       "      <th>Fare</th>\n",
>>>>>>> 919260e0344a37d9495170641d01e414d191855d
       "    </tr>\n",
       "  </thead>\n",
       "  <tbody>\n",
       "    <tr>\n",
       "      <th>0</th>\n",
<<<<<<< HEAD
       "      <td>1</td>\n",
       "      <td>1</td>\n",
       "      <td>1</td>\n",
       "      <td>43</td>\n",
       "      <td>24.0</td>\n",
       "      <td>3</td>\n",
       "    </tr>\n",
       "    <tr>\n",
       "      <th>1</th>\n",
       "      <td>1</td>\n",
       "      <td>0</td>\n",
       "      <td>1</td>\n",
       "      <td>85</td>\n",
       "      <td>37.0</td>\n",
       "      <td>1</td>\n",
       "    </tr>\n",
       "    <tr>\n",
       "      <th>2</th>\n",
       "      <td>1</td>\n",
       "      <td>0</td>\n",
       "      <td>0</td>\n",
       "      <td>43</td>\n",
       "      <td>24.0</td>\n",
       "      <td>3</td>\n",
       "    </tr>\n",
       "    <tr>\n",
       "      <th>3</th>\n",
       "      <td>1</td>\n",
       "      <td>0</td>\n",
       "      <td>1</td>\n",
       "      <td>123</td>\n",
       "      <td>37.0</td>\n",
       "      <td>1</td>\n",
       "    </tr>\n",
       "    <tr>\n",
       "      <th>4</th>\n",
       "      <td>1</td>\n",
       "      <td>1</td>\n",
       "      <td>0</td>\n",
       "      <td>43</td>\n",
       "      <td>24.0</td>\n",
       "      <td>3</td>\n",
=======
       "      <td>1.0</td>\n",
       "      <td>0.2750</td>\n",
       "      <td>1.0</td>\n",
       "      <td>0.125</td>\n",
       "      <td>0.000000</td>\n",
       "      <td>0.014151</td>\n",
       "    </tr>\n",
       "    <tr>\n",
       "      <th>1</th>\n",
       "      <td>0.0</td>\n",
       "      <td>0.4750</td>\n",
       "      <td>0.0</td>\n",
       "      <td>0.125</td>\n",
       "      <td>0.000000</td>\n",
       "      <td>0.139136</td>\n",
       "    </tr>\n",
       "    <tr>\n",
       "      <th>2</th>\n",
       "      <td>1.0</td>\n",
       "      <td>0.3250</td>\n",
       "      <td>0.0</td>\n",
       "      <td>0.000</td>\n",
       "      <td>0.000000</td>\n",
       "      <td>0.015469</td>\n",
       "    </tr>\n",
       "    <tr>\n",
       "      <th>3</th>\n",
       "      <td>0.0</td>\n",
       "      <td>0.4375</td>\n",
       "      <td>0.0</td>\n",
       "      <td>0.125</td>\n",
       "      <td>0.000000</td>\n",
       "      <td>0.103644</td>\n",
       "    </tr>\n",
       "    <tr>\n",
       "      <th>4</th>\n",
       "      <td>1.0</td>\n",
       "      <td>0.4375</td>\n",
       "      <td>1.0</td>\n",
       "      <td>0.000</td>\n",
       "      <td>0.000000</td>\n",
       "      <td>0.015713</td>\n",
>>>>>>> 919260e0344a37d9495170641d01e414d191855d
       "    </tr>\n",
       "    <tr>\n",
       "      <th>...</th>\n",
       "      <td>...</td>\n",
       "      <td>...</td>\n",
       "      <td>...</td>\n",
       "      <td>...</td>\n",
       "      <td>...</td>\n",
       "      <td>...</td>\n",
       "    </tr>\n",
       "    <tr>\n",
       "      <th>886</th>\n",
<<<<<<< HEAD
       "      <td>2</td>\n",
       "      <td>1</td>\n",
       "      <td>0</td>\n",
       "      <td>43</td>\n",
       "      <td>29.0</td>\n",
       "      <td>2</td>\n",
       "    </tr>\n",
       "    <tr>\n",
       "      <th>887</th>\n",
       "      <td>1</td>\n",
       "      <td>0</td>\n",
       "      <td>0</td>\n",
       "      <td>42</td>\n",
       "      <td>37.0</td>\n",
       "      <td>1</td>\n",
       "    </tr>\n",
       "    <tr>\n",
       "      <th>888</th>\n",
       "      <td>1</td>\n",
       "      <td>0</td>\n",
       "      <td>1</td>\n",
       "      <td>43</td>\n",
       "      <td>24.0</td>\n",
       "      <td>3</td>\n",
       "    </tr>\n",
       "    <tr>\n",
       "      <th>889</th>\n",
       "      <td>1</td>\n",
       "      <td>1</td>\n",
       "      <td>0</td>\n",
       "      <td>148</td>\n",
       "      <td>37.0</td>\n",
       "      <td>1</td>\n",
       "    </tr>\n",
       "    <tr>\n",
       "      <th>890</th>\n",
       "      <td>1</td>\n",
       "      <td>1</td>\n",
       "      <td>0</td>\n",
       "      <td>43</td>\n",
       "      <td>24.0</td>\n",
       "      <td>3</td>\n",
=======
       "      <td>0.5</td>\n",
       "      <td>0.3375</td>\n",
       "      <td>1.0</td>\n",
       "      <td>0.000</td>\n",
       "      <td>0.000000</td>\n",
       "      <td>0.025374</td>\n",
       "    </tr>\n",
       "    <tr>\n",
       "      <th>887</th>\n",
       "      <td>0.0</td>\n",
       "      <td>0.2375</td>\n",
       "      <td>0.0</td>\n",
       "      <td>0.000</td>\n",
       "      <td>0.000000</td>\n",
       "      <td>0.058556</td>\n",
       "    </tr>\n",
       "    <tr>\n",
       "      <th>888</th>\n",
       "      <td>1.0</td>\n",
       "      <td>0.3500</td>\n",
       "      <td>0.0</td>\n",
       "      <td>0.125</td>\n",
       "      <td>0.333333</td>\n",
       "      <td>0.045771</td>\n",
       "    </tr>\n",
       "    <tr>\n",
       "      <th>889</th>\n",
       "      <td>0.0</td>\n",
       "      <td>0.3250</td>\n",
       "      <td>1.0</td>\n",
       "      <td>0.000</td>\n",
       "      <td>0.000000</td>\n",
       "      <td>0.058556</td>\n",
       "    </tr>\n",
       "    <tr>\n",
       "      <th>890</th>\n",
       "      <td>1.0</td>\n",
       "      <td>0.4000</td>\n",
       "      <td>1.0</td>\n",
       "      <td>0.000</td>\n",
       "      <td>0.000000</td>\n",
       "      <td>0.015127</td>\n",
>>>>>>> 919260e0344a37d9495170641d01e414d191855d
       "    </tr>\n",
       "  </tbody>\n",
       "</table>\n",
       "<p>891 rows × 6 columns</p>\n",
       "</div>"
      ],
      "text/plain": [
<<<<<<< HEAD
       "     rank  Sex_male  SibSp  cabin_number   Age  Pclass\n",
       "0       1         1      1            43  24.0       3\n",
       "1       1         0      1            85  37.0       1\n",
       "2       1         0      0            43  24.0       3\n",
       "3       1         0      1           123  37.0       1\n",
       "4       1         1      0            43  24.0       3\n",
       "..    ...       ...    ...           ...   ...     ...\n",
       "886     2         1      0            43  29.0       2\n",
       "887     1         0      0            42  37.0       1\n",
       "888     1         0      1            43  24.0       3\n",
       "889     1         1      0           148  37.0       1\n",
       "890     1         1      0            43  24.0       3\n",
=======
       "     Pclass     Age  Sex_male  SibSp     Parch      Fare\n",
       "0       1.0  0.2750       1.0  0.125  0.000000  0.014151\n",
       "1       0.0  0.4750       0.0  0.125  0.000000  0.139136\n",
       "2       1.0  0.3250       0.0  0.000  0.000000  0.015469\n",
       "3       0.0  0.4375       0.0  0.125  0.000000  0.103644\n",
       "4       1.0  0.4375       1.0  0.000  0.000000  0.015713\n",
       "..      ...     ...       ...    ...       ...       ...\n",
       "886     0.5  0.3375       1.0  0.000  0.000000  0.025374\n",
       "887     0.0  0.2375       0.0  0.000  0.000000  0.058556\n",
       "888     1.0  0.3500       0.0  0.125  0.333333  0.045771\n",
       "889     0.0  0.3250       1.0  0.000  0.000000  0.058556\n",
       "890     1.0  0.4000       1.0  0.000  0.000000  0.015127\n",
>>>>>>> 919260e0344a37d9495170641d01e414d191855d
       "\n",
       "[891 rows x 6 columns]"
      ]
     },
<<<<<<< HEAD
     "execution_count": 50,
=======
     "execution_count": 1568,
>>>>>>> 919260e0344a37d9495170641d01e414d191855d
     "metadata": {},
     "output_type": "execute_result"
    }
   ],
   "source": [
<<<<<<< HEAD
    "X_train"
=======
    "X"
>>>>>>> 919260e0344a37d9495170641d01e414d191855d
   ]
  },
  {
   "cell_type": "code",
<<<<<<< HEAD
   "execution_count": 49,
=======
   "execution_count": 1569,
>>>>>>> 919260e0344a37d9495170641d01e414d191855d
   "metadata": {},
   "outputs": [
    {
     "data": {
<<<<<<< HEAD
      "image/png": "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\n",
=======
      "image/png": "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\n",
>>>>>>> 919260e0344a37d9495170641d01e414d191855d
      "text/plain": [
       "<Figure size 720x720 with 2 Axes>"
      ]
     },
     "metadata": {
      "needs_background": "light"
     },
     "output_type": "display_data"
    }
   ],
   "source": [
    "plt.figure(figsize=(10, 10))\n",
<<<<<<< HEAD
    "sns.heatmap(X_train.corr(), center=0, square=True, linewidths=.5, cbar_kws={\"shrink\": .5}, annot=True)\n",
=======
    "sns.heatmap(X.corr(), center=0, square=True, linewidths=.5, cbar_kws={\"shrink\": .5}, annot=True)\n",
>>>>>>> 919260e0344a37d9495170641d01e414d191855d
    "plt.savefig(\"titanic_corr.png\", dpi=150, format=\"png\")"
   ]
  },
  {
   "cell_type": "code",
<<<<<<< HEAD
   "execution_count": 2031,
   "metadata": {},
   "outputs": [],
   "source": [
    "# Split the DataFrame into train and test sets\n",
    "from sklearn.model_selection import train_test_split\n",
    "X_train, X_test, y_train, y_test = train_test_split(X, y, random_state=42, train_size=0.65, test_size=0.35)"
   ]
  },
  {
   "cell_type": "markdown",
   "metadata": {},
   "source": [
    "## 2.3. Performing the Logistic Regression"
=======
   "execution_count": 1570,
   "metadata": {},
   "outputs": [],
   "source": [
    "# Split the DataFrame into X and y\n",
    "X_train, X_test, y_train, y_test = train_test_split(X, y, random_state=42)"
   ]
  },
  {
   "cell_type": "code",
   "execution_count": 1571,
   "metadata": {},
   "outputs": [
    {
     "data": {
      "text/html": [
       "<div>\n",
       "<style scoped>\n",
       "    .dataframe tbody tr th:only-of-type {\n",
       "        vertical-align: middle;\n",
       "    }\n",
       "\n",
       "    .dataframe tbody tr th {\n",
       "        vertical-align: top;\n",
       "    }\n",
       "\n",
       "    .dataframe thead th {\n",
       "        text-align: right;\n",
       "    }\n",
       "</style>\n",
       "<table border=\"1\" class=\"dataframe\">\n",
       "  <thead>\n",
       "    <tr style=\"text-align: right;\">\n",
       "      <th></th>\n",
       "      <th>Pclass</th>\n",
       "      <th>Age</th>\n",
       "      <th>Sex_male</th>\n",
       "      <th>SibSp</th>\n",
       "      <th>Parch</th>\n",
       "      <th>Fare</th>\n",
       "    </tr>\n",
       "  </thead>\n",
       "  <tbody>\n",
       "    <tr>\n",
       "      <th>298</th>\n",
       "      <td>0.0</td>\n",
       "      <td>0.3500</td>\n",
       "      <td>1.0</td>\n",
       "      <td>0.0</td>\n",
       "      <td>0.000000</td>\n",
       "      <td>0.059532</td>\n",
       "    </tr>\n",
       "    <tr>\n",
       "      <th>884</th>\n",
       "      <td>1.0</td>\n",
       "      <td>0.3125</td>\n",
       "      <td>1.0</td>\n",
       "      <td>0.0</td>\n",
       "      <td>0.000000</td>\n",
       "      <td>0.013761</td>\n",
       "    </tr>\n",
       "    <tr>\n",
       "      <th>247</th>\n",
       "      <td>0.5</td>\n",
       "      <td>0.3000</td>\n",
       "      <td>0.0</td>\n",
       "      <td>0.0</td>\n",
       "      <td>0.333333</td>\n",
       "      <td>0.028302</td>\n",
       "    </tr>\n",
       "  </tbody>\n",
       "</table>\n",
       "</div>"
      ],
      "text/plain": [
       "     Pclass     Age  Sex_male  SibSp     Parch      Fare\n",
       "298     0.0  0.3500       1.0    0.0  0.000000  0.059532\n",
       "884     1.0  0.3125       1.0    0.0  0.000000  0.013761\n",
       "247     0.5  0.3000       0.0    0.0  0.333333  0.028302"
      ]
     },
     "execution_count": 1571,
     "metadata": {},
     "output_type": "execute_result"
    }
   ],
   "source": [
    "X_train.head(3)"
   ]
  },
  {
   "cell_type": "code",
   "execution_count": 1572,
   "metadata": {},
   "outputs": [
    {
     "data": {
      "text/html": [
       "<div>\n",
       "<style scoped>\n",
       "    .dataframe tbody tr th:only-of-type {\n",
       "        vertical-align: middle;\n",
       "    }\n",
       "\n",
       "    .dataframe tbody tr th {\n",
       "        vertical-align: top;\n",
       "    }\n",
       "\n",
       "    .dataframe thead th {\n",
       "        text-align: right;\n",
       "    }\n",
       "</style>\n",
       "<table border=\"1\" class=\"dataframe\">\n",
       "  <thead>\n",
       "    <tr style=\"text-align: right;\">\n",
       "      <th></th>\n",
       "      <th>Pclass</th>\n",
       "      <th>Age</th>\n",
       "      <th>Sex_male</th>\n",
       "      <th>SibSp</th>\n",
       "      <th>Parch</th>\n",
       "      <th>Fare</th>\n",
       "    </tr>\n",
       "  </thead>\n",
       "  <tbody>\n",
       "    <tr>\n",
       "      <th>709</th>\n",
       "      <td>1.0</td>\n",
       "      <td>0.3500</td>\n",
       "      <td>1.0</td>\n",
       "      <td>0.125</td>\n",
       "      <td>0.166667</td>\n",
       "      <td>0.029758</td>\n",
       "    </tr>\n",
       "    <tr>\n",
       "      <th>439</th>\n",
       "      <td>0.5</td>\n",
       "      <td>0.3875</td>\n",
       "      <td>1.0</td>\n",
       "      <td>0.000</td>\n",
       "      <td>0.000000</td>\n",
       "      <td>0.020495</td>\n",
       "    </tr>\n",
       "    <tr>\n",
       "      <th>840</th>\n",
       "      <td>1.0</td>\n",
       "      <td>0.2500</td>\n",
       "      <td>1.0</td>\n",
       "      <td>0.000</td>\n",
       "      <td>0.000000</td>\n",
       "      <td>0.015469</td>\n",
       "    </tr>\n",
       "  </tbody>\n",
       "</table>\n",
       "</div>"
      ],
      "text/plain": [
       "     Pclass     Age  Sex_male  SibSp     Parch      Fare\n",
       "709     1.0  0.3500       1.0  0.125  0.166667  0.029758\n",
       "439     0.5  0.3875       1.0  0.000  0.000000  0.020495\n",
       "840     1.0  0.2500       1.0  0.000  0.000000  0.015469"
      ]
     },
     "execution_count": 1572,
     "metadata": {},
     "output_type": "execute_result"
    }
   ],
   "source": [
    "X_test.head(3)"
>>>>>>> 919260e0344a37d9495170641d01e414d191855d
   ]
  },
  {
   "cell_type": "code",
<<<<<<< HEAD
   "execution_count": 51,
=======
   "execution_count": 1579,
>>>>>>> 919260e0344a37d9495170641d01e414d191855d
   "metadata": {},
   "outputs": [
    {
     "data": {
      "text/plain": [
<<<<<<< HEAD
       "0.813692480359147"
      ]
     },
     "execution_count": 51,
=======
       "0.7979041916167665"
      ]
     },
     "execution_count": 1579,
>>>>>>> 919260e0344a37d9495170641d01e414d191855d
     "metadata": {},
     "output_type": "execute_result"
    }
   ],
   "source": [
<<<<<<< HEAD
    "from sklearn.linear_model import LogisticRegression\n",
    "model = LogisticRegression(penalty='l2', C=10, random_state=42)\n",
=======
    "model = LogisticRegression(penalty='l2', C=1, random_state=42)\n",
>>>>>>> 919260e0344a37d9495170641d01e414d191855d
    "model.fit(X_train, y_train)\n",
    "model.score(X_train, y_train)"
   ]
  },
  {
   "cell_type": "code",
<<<<<<< HEAD
   "execution_count": 52,
   "metadata": {},
   "outputs": [
    {
     "ename": "NameError",
     "evalue": "name 'y_test' is not defined",
     "output_type": "error",
     "traceback": [
      "\u001b[0;31m---------------------------------------------------------------------------\u001b[0m",
      "\u001b[0;31mNameError\u001b[0m                                 Traceback (most recent call last)",
      "\u001b[0;32m<ipython-input-52-1574e7273ce0>\u001b[0m in \u001b[0;36m<module>\u001b[0;34m\u001b[0m\n\u001b[0;32m----> 1\u001b[0;31m \u001b[0mmodel\u001b[0m\u001b[0;34m.\u001b[0m\u001b[0mscore\u001b[0m\u001b[0;34m(\u001b[0m\u001b[0mX_test\u001b[0m\u001b[0;34m,\u001b[0m \u001b[0my_test\u001b[0m\u001b[0;34m)\u001b[0m\u001b[0;34m\u001b[0m\u001b[0;34m\u001b[0m\u001b[0m\n\u001b[0m",
      "\u001b[0;31mNameError\u001b[0m: name 'y_test' is not defined"
     ]
=======
   "execution_count": 1580,
   "metadata": {},
   "outputs": [
    {
     "data": {
      "text/plain": [
       "0.8071748878923767"
      ]
     },
     "execution_count": 1580,
     "metadata": {},
     "output_type": "execute_result"
>>>>>>> 919260e0344a37d9495170641d01e414d191855d
    }
   ],
   "source": [
    "model.score(X_test, y_test)"
   ]
  },
  {
   "cell_type": "markdown",
   "metadata": {},
   "source": [
    "# 3. Evaluate your model"
   ]
  },
  {
   "cell_type": "markdown",
   "metadata": {},
   "source": [
    "## 3.1. Accuracy, Precision, Recall, F1, DummyClassifiers"
   ]
  },
  {
   "cell_type": "code",
<<<<<<< HEAD
   "execution_count": 1959,
=======
   "execution_count": 1425,
>>>>>>> 919260e0344a37d9495170641d01e414d191855d
   "metadata": {},
   "outputs": [
    {
     "data": {
      "text/plain": [
<<<<<<< HEAD
       "0.8173076923076923"
      ]
     },
     "execution_count": 1959,
=======
       "0.7847533632286996"
      ]
     },
     "execution_count": 1425,
>>>>>>> 919260e0344a37d9495170641d01e414d191855d
     "metadata": {},
     "output_type": "execute_result"
    }
   ],
   "source": [
    "from sklearn.metrics import accuracy_score\n",
    "accuracy_score(model.predict(X_test), y_test)"
   ]
  },
  {
   "cell_type": "code",
<<<<<<< HEAD
   "execution_count": 1960,
=======
   "execution_count": 1426,
>>>>>>> 919260e0344a37d9495170641d01e414d191855d
   "metadata": {},
   "outputs": [
    {
     "data": {
      "text/plain": [
<<<<<<< HEAD
       "0.75"
      ]
     },
     "execution_count": 1960,
=======
       "0.7191011235955056"
      ]
     },
     "execution_count": 1426,
>>>>>>> 919260e0344a37d9495170641d01e414d191855d
     "metadata": {},
     "output_type": "execute_result"
    }
   ],
   "source": [
    "from sklearn.metrics import precision_score\n",
    "precision_score(model.predict(X_test), y_test)"
   ]
  },
  {
   "cell_type": "code",
<<<<<<< HEAD
   "execution_count": 1961,
=======
   "execution_count": 1427,
>>>>>>> 919260e0344a37d9495170641d01e414d191855d
   "metadata": {},
   "outputs": [
    {
     "data": {
      "text/plain": [
<<<<<<< HEAD
       "0.7815126050420168"
      ]
     },
     "execution_count": 1961,
=======
       "0.735632183908046"
      ]
     },
     "execution_count": 1427,
>>>>>>> 919260e0344a37d9495170641d01e414d191855d
     "metadata": {},
     "output_type": "execute_result"
    }
   ],
   "source": [
    "from sklearn.metrics import recall_score\n",
    "recall_score(model.predict(X_test), y_test)"
   ]
  },
  {
   "cell_type": "code",
<<<<<<< HEAD
   "execution_count": 1962,
=======
   "execution_count": 1428,
>>>>>>> 919260e0344a37d9495170641d01e414d191855d
   "metadata": {},
   "outputs": [
    {
     "data": {
      "text/plain": [
<<<<<<< HEAD
       "0.7654320987654322"
      ]
     },
     "execution_count": 1962,
=======
       "0.7272727272727273"
      ]
     },
     "execution_count": 1428,
>>>>>>> 919260e0344a37d9495170641d01e414d191855d
     "metadata": {},
     "output_type": "execute_result"
    }
   ],
   "source": [
    "from sklearn.metrics import f1_score\n",
    "f1_score(model.predict(X_test), y_test)"
   ]
  },
  {
   "cell_type": "code",
<<<<<<< HEAD
   "execution_count": 1963,
=======
   "execution_count": 1429,
>>>>>>> 919260e0344a37d9495170641d01e414d191855d
   "metadata": {},
   "outputs": [
    {
     "data": {
      "text/plain": [
<<<<<<< HEAD
       "0.6025641025641025"
      ]
     },
     "execution_count": 1963,
=======
       "0.600896860986547"
      ]
     },
     "execution_count": 1429,
>>>>>>> 919260e0344a37d9495170641d01e414d191855d
     "metadata": {},
     "output_type": "execute_result"
    }
   ],
   "source": [
    "from sklearn.dummy import DummyClassifier\n",
    "\n",
    "dummy_clf = DummyClassifier(strategy='most_frequent')\n",
    "dummy_clf.fit(model.predict(X_train), y_train)\n",
    "accuracy_score(dummy_clf.predict(X_test), y_test)"
   ]
  },
  {
   "cell_type": "code",
<<<<<<< HEAD
   "execution_count": 1964,
=======
   "execution_count": 1399,
>>>>>>> 919260e0344a37d9495170641d01e414d191855d
   "metadata": {},
   "outputs": [
    {
     "data": {
      "text/plain": [
<<<<<<< HEAD
       "0.5352564102564102"
      ]
     },
     "execution_count": 1964,
=======
       "0.4798206278026906"
      ]
     },
     "execution_count": 1399,
>>>>>>> 919260e0344a37d9495170641d01e414d191855d
     "metadata": {},
     "output_type": "execute_result"
    }
   ],
   "source": [
    "dummy_clf = DummyClassifier(strategy='stratified')\n",
    "dummy_clf.fit(model.predict(X_train), y_train)\n",
    "accuracy_score(dummy_clf.predict(X_test), y_test)"
   ]
  },
  {
   "cell_type": "code",
<<<<<<< HEAD
   "execution_count": 1965,
=======
   "execution_count": 1400,
>>>>>>> 919260e0344a37d9495170641d01e414d191855d
   "metadata": {},
   "outputs": [
    {
     "data": {
      "text/plain": [
<<<<<<< HEAD
       "0.47435897435897434"
      ]
     },
     "execution_count": 1965,
=======
       "0.5291479820627802"
      ]
     },
     "execution_count": 1400,
>>>>>>> 919260e0344a37d9495170641d01e414d191855d
     "metadata": {},
     "output_type": "execute_result"
    }
   ],
   "source": [
    "dummy_clf = DummyClassifier(strategy='uniform')\n",
    "dummy_clf.fit(model.predict(X_train), y_train)\n",
    "accuracy_score(dummy_clf.predict(X_test), y_test)"
   ]
  },
  {
   "cell_type": "markdown",
   "metadata": {},
   "source": [
    "## 3.2. ROC-Curve"
   ]
  },
  {
   "cell_type": "code",
<<<<<<< HEAD
   "execution_count": 2071,
=======
   "execution_count": 1362,
>>>>>>> 919260e0344a37d9495170641d01e414d191855d
   "metadata": {},
   "outputs": [],
   "source": [
    "from sklearn.metrics import roc_curve\n",
    "from sklearn.metrics import roc_auc_score\n",
    "lr_probs = model.predict_proba(X_test)[:, 1]"
   ]
  },
  {
   "cell_type": "code",
<<<<<<< HEAD
   "execution_count": 2072,
=======
   "execution_count": 1363,
>>>>>>> 919260e0344a37d9495170641d01e414d191855d
   "metadata": {},
   "outputs": [],
   "source": [
    "ns_probs = [0 for y in range(len(y_test))]\n",
    "ns_auc = roc_auc_score(y_test, ns_probs)"
   ]
  },
  {
   "cell_type": "code",
<<<<<<< HEAD
   "execution_count": 2073,
   "metadata": {},
   "outputs": [
    {
     "ename": "ValueError",
     "evalue": "Found input variables with inconsistent numbers of samples: [312, 418]",
     "output_type": "error",
     "traceback": [
      "\u001b[0;31m---------------------------------------------------------------------------\u001b[0m",
      "\u001b[0;31mValueError\u001b[0m                                Traceback (most recent call last)",
      "\u001b[0;32m<ipython-input-2073-9f6a8d50b29c>\u001b[0m in \u001b[0;36m<module>\u001b[0;34m\u001b[0m\n\u001b[0;32m----> 1\u001b[0;31m \u001b[0mlr_auc\u001b[0m \u001b[0;34m=\u001b[0m \u001b[0mroc_auc_score\u001b[0m\u001b[0;34m(\u001b[0m\u001b[0my_test\u001b[0m\u001b[0;34m,\u001b[0m \u001b[0mlr_probs\u001b[0m\u001b[0;34m)\u001b[0m\u001b[0;34m\u001b[0m\u001b[0;34m\u001b[0m\u001b[0m\n\u001b[0m",
      "\u001b[0;32m~/anaconda3/lib/python3.8/site-packages/sklearn/utils/validation.py\u001b[0m in \u001b[0;36minner_f\u001b[0;34m(*args, **kwargs)\u001b[0m\n\u001b[1;32m     61\u001b[0m             \u001b[0mextra_args\u001b[0m \u001b[0;34m=\u001b[0m \u001b[0mlen\u001b[0m\u001b[0;34m(\u001b[0m\u001b[0margs\u001b[0m\u001b[0;34m)\u001b[0m \u001b[0;34m-\u001b[0m \u001b[0mlen\u001b[0m\u001b[0;34m(\u001b[0m\u001b[0mall_args\u001b[0m\u001b[0;34m)\u001b[0m\u001b[0;34m\u001b[0m\u001b[0;34m\u001b[0m\u001b[0m\n\u001b[1;32m     62\u001b[0m             \u001b[0;32mif\u001b[0m \u001b[0mextra_args\u001b[0m \u001b[0;34m<=\u001b[0m \u001b[0;36m0\u001b[0m\u001b[0;34m:\u001b[0m\u001b[0;34m\u001b[0m\u001b[0;34m\u001b[0m\u001b[0m\n\u001b[0;32m---> 63\u001b[0;31m                 \u001b[0;32mreturn\u001b[0m \u001b[0mf\u001b[0m\u001b[0;34m(\u001b[0m\u001b[0;34m*\u001b[0m\u001b[0margs\u001b[0m\u001b[0;34m,\u001b[0m \u001b[0;34m**\u001b[0m\u001b[0mkwargs\u001b[0m\u001b[0;34m)\u001b[0m\u001b[0;34m\u001b[0m\u001b[0;34m\u001b[0m\u001b[0m\n\u001b[0m\u001b[1;32m     64\u001b[0m \u001b[0;34m\u001b[0m\u001b[0m\n\u001b[1;32m     65\u001b[0m             \u001b[0;31m# extra_args > 0\u001b[0m\u001b[0;34m\u001b[0m\u001b[0;34m\u001b[0m\u001b[0;34m\u001b[0m\u001b[0m\n",
      "\u001b[0;32m~/anaconda3/lib/python3.8/site-packages/sklearn/metrics/_ranking.py\u001b[0m in \u001b[0;36mroc_auc_score\u001b[0;34m(y_true, y_score, average, sample_weight, max_fpr, multi_class, labels)\u001b[0m\n\u001b[1;32m    540\u001b[0m         \u001b[0mlabels\u001b[0m \u001b[0;34m=\u001b[0m \u001b[0mnp\u001b[0m\u001b[0;34m.\u001b[0m\u001b[0munique\u001b[0m\u001b[0;34m(\u001b[0m\u001b[0my_true\u001b[0m\u001b[0;34m)\u001b[0m\u001b[0;34m\u001b[0m\u001b[0;34m\u001b[0m\u001b[0m\n\u001b[1;32m    541\u001b[0m         \u001b[0my_true\u001b[0m \u001b[0;34m=\u001b[0m \u001b[0mlabel_binarize\u001b[0m\u001b[0;34m(\u001b[0m\u001b[0my_true\u001b[0m\u001b[0;34m,\u001b[0m \u001b[0mclasses\u001b[0m\u001b[0;34m=\u001b[0m\u001b[0mlabels\u001b[0m\u001b[0;34m)\u001b[0m\u001b[0;34m[\u001b[0m\u001b[0;34m:\u001b[0m\u001b[0;34m,\u001b[0m \u001b[0;36m0\u001b[0m\u001b[0;34m]\u001b[0m\u001b[0;34m\u001b[0m\u001b[0;34m\u001b[0m\u001b[0m\n\u001b[0;32m--> 542\u001b[0;31m         return _average_binary_score(partial(_binary_roc_auc_score,\n\u001b[0m\u001b[1;32m    543\u001b[0m                                              max_fpr=max_fpr),\n\u001b[1;32m    544\u001b[0m                                      \u001b[0my_true\u001b[0m\u001b[0;34m,\u001b[0m \u001b[0my_score\u001b[0m\u001b[0;34m,\u001b[0m \u001b[0maverage\u001b[0m\u001b[0;34m,\u001b[0m\u001b[0;34m\u001b[0m\u001b[0;34m\u001b[0m\u001b[0m\n",
      "\u001b[0;32m~/anaconda3/lib/python3.8/site-packages/sklearn/metrics/_base.py\u001b[0m in \u001b[0;36m_average_binary_score\u001b[0;34m(binary_metric, y_true, y_score, average, sample_weight)\u001b[0m\n\u001b[1;32m     75\u001b[0m \u001b[0;34m\u001b[0m\u001b[0m\n\u001b[1;32m     76\u001b[0m     \u001b[0;32mif\u001b[0m \u001b[0my_type\u001b[0m \u001b[0;34m==\u001b[0m \u001b[0;34m\"binary\"\u001b[0m\u001b[0;34m:\u001b[0m\u001b[0;34m\u001b[0m\u001b[0;34m\u001b[0m\u001b[0m\n\u001b[0;32m---> 77\u001b[0;31m         \u001b[0;32mreturn\u001b[0m \u001b[0mbinary_metric\u001b[0m\u001b[0;34m(\u001b[0m\u001b[0my_true\u001b[0m\u001b[0;34m,\u001b[0m \u001b[0my_score\u001b[0m\u001b[0;34m,\u001b[0m \u001b[0msample_weight\u001b[0m\u001b[0;34m=\u001b[0m\u001b[0msample_weight\u001b[0m\u001b[0;34m)\u001b[0m\u001b[0;34m\u001b[0m\u001b[0;34m\u001b[0m\u001b[0m\n\u001b[0m\u001b[1;32m     78\u001b[0m \u001b[0;34m\u001b[0m\u001b[0m\n\u001b[1;32m     79\u001b[0m     \u001b[0mcheck_consistent_length\u001b[0m\u001b[0;34m(\u001b[0m\u001b[0my_true\u001b[0m\u001b[0;34m,\u001b[0m \u001b[0my_score\u001b[0m\u001b[0;34m,\u001b[0m \u001b[0msample_weight\u001b[0m\u001b[0;34m)\u001b[0m\u001b[0;34m\u001b[0m\u001b[0;34m\u001b[0m\u001b[0m\n",
      "\u001b[0;32m~/anaconda3/lib/python3.8/site-packages/sklearn/metrics/_ranking.py\u001b[0m in \u001b[0;36m_binary_roc_auc_score\u001b[0;34m(y_true, y_score, sample_weight, max_fpr)\u001b[0m\n\u001b[1;32m    328\u001b[0m                          \"is not defined in that case.\")\n\u001b[1;32m    329\u001b[0m \u001b[0;34m\u001b[0m\u001b[0m\n\u001b[0;32m--> 330\u001b[0;31m     fpr, tpr, _ = roc_curve(y_true, y_score,\n\u001b[0m\u001b[1;32m    331\u001b[0m                             sample_weight=sample_weight)\n\u001b[1;32m    332\u001b[0m     \u001b[0;32mif\u001b[0m \u001b[0mmax_fpr\u001b[0m \u001b[0;32mis\u001b[0m \u001b[0;32mNone\u001b[0m \u001b[0;32mor\u001b[0m \u001b[0mmax_fpr\u001b[0m \u001b[0;34m==\u001b[0m \u001b[0;36m1\u001b[0m\u001b[0;34m:\u001b[0m\u001b[0;34m\u001b[0m\u001b[0;34m\u001b[0m\u001b[0m\n",
      "\u001b[0;32m~/anaconda3/lib/python3.8/site-packages/sklearn/utils/validation.py\u001b[0m in \u001b[0;36minner_f\u001b[0;34m(*args, **kwargs)\u001b[0m\n\u001b[1;32m     61\u001b[0m             \u001b[0mextra_args\u001b[0m \u001b[0;34m=\u001b[0m \u001b[0mlen\u001b[0m\u001b[0;34m(\u001b[0m\u001b[0margs\u001b[0m\u001b[0;34m)\u001b[0m \u001b[0;34m-\u001b[0m \u001b[0mlen\u001b[0m\u001b[0;34m(\u001b[0m\u001b[0mall_args\u001b[0m\u001b[0;34m)\u001b[0m\u001b[0;34m\u001b[0m\u001b[0;34m\u001b[0m\u001b[0m\n\u001b[1;32m     62\u001b[0m             \u001b[0;32mif\u001b[0m \u001b[0mextra_args\u001b[0m \u001b[0;34m<=\u001b[0m \u001b[0;36m0\u001b[0m\u001b[0;34m:\u001b[0m\u001b[0;34m\u001b[0m\u001b[0;34m\u001b[0m\u001b[0m\n\u001b[0;32m---> 63\u001b[0;31m                 \u001b[0;32mreturn\u001b[0m \u001b[0mf\u001b[0m\u001b[0;34m(\u001b[0m\u001b[0;34m*\u001b[0m\u001b[0margs\u001b[0m\u001b[0;34m,\u001b[0m \u001b[0;34m**\u001b[0m\u001b[0mkwargs\u001b[0m\u001b[0;34m)\u001b[0m\u001b[0;34m\u001b[0m\u001b[0;34m\u001b[0m\u001b[0m\n\u001b[0m\u001b[1;32m     64\u001b[0m \u001b[0;34m\u001b[0m\u001b[0m\n\u001b[1;32m     65\u001b[0m             \u001b[0;31m# extra_args > 0\u001b[0m\u001b[0;34m\u001b[0m\u001b[0;34m\u001b[0m\u001b[0;34m\u001b[0m\u001b[0m\n",
      "\u001b[0;32m~/anaconda3/lib/python3.8/site-packages/sklearn/metrics/_ranking.py\u001b[0m in \u001b[0;36mroc_curve\u001b[0;34m(y_true, y_score, pos_label, sample_weight, drop_intermediate)\u001b[0m\n\u001b[1;32m    911\u001b[0m \u001b[0;34m\u001b[0m\u001b[0m\n\u001b[1;32m    912\u001b[0m     \"\"\"\n\u001b[0;32m--> 913\u001b[0;31m     fps, tps, thresholds = _binary_clf_curve(\n\u001b[0m\u001b[1;32m    914\u001b[0m         y_true, y_score, pos_label=pos_label, sample_weight=sample_weight)\n\u001b[1;32m    915\u001b[0m \u001b[0;34m\u001b[0m\u001b[0m\n",
      "\u001b[0;32m~/anaconda3/lib/python3.8/site-packages/sklearn/metrics/_ranking.py\u001b[0m in \u001b[0;36m_binary_clf_curve\u001b[0;34m(y_true, y_score, pos_label, sample_weight)\u001b[0m\n\u001b[1;32m    691\u001b[0m         \u001b[0;32mraise\u001b[0m \u001b[0mValueError\u001b[0m\u001b[0;34m(\u001b[0m\u001b[0;34m\"{0} format is not supported\"\u001b[0m\u001b[0;34m.\u001b[0m\u001b[0mformat\u001b[0m\u001b[0;34m(\u001b[0m\u001b[0my_type\u001b[0m\u001b[0;34m)\u001b[0m\u001b[0;34m)\u001b[0m\u001b[0;34m\u001b[0m\u001b[0;34m\u001b[0m\u001b[0m\n\u001b[1;32m    692\u001b[0m \u001b[0;34m\u001b[0m\u001b[0m\n\u001b[0;32m--> 693\u001b[0;31m     \u001b[0mcheck_consistent_length\u001b[0m\u001b[0;34m(\u001b[0m\u001b[0my_true\u001b[0m\u001b[0;34m,\u001b[0m \u001b[0my_score\u001b[0m\u001b[0;34m,\u001b[0m \u001b[0msample_weight\u001b[0m\u001b[0;34m)\u001b[0m\u001b[0;34m\u001b[0m\u001b[0;34m\u001b[0m\u001b[0m\n\u001b[0m\u001b[1;32m    694\u001b[0m     \u001b[0my_true\u001b[0m \u001b[0;34m=\u001b[0m \u001b[0mcolumn_or_1d\u001b[0m\u001b[0;34m(\u001b[0m\u001b[0my_true\u001b[0m\u001b[0;34m)\u001b[0m\u001b[0;34m\u001b[0m\u001b[0;34m\u001b[0m\u001b[0m\n\u001b[1;32m    695\u001b[0m     \u001b[0my_score\u001b[0m \u001b[0;34m=\u001b[0m \u001b[0mcolumn_or_1d\u001b[0m\u001b[0;34m(\u001b[0m\u001b[0my_score\u001b[0m\u001b[0;34m)\u001b[0m\u001b[0;34m\u001b[0m\u001b[0;34m\u001b[0m\u001b[0m\n",
      "\u001b[0;32m~/anaconda3/lib/python3.8/site-packages/sklearn/utils/validation.py\u001b[0m in \u001b[0;36mcheck_consistent_length\u001b[0;34m(*arrays)\u001b[0m\n\u001b[1;32m    317\u001b[0m     \u001b[0muniques\u001b[0m \u001b[0;34m=\u001b[0m \u001b[0mnp\u001b[0m\u001b[0;34m.\u001b[0m\u001b[0munique\u001b[0m\u001b[0;34m(\u001b[0m\u001b[0mlengths\u001b[0m\u001b[0;34m)\u001b[0m\u001b[0;34m\u001b[0m\u001b[0;34m\u001b[0m\u001b[0m\n\u001b[1;32m    318\u001b[0m     \u001b[0;32mif\u001b[0m \u001b[0mlen\u001b[0m\u001b[0;34m(\u001b[0m\u001b[0muniques\u001b[0m\u001b[0;34m)\u001b[0m \u001b[0;34m>\u001b[0m \u001b[0;36m1\u001b[0m\u001b[0;34m:\u001b[0m\u001b[0;34m\u001b[0m\u001b[0;34m\u001b[0m\u001b[0m\n\u001b[0;32m--> 319\u001b[0;31m         raise ValueError(\"Found input variables with inconsistent numbers of\"\n\u001b[0m\u001b[1;32m    320\u001b[0m                          \" samples: %r\" % [int(l) for l in lengths])\n\u001b[1;32m    321\u001b[0m \u001b[0;34m\u001b[0m\u001b[0m\n",
      "\u001b[0;31mValueError\u001b[0m: Found input variables with inconsistent numbers of samples: [312, 418]"
     ]
    }
   ],
=======
   "execution_count": 1364,
   "metadata": {},
   "outputs": [],
>>>>>>> 919260e0344a37d9495170641d01e414d191855d
   "source": [
    "lr_auc = roc_auc_score(y_test, lr_probs)"
   ]
  },
  {
   "cell_type": "code",
<<<<<<< HEAD
   "execution_count": 1969,
=======
   "execution_count": 1365,
>>>>>>> 919260e0344a37d9495170641d01e414d191855d
   "metadata": {},
   "outputs": [
    {
     "name": "stdout",
     "output_type": "stream",
     "text": [
      "No Skill: ROC AUC=0.500\n",
<<<<<<< HEAD
      "Logistic: ROC AUC=0.804\n"
=======
      "Logistic: ROC AUC=0.874\n"
>>>>>>> 919260e0344a37d9495170641d01e414d191855d
     ]
    }
   ],
   "source": [
    "print('No Skill: ROC AUC=%.3f' % (ns_auc))\n",
    "print('Logistic: ROC AUC=%.3f' % (lr_auc))"
   ]
  },
  {
   "cell_type": "code",
<<<<<<< HEAD
   "execution_count": 1970,
=======
   "execution_count": 1366,
>>>>>>> 919260e0344a37d9495170641d01e414d191855d
   "metadata": {},
   "outputs": [],
   "source": [
    "ns_fpr, ns_tpr, _ = roc_curve(y_test, ns_probs)\n",
    "lr_fpr, lr_tpr, _ = roc_curve(y_test, lr_probs)"
   ]
  },
  {
   "cell_type": "code",
<<<<<<< HEAD
   "execution_count": 1971,
=======
   "execution_count": 1367,
>>>>>>> 919260e0344a37d9495170641d01e414d191855d
   "metadata": {},
   "outputs": [
    {
     "data": {
<<<<<<< HEAD
      "image/png": "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\n",
=======
      "image/png": "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\n",
>>>>>>> 919260e0344a37d9495170641d01e414d191855d
      "text/plain": [
       "<Figure size 432x288 with 1 Axes>"
      ]
     },
     "metadata": {
      "needs_background": "light"
     },
     "output_type": "display_data"
    }
   ],
   "source": [
    "from matplotlib import pyplot\n",
    "pyplot.plot(ns_fpr, ns_tpr, linestyle='--', label='No Skill')\n",
    "pyplot.plot(lr_fpr, lr_tpr, marker='.', label='Logistic')\n",
    "# axis labels\n",
    "pyplot.xlabel('False Positive Rate')\n",
    "pyplot.ylabel('True Positive Rate')\n",
    "# show the legend\n",
    "pyplot.legend()\n",
    "# show the plot\n",
    "pyplot.show()"
   ]
  },
  {
   "cell_type": "markdown",
   "metadata": {},
   "source": [
    "## 3.3. Precision Recall Curve"
   ]
  },
  {
   "cell_type": "code",
<<<<<<< HEAD
   "execution_count": 1972,
=======
   "execution_count": 1368,
>>>>>>> 919260e0344a37d9495170641d01e414d191855d
   "metadata": {},
   "outputs": [
    {
     "ename": "ValueError",
<<<<<<< HEAD
     "evalue": "Found input variables with inconsistent numbers of samples: [312, 2]",
=======
     "evalue": "Found input variables with inconsistent numbers of samples: [223, 2]",
>>>>>>> 919260e0344a37d9495170641d01e414d191855d
     "output_type": "error",
     "traceback": [
      "\u001b[0;31m---------------------------------------------------------------------------\u001b[0m",
      "\u001b[0;31mValueError\u001b[0m                                Traceback (most recent call last)",
<<<<<<< HEAD
      "\u001b[0;32m<ipython-input-1972-70a3369012e6>\u001b[0m in \u001b[0;36m<module>\u001b[0;34m\u001b[0m\n\u001b[1;32m      1\u001b[0m \u001b[0;32mfrom\u001b[0m \u001b[0msklearn\u001b[0m\u001b[0;34m.\u001b[0m\u001b[0mmetrics\u001b[0m \u001b[0;32mimport\u001b[0m \u001b[0mprecision_recall_curve\u001b[0m\u001b[0;34m\u001b[0m\u001b[0;34m\u001b[0m\u001b[0m\n\u001b[1;32m      2\u001b[0m \u001b[0myhat\u001b[0m \u001b[0;34m=\u001b[0m \u001b[0mmodel\u001b[0m\u001b[0;34m.\u001b[0m\u001b[0mpredict\u001b[0m\u001b[0;34m(\u001b[0m\u001b[0mX_test\u001b[0m\u001b[0;34m)\u001b[0m\u001b[0;34m\u001b[0m\u001b[0;34m\u001b[0m\u001b[0m\n\u001b[0;32m----> 3\u001b[0;31m \u001b[0mlr_precision\u001b[0m\u001b[0;34m,\u001b[0m \u001b[0mlr_recall\u001b[0m\u001b[0;34m,\u001b[0m \u001b[0m_\u001b[0m \u001b[0;34m=\u001b[0m \u001b[0mprecision_recall_curve\u001b[0m\u001b[0;34m(\u001b[0m\u001b[0my_test\u001b[0m\u001b[0;34m,\u001b[0m \u001b[0mmodel\u001b[0m\u001b[0;34m.\u001b[0m\u001b[0mpredict_proba\u001b[0m\u001b[0;34m(\u001b[0m\u001b[0mX_test\u001b[0m\u001b[0;34m)\u001b[0m\u001b[0;34m[\u001b[0m\u001b[0;36m1\u001b[0m\u001b[0;34m]\u001b[0m\u001b[0;34m)\u001b[0m\u001b[0;34m\u001b[0m\u001b[0;34m\u001b[0m\u001b[0m\n\u001b[0m\u001b[1;32m      4\u001b[0m \u001b[0mlr_f1\u001b[0m\u001b[0;34m,\u001b[0m \u001b[0mlr_auc\u001b[0m \u001b[0;34m=\u001b[0m \u001b[0mf1_score\u001b[0m\u001b[0;34m(\u001b[0m\u001b[0my_test\u001b[0m\u001b[0;34m,\u001b[0m \u001b[0myhat\u001b[0m\u001b[0;34m)\u001b[0m\u001b[0;34m,\u001b[0m \u001b[0mauc\u001b[0m\u001b[0;34m(\u001b[0m\u001b[0mlr_recall\u001b[0m\u001b[0;34m,\u001b[0m \u001b[0mlr_precision\u001b[0m\u001b[0;34m)\u001b[0m\u001b[0;34m\u001b[0m\u001b[0;34m\u001b[0m\u001b[0m\n\u001b[1;32m      5\u001b[0m \u001b[0;31m# summarize scores\u001b[0m\u001b[0;34m\u001b[0m\u001b[0;34m\u001b[0m\u001b[0;34m\u001b[0m\u001b[0m\n",
=======
      "\u001b[0;32m<ipython-input-1368-70a3369012e6>\u001b[0m in \u001b[0;36m<module>\u001b[0;34m\u001b[0m\n\u001b[1;32m      1\u001b[0m \u001b[0;32mfrom\u001b[0m \u001b[0msklearn\u001b[0m\u001b[0;34m.\u001b[0m\u001b[0mmetrics\u001b[0m \u001b[0;32mimport\u001b[0m \u001b[0mprecision_recall_curve\u001b[0m\u001b[0;34m\u001b[0m\u001b[0;34m\u001b[0m\u001b[0m\n\u001b[1;32m      2\u001b[0m \u001b[0myhat\u001b[0m \u001b[0;34m=\u001b[0m \u001b[0mmodel\u001b[0m\u001b[0;34m.\u001b[0m\u001b[0mpredict\u001b[0m\u001b[0;34m(\u001b[0m\u001b[0mX_test\u001b[0m\u001b[0;34m)\u001b[0m\u001b[0;34m\u001b[0m\u001b[0;34m\u001b[0m\u001b[0m\n\u001b[0;32m----> 3\u001b[0;31m \u001b[0mlr_precision\u001b[0m\u001b[0;34m,\u001b[0m \u001b[0mlr_recall\u001b[0m\u001b[0;34m,\u001b[0m \u001b[0m_\u001b[0m \u001b[0;34m=\u001b[0m \u001b[0mprecision_recall_curve\u001b[0m\u001b[0;34m(\u001b[0m\u001b[0my_test\u001b[0m\u001b[0;34m,\u001b[0m \u001b[0mmodel\u001b[0m\u001b[0;34m.\u001b[0m\u001b[0mpredict_proba\u001b[0m\u001b[0;34m(\u001b[0m\u001b[0mX_test\u001b[0m\u001b[0;34m)\u001b[0m\u001b[0;34m[\u001b[0m\u001b[0;36m1\u001b[0m\u001b[0;34m]\u001b[0m\u001b[0;34m)\u001b[0m\u001b[0;34m\u001b[0m\u001b[0;34m\u001b[0m\u001b[0m\n\u001b[0m\u001b[1;32m      4\u001b[0m \u001b[0mlr_f1\u001b[0m\u001b[0;34m,\u001b[0m \u001b[0mlr_auc\u001b[0m \u001b[0;34m=\u001b[0m \u001b[0mf1_score\u001b[0m\u001b[0;34m(\u001b[0m\u001b[0my_test\u001b[0m\u001b[0;34m,\u001b[0m \u001b[0myhat\u001b[0m\u001b[0;34m)\u001b[0m\u001b[0;34m,\u001b[0m \u001b[0mauc\u001b[0m\u001b[0;34m(\u001b[0m\u001b[0mlr_recall\u001b[0m\u001b[0;34m,\u001b[0m \u001b[0mlr_precision\u001b[0m\u001b[0;34m)\u001b[0m\u001b[0;34m\u001b[0m\u001b[0;34m\u001b[0m\u001b[0m\n\u001b[1;32m      5\u001b[0m \u001b[0;31m# summarize scores\u001b[0m\u001b[0;34m\u001b[0m\u001b[0;34m\u001b[0m\u001b[0;34m\u001b[0m\u001b[0m\n",
>>>>>>> 919260e0344a37d9495170641d01e414d191855d
      "\u001b[0;32m~/anaconda3/lib/python3.8/site-packages/sklearn/utils/validation.py\u001b[0m in \u001b[0;36minner_f\u001b[0;34m(*args, **kwargs)\u001b[0m\n\u001b[1;32m     61\u001b[0m             \u001b[0mextra_args\u001b[0m \u001b[0;34m=\u001b[0m \u001b[0mlen\u001b[0m\u001b[0;34m(\u001b[0m\u001b[0margs\u001b[0m\u001b[0;34m)\u001b[0m \u001b[0;34m-\u001b[0m \u001b[0mlen\u001b[0m\u001b[0;34m(\u001b[0m\u001b[0mall_args\u001b[0m\u001b[0;34m)\u001b[0m\u001b[0;34m\u001b[0m\u001b[0;34m\u001b[0m\u001b[0m\n\u001b[1;32m     62\u001b[0m             \u001b[0;32mif\u001b[0m \u001b[0mextra_args\u001b[0m \u001b[0;34m<=\u001b[0m \u001b[0;36m0\u001b[0m\u001b[0;34m:\u001b[0m\u001b[0;34m\u001b[0m\u001b[0;34m\u001b[0m\u001b[0m\n\u001b[0;32m---> 63\u001b[0;31m                 \u001b[0;32mreturn\u001b[0m \u001b[0mf\u001b[0m\u001b[0;34m(\u001b[0m\u001b[0;34m*\u001b[0m\u001b[0margs\u001b[0m\u001b[0;34m,\u001b[0m \u001b[0;34m**\u001b[0m\u001b[0mkwargs\u001b[0m\u001b[0;34m)\u001b[0m\u001b[0;34m\u001b[0m\u001b[0;34m\u001b[0m\u001b[0m\n\u001b[0m\u001b[1;32m     64\u001b[0m \u001b[0;34m\u001b[0m\u001b[0m\n\u001b[1;32m     65\u001b[0m             \u001b[0;31m# extra_args > 0\u001b[0m\u001b[0;34m\u001b[0m\u001b[0;34m\u001b[0m\u001b[0;34m\u001b[0m\u001b[0m\n",
      "\u001b[0;32m~/anaconda3/lib/python3.8/site-packages/sklearn/metrics/_ranking.py\u001b[0m in \u001b[0;36mprecision_recall_curve\u001b[0;34m(y_true, probas_pred, pos_label, sample_weight)\u001b[0m\n\u001b[1;32m    809\u001b[0m \u001b[0;34m\u001b[0m\u001b[0m\n\u001b[1;32m    810\u001b[0m     \"\"\"\n\u001b[0;32m--> 811\u001b[0;31m     fps, tps, thresholds = _binary_clf_curve(y_true, probas_pred,\n\u001b[0m\u001b[1;32m    812\u001b[0m                                              \u001b[0mpos_label\u001b[0m\u001b[0;34m=\u001b[0m\u001b[0mpos_label\u001b[0m\u001b[0;34m,\u001b[0m\u001b[0;34m\u001b[0m\u001b[0;34m\u001b[0m\u001b[0m\n\u001b[1;32m    813\u001b[0m                                              sample_weight=sample_weight)\n",
      "\u001b[0;32m~/anaconda3/lib/python3.8/site-packages/sklearn/metrics/_ranking.py\u001b[0m in \u001b[0;36m_binary_clf_curve\u001b[0;34m(y_true, y_score, pos_label, sample_weight)\u001b[0m\n\u001b[1;32m    691\u001b[0m         \u001b[0;32mraise\u001b[0m \u001b[0mValueError\u001b[0m\u001b[0;34m(\u001b[0m\u001b[0;34m\"{0} format is not supported\"\u001b[0m\u001b[0;34m.\u001b[0m\u001b[0mformat\u001b[0m\u001b[0;34m(\u001b[0m\u001b[0my_type\u001b[0m\u001b[0;34m)\u001b[0m\u001b[0;34m)\u001b[0m\u001b[0;34m\u001b[0m\u001b[0;34m\u001b[0m\u001b[0m\n\u001b[1;32m    692\u001b[0m \u001b[0;34m\u001b[0m\u001b[0m\n\u001b[0;32m--> 693\u001b[0;31m     \u001b[0mcheck_consistent_length\u001b[0m\u001b[0;34m(\u001b[0m\u001b[0my_true\u001b[0m\u001b[0;34m,\u001b[0m \u001b[0my_score\u001b[0m\u001b[0;34m,\u001b[0m \u001b[0msample_weight\u001b[0m\u001b[0;34m)\u001b[0m\u001b[0;34m\u001b[0m\u001b[0;34m\u001b[0m\u001b[0m\n\u001b[0m\u001b[1;32m    694\u001b[0m     \u001b[0my_true\u001b[0m \u001b[0;34m=\u001b[0m \u001b[0mcolumn_or_1d\u001b[0m\u001b[0;34m(\u001b[0m\u001b[0my_true\u001b[0m\u001b[0;34m)\u001b[0m\u001b[0;34m\u001b[0m\u001b[0;34m\u001b[0m\u001b[0m\n\u001b[1;32m    695\u001b[0m     \u001b[0my_score\u001b[0m \u001b[0;34m=\u001b[0m \u001b[0mcolumn_or_1d\u001b[0m\u001b[0;34m(\u001b[0m\u001b[0my_score\u001b[0m\u001b[0;34m)\u001b[0m\u001b[0;34m\u001b[0m\u001b[0;34m\u001b[0m\u001b[0m\n",
      "\u001b[0;32m~/anaconda3/lib/python3.8/site-packages/sklearn/utils/validation.py\u001b[0m in \u001b[0;36mcheck_consistent_length\u001b[0;34m(*arrays)\u001b[0m\n\u001b[1;32m    317\u001b[0m     \u001b[0muniques\u001b[0m \u001b[0;34m=\u001b[0m \u001b[0mnp\u001b[0m\u001b[0;34m.\u001b[0m\u001b[0munique\u001b[0m\u001b[0;34m(\u001b[0m\u001b[0mlengths\u001b[0m\u001b[0;34m)\u001b[0m\u001b[0;34m\u001b[0m\u001b[0;34m\u001b[0m\u001b[0m\n\u001b[1;32m    318\u001b[0m     \u001b[0;32mif\u001b[0m \u001b[0mlen\u001b[0m\u001b[0;34m(\u001b[0m\u001b[0muniques\u001b[0m\u001b[0;34m)\u001b[0m \u001b[0;34m>\u001b[0m \u001b[0;36m1\u001b[0m\u001b[0;34m:\u001b[0m\u001b[0;34m\u001b[0m\u001b[0;34m\u001b[0m\u001b[0m\n\u001b[0;32m--> 319\u001b[0;31m         raise ValueError(\"Found input variables with inconsistent numbers of\"\n\u001b[0m\u001b[1;32m    320\u001b[0m                          \" samples: %r\" % [int(l) for l in lengths])\n\u001b[1;32m    321\u001b[0m \u001b[0;34m\u001b[0m\u001b[0m\n",
<<<<<<< HEAD
      "\u001b[0;31mValueError\u001b[0m: Found input variables with inconsistent numbers of samples: [312, 2]"
=======
      "\u001b[0;31mValueError\u001b[0m: Found input variables with inconsistent numbers of samples: [223, 2]"
>>>>>>> 919260e0344a37d9495170641d01e414d191855d
     ]
    }
   ],
   "source": [
    "from sklearn.metrics import precision_recall_curve\n",
    "yhat = model.predict(X_test)\n",
    "lr_precision, lr_recall, _ = precision_recall_curve(y_test, model.predict_proba(X_test)[1])\n",
    "lr_f1, lr_auc = f1_score(y_test, yhat), auc(lr_recall, lr_precision)\n",
    "# summarize scores\n",
    "print('Logistic: f1=%.3f auc=%.3f' % (lr_f1, lr_auc))\n",
    "# plot the precision-recall curves\n",
    "no_skill = len(y_test[y_test==1]) / len(y_test)\n",
    "pyplot.plot([0, 1], [no_skill, no_skill], linestyle='--', label='No Skill')\n",
    "pyplot.plot(lr_recall, lr_precision, marker='.', label='Logistic')\n",
    "# axis labels\n",
    "pyplot.xlabel('Recall')\n",
    "pyplot.ylabel('Precision')\n",
    "# show the legend\n",
    "pyplot.legend()\n",
    "# show the plot\n",
    "pyplot.show()"
   ]
  },
  {
   "cell_type": "markdown",
   "metadata": {},
   "source": [
    "## 3.4. Decision Boundary\n",
    "Plot the decision boundary for two scalar features from the Titanic dataset. Use this code example:"
   ]
  },
  {
   "cell_type": "code",
<<<<<<< HEAD
   "execution_count": 1973,
   "metadata": {},
   "outputs": [
    {
     "data": {
      "image/png": "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\n",
      "text/plain": [
       "<Figure size 720x576 with 1 Axes>"
      ]
     },
     "metadata": {
      "needs_background": "light"
     },
     "output_type": "display_data"
    }
   ],
=======
   "execution_count": null,
   "metadata": {},
   "outputs": [],
>>>>>>> 919260e0344a37d9495170641d01e414d191855d
   "source": [
    "import numpy as np\n",
    "import matplotlib.pyplot as plt\n",
    "\n",
    "from sklearn import datasets\n",
    "from sklearn.tree import DecisionTreeClassifier\n",
    "\n",
<<<<<<< HEAD
    "X2 = X.iloc[:,[0,3]].values\n",
=======
    "X2 = X.iloc[:,[0,4]].values\n",
>>>>>>> 919260e0344a37d9495170641d01e414d191855d
    "# Train a classification model\n",
    "m = DecisionTreeClassifier(max_depth=4)\n",
    "m.fit(X2, y)\n",
    "# What about other models? Try them here as well.\n",
    "\n",
    "#step size in the mesh\n",
    "h = 0.01\n",
    "\n",
    "# Plotting decision regions\n",
    "#For that, we will assign a color to each point in the mesh [x_min, x_max] * [y_min, y_max]\n",
    "x_min, x_max = X2[:][:, 0].min() - 1, X2[:][:, 0].max() + 1\n",
    "y_min, y_max = X2[:][:, 1].min() - 1, X2[:][:, 1].max() + 1\n",
    "xx, yy = np.meshgrid(np.arange(x_min, x_max, h),\n",
    "                     np.arange(y_min, y_max, h))\n",
    "\n",
    "f, ax = plt.subplots(1, 1, sharex='col', sharey='row', figsize=(10, 8))\n",
    "\n",
    "Xgrid = np.c_[xx.ravel(), yy.ravel()]\n",
    "Z = m.predict(Xgrid)\n",
    "\n",
    "# Put the result into a color plot\n",
    "Z = Z.reshape(xx.shape)\n",
    "ax.contourf(xx, yy, Z, alpha=0.4)\n",
    "\n",
    "#plot the training points\n",
    "ax.scatter(X2[:, 0], X2[:, 1], c=y, s=50, edgecolor='k')\n",
    "ax.set_title(f'Decision Tree (depth=4), Training Score: {round(m.score(X2, y), 2)}')\n",
<<<<<<< HEAD
    "plt.xlabel('cabin_number')\n",
    "plt.ylabel('rank')\n",
=======
    "plt.xlabel('Sex_male')\n",
    "plt.ylabel('Age')\n",
>>>>>>> 919260e0344a37d9495170641d01e414d191855d
    "\n",
    "plt.show()\n"
   ]
  },
  {
   "cell_type": "markdown",
   "metadata": {},
   "source": [
    "# 5. Cross-validation Score"
   ]
  },
  {
   "cell_type": "code",
<<<<<<< HEAD
   "execution_count": 53,
=======
   "execution_count": 1581,
>>>>>>> 919260e0344a37d9495170641d01e414d191855d
   "metadata": {},
   "outputs": [
    {
     "name": "stdout",
     "output_type": "stream",
     "text": [
<<<<<<< HEAD
      "cross-validation scores [0.83333333 0.78333333 0.86666667 0.8        0.76666667 0.88333333\n",
      " 0.83050847 0.83050847 0.76271186 0.81355932 0.79661017 0.74576271\n",
      " 0.76271186 0.83050847 0.83050847]\n",
      "median of cross-validation scores 0.8135593220338984\n"
=======
      "cross-validation scores [0.88888889 0.77777778 0.66666667 0.77777778 0.97777778 0.8\n",
      " 0.88888889 0.71111111 0.70454545 0.70454545 0.81818182 0.72727273\n",
      " 0.75       0.86363636 0.86363636]\n",
      "median of cross-validation scores 0.7777777777777778\n"
>>>>>>> 919260e0344a37d9495170641d01e414d191855d
     ]
    }
   ],
   "source": [
    "from sklearn.model_selection import cross_val_score\n",
    "import statistics\n",
    "\n",
    "model = LogisticRegression()\n",
    "accuracy = cross_val_score(model, X_train, y_train, cv=15, scoring='accuracy')\n",
    "print(\"cross-validation scores\", accuracy)\n",
    "print(\"median of cross-validation scores\", statistics.median(accuracy))"
   ]
  },
  {
   "cell_type": "markdown",
   "metadata": {},
   "source": [
    "# 6. Random Forest"
   ]
  },
  {
   "cell_type": "markdown",
   "metadata": {},
   "source": [
    "## 6.1. Random Forest"
   ]
  },
  {
   "cell_type": "code",
<<<<<<< HEAD
   "execution_count": 2075,
=======
   "execution_count": 1582,
>>>>>>> 919260e0344a37d9495170641d01e414d191855d
   "metadata": {},
   "outputs": [],
   "source": [
    "from sklearn.ensemble import RandomForestClassifier"
   ]
  },
  {
   "cell_type": "code",
<<<<<<< HEAD
   "execution_count": 2121,
=======
   "execution_count": 1583,
>>>>>>> 919260e0344a37d9495170641d01e414d191855d
   "metadata": {},
   "outputs": [
    {
     "data": {
      "text/plain": [
<<<<<<< HEAD
       "RandomForestClassifier(criterion='entropy', max_depth=9, max_features='log2',\n",
       "                       n_estimators=1000, random_state=42)"
      ]
     },
     "execution_count": 2121,
=======
       "RandomForestClassifier(criterion='entropy', max_depth=10, n_estimators=1000,\n",
       "                       random_state=42)"
      ]
     },
     "execution_count": 1583,
>>>>>>> 919260e0344a37d9495170641d01e414d191855d
     "metadata": {},
     "output_type": "execute_result"
    }
   ],
   "source": [
<<<<<<< HEAD
    "clf = RandomForestClassifier(criterion=\"entropy\", n_estimators=1000, max_features='log2', max_depth=9, random_state=42)\n",
=======
    "clf = RandomForestClassifier(criterion=\"entropy\", n_estimators=1000, max_depth=10, random_state=42)\n",
>>>>>>> 919260e0344a37d9495170641d01e414d191855d
    "clf.fit(X_train, y_train)"
   ]
  },
  {
   "cell_type": "code",
<<<<<<< HEAD
   "execution_count": 2122,
   "metadata": {},
   "outputs": [
    {
     "ename": "ValueError",
     "evalue": "X has 4 features, but DecisionTreeClassifier is expecting 6 features as input.",
     "output_type": "error",
     "traceback": [
      "\u001b[0;31m---------------------------------------------------------------------------\u001b[0m",
      "\u001b[0;31mValueError\u001b[0m                                Traceback (most recent call last)",
      "\u001b[0;32m<ipython-input-2122-f7a4cc69b9a5>\u001b[0m in \u001b[0;36m<module>\u001b[0;34m\u001b[0m\n\u001b[0;32m----> 1\u001b[0;31m \u001b[0my_pred\u001b[0m \u001b[0;34m=\u001b[0m \u001b[0mclf\u001b[0m\u001b[0;34m.\u001b[0m\u001b[0mpredict\u001b[0m\u001b[0;34m(\u001b[0m\u001b[0mX_test\u001b[0m\u001b[0;34m)\u001b[0m\u001b[0;34m\u001b[0m\u001b[0;34m\u001b[0m\u001b[0m\n\u001b[0m",
      "\u001b[0;32m~/anaconda3/lib/python3.8/site-packages/sklearn/ensemble/_forest.py\u001b[0m in \u001b[0;36mpredict\u001b[0;34m(self, X)\u001b[0m\n\u001b[1;32m    628\u001b[0m             \u001b[0mThe\u001b[0m \u001b[0mpredicted\u001b[0m \u001b[0mclasses\u001b[0m\u001b[0;34m.\u001b[0m\u001b[0;34m\u001b[0m\u001b[0;34m\u001b[0m\u001b[0m\n\u001b[1;32m    629\u001b[0m         \"\"\"\n\u001b[0;32m--> 630\u001b[0;31m         \u001b[0mproba\u001b[0m \u001b[0;34m=\u001b[0m \u001b[0mself\u001b[0m\u001b[0;34m.\u001b[0m\u001b[0mpredict_proba\u001b[0m\u001b[0;34m(\u001b[0m\u001b[0mX\u001b[0m\u001b[0;34m)\u001b[0m\u001b[0;34m\u001b[0m\u001b[0;34m\u001b[0m\u001b[0m\n\u001b[0m\u001b[1;32m    631\u001b[0m \u001b[0;34m\u001b[0m\u001b[0m\n\u001b[1;32m    632\u001b[0m         \u001b[0;32mif\u001b[0m \u001b[0mself\u001b[0m\u001b[0;34m.\u001b[0m\u001b[0mn_outputs_\u001b[0m \u001b[0;34m==\u001b[0m \u001b[0;36m1\u001b[0m\u001b[0;34m:\u001b[0m\u001b[0;34m\u001b[0m\u001b[0;34m\u001b[0m\u001b[0m\n",
      "\u001b[0;32m~/anaconda3/lib/python3.8/site-packages/sklearn/ensemble/_forest.py\u001b[0m in \u001b[0;36mpredict_proba\u001b[0;34m(self, X)\u001b[0m\n\u001b[1;32m    672\u001b[0m         \u001b[0mcheck_is_fitted\u001b[0m\u001b[0;34m(\u001b[0m\u001b[0mself\u001b[0m\u001b[0;34m)\u001b[0m\u001b[0;34m\u001b[0m\u001b[0;34m\u001b[0m\u001b[0m\n\u001b[1;32m    673\u001b[0m         \u001b[0;31m# Check data\u001b[0m\u001b[0;34m\u001b[0m\u001b[0;34m\u001b[0m\u001b[0;34m\u001b[0m\u001b[0m\n\u001b[0;32m--> 674\u001b[0;31m         \u001b[0mX\u001b[0m \u001b[0;34m=\u001b[0m \u001b[0mself\u001b[0m\u001b[0;34m.\u001b[0m\u001b[0m_validate_X_predict\u001b[0m\u001b[0;34m(\u001b[0m\u001b[0mX\u001b[0m\u001b[0;34m)\u001b[0m\u001b[0;34m\u001b[0m\u001b[0;34m\u001b[0m\u001b[0m\n\u001b[0m\u001b[1;32m    675\u001b[0m \u001b[0;34m\u001b[0m\u001b[0m\n\u001b[1;32m    676\u001b[0m         \u001b[0;31m# Assign chunk of trees to jobs\u001b[0m\u001b[0;34m\u001b[0m\u001b[0;34m\u001b[0m\u001b[0;34m\u001b[0m\u001b[0m\n",
      "\u001b[0;32m~/anaconda3/lib/python3.8/site-packages/sklearn/ensemble/_forest.py\u001b[0m in \u001b[0;36m_validate_X_predict\u001b[0;34m(self, X)\u001b[0m\n\u001b[1;32m    420\u001b[0m         \u001b[0mcheck_is_fitted\u001b[0m\u001b[0;34m(\u001b[0m\u001b[0mself\u001b[0m\u001b[0;34m)\u001b[0m\u001b[0;34m\u001b[0m\u001b[0;34m\u001b[0m\u001b[0m\n\u001b[1;32m    421\u001b[0m \u001b[0;34m\u001b[0m\u001b[0m\n\u001b[0;32m--> 422\u001b[0;31m         \u001b[0;32mreturn\u001b[0m \u001b[0mself\u001b[0m\u001b[0;34m.\u001b[0m\u001b[0mestimators_\u001b[0m\u001b[0;34m[\u001b[0m\u001b[0;36m0\u001b[0m\u001b[0;34m]\u001b[0m\u001b[0;34m.\u001b[0m\u001b[0m_validate_X_predict\u001b[0m\u001b[0;34m(\u001b[0m\u001b[0mX\u001b[0m\u001b[0;34m,\u001b[0m \u001b[0mcheck_input\u001b[0m\u001b[0;34m=\u001b[0m\u001b[0;32mTrue\u001b[0m\u001b[0;34m)\u001b[0m\u001b[0;34m\u001b[0m\u001b[0;34m\u001b[0m\u001b[0m\n\u001b[0m\u001b[1;32m    423\u001b[0m \u001b[0;34m\u001b[0m\u001b[0m\n\u001b[1;32m    424\u001b[0m     \u001b[0;34m@\u001b[0m\u001b[0mproperty\u001b[0m\u001b[0;34m\u001b[0m\u001b[0;34m\u001b[0m\u001b[0m\n",
      "\u001b[0;32m~/anaconda3/lib/python3.8/site-packages/sklearn/tree/_classes.py\u001b[0m in \u001b[0;36m_validate_X_predict\u001b[0;34m(self, X, check_input)\u001b[0m\n\u001b[1;32m    405\u001b[0m         \u001b[0;34m\"\"\"Validate the training data on predict (probabilities).\"\"\"\u001b[0m\u001b[0;34m\u001b[0m\u001b[0;34m\u001b[0m\u001b[0m\n\u001b[1;32m    406\u001b[0m         \u001b[0;32mif\u001b[0m \u001b[0mcheck_input\u001b[0m\u001b[0;34m:\u001b[0m\u001b[0;34m\u001b[0m\u001b[0;34m\u001b[0m\u001b[0m\n\u001b[0;32m--> 407\u001b[0;31m             X = self._validate_data(X, dtype=DTYPE, accept_sparse=\"csr\",\n\u001b[0m\u001b[1;32m    408\u001b[0m                                     reset=False)\n\u001b[1;32m    409\u001b[0m             if issparse(X) and (X.indices.dtype != np.intc or\n",
      "\u001b[0;32m~/anaconda3/lib/python3.8/site-packages/sklearn/base.py\u001b[0m in \u001b[0;36m_validate_data\u001b[0;34m(self, X, y, reset, validate_separately, **check_params)\u001b[0m\n\u001b[1;32m    435\u001b[0m \u001b[0;34m\u001b[0m\u001b[0m\n\u001b[1;32m    436\u001b[0m         \u001b[0;32mif\u001b[0m \u001b[0mcheck_params\u001b[0m\u001b[0;34m.\u001b[0m\u001b[0mget\u001b[0m\u001b[0;34m(\u001b[0m\u001b[0;34m'ensure_2d'\u001b[0m\u001b[0;34m,\u001b[0m \u001b[0;32mTrue\u001b[0m\u001b[0;34m)\u001b[0m\u001b[0;34m:\u001b[0m\u001b[0;34m\u001b[0m\u001b[0;34m\u001b[0m\u001b[0m\n\u001b[0;32m--> 437\u001b[0;31m             \u001b[0mself\u001b[0m\u001b[0;34m.\u001b[0m\u001b[0m_check_n_features\u001b[0m\u001b[0;34m(\u001b[0m\u001b[0mX\u001b[0m\u001b[0;34m,\u001b[0m \u001b[0mreset\u001b[0m\u001b[0;34m=\u001b[0m\u001b[0mreset\u001b[0m\u001b[0;34m)\u001b[0m\u001b[0;34m\u001b[0m\u001b[0;34m\u001b[0m\u001b[0m\n\u001b[0m\u001b[1;32m    438\u001b[0m \u001b[0;34m\u001b[0m\u001b[0m\n\u001b[1;32m    439\u001b[0m         \u001b[0;32mreturn\u001b[0m \u001b[0mout\u001b[0m\u001b[0;34m\u001b[0m\u001b[0;34m\u001b[0m\u001b[0m\n",
      "\u001b[0;32m~/anaconda3/lib/python3.8/site-packages/sklearn/base.py\u001b[0m in \u001b[0;36m_check_n_features\u001b[0;34m(self, X, reset)\u001b[0m\n\u001b[1;32m    363\u001b[0m \u001b[0;34m\u001b[0m\u001b[0m\n\u001b[1;32m    364\u001b[0m         \u001b[0;32mif\u001b[0m \u001b[0mn_features\u001b[0m \u001b[0;34m!=\u001b[0m \u001b[0mself\u001b[0m\u001b[0;34m.\u001b[0m\u001b[0mn_features_in_\u001b[0m\u001b[0;34m:\u001b[0m\u001b[0;34m\u001b[0m\u001b[0;34m\u001b[0m\u001b[0m\n\u001b[0;32m--> 365\u001b[0;31m             raise ValueError(\n\u001b[0m\u001b[1;32m    366\u001b[0m                 \u001b[0;34mf\"X has {n_features} features, but {self.__class__.__name__} \"\u001b[0m\u001b[0;34m\u001b[0m\u001b[0;34m\u001b[0m\u001b[0m\n\u001b[1;32m    367\u001b[0m                 f\"is expecting {self.n_features_in_} features as input.\")\n",
      "\u001b[0;31mValueError\u001b[0m: X has 4 features, but DecisionTreeClassifier is expecting 6 features as input."
     ]
    }
   ],
=======
   "execution_count": 1584,
   "metadata": {},
   "outputs": [],
>>>>>>> 919260e0344a37d9495170641d01e414d191855d
   "source": [
    "y_pred = clf.predict(X_test)"
   ]
  },
  {
   "cell_type": "code",
<<<<<<< HEAD
   "execution_count": 2078,
   "metadata": {},
   "outputs": [
    {
     "ename": "ValueError",
     "evalue": "Found input variables with inconsistent numbers of samples: [312, 418]",
     "output_type": "error",
     "traceback": [
      "\u001b[0;31m---------------------------------------------------------------------------\u001b[0m",
      "\u001b[0;31mValueError\u001b[0m                                Traceback (most recent call last)",
      "\u001b[0;32m<ipython-input-2078-db1143bf1167>\u001b[0m in \u001b[0;36m<module>\u001b[0;34m\u001b[0m\n\u001b[1;32m      1\u001b[0m \u001b[0;32mfrom\u001b[0m \u001b[0msklearn\u001b[0m\u001b[0;34m.\u001b[0m\u001b[0mmetrics\u001b[0m \u001b[0;32mimport\u001b[0m \u001b[0mconfusion_matrix\u001b[0m\u001b[0;34m\u001b[0m\u001b[0;34m\u001b[0m\u001b[0m\n\u001b[0;32m----> 2\u001b[0;31m \u001b[0mconfusion_matrix\u001b[0m\u001b[0;34m(\u001b[0m\u001b[0my_test\u001b[0m\u001b[0;34m,\u001b[0m\u001b[0my_pred\u001b[0m\u001b[0;34m)\u001b[0m\u001b[0;34m\u001b[0m\u001b[0;34m\u001b[0m\u001b[0m\n\u001b[0m",
      "\u001b[0;32m~/anaconda3/lib/python3.8/site-packages/sklearn/utils/validation.py\u001b[0m in \u001b[0;36minner_f\u001b[0;34m(*args, **kwargs)\u001b[0m\n\u001b[1;32m     61\u001b[0m             \u001b[0mextra_args\u001b[0m \u001b[0;34m=\u001b[0m \u001b[0mlen\u001b[0m\u001b[0;34m(\u001b[0m\u001b[0margs\u001b[0m\u001b[0;34m)\u001b[0m \u001b[0;34m-\u001b[0m \u001b[0mlen\u001b[0m\u001b[0;34m(\u001b[0m\u001b[0mall_args\u001b[0m\u001b[0;34m)\u001b[0m\u001b[0;34m\u001b[0m\u001b[0;34m\u001b[0m\u001b[0m\n\u001b[1;32m     62\u001b[0m             \u001b[0;32mif\u001b[0m \u001b[0mextra_args\u001b[0m \u001b[0;34m<=\u001b[0m \u001b[0;36m0\u001b[0m\u001b[0;34m:\u001b[0m\u001b[0;34m\u001b[0m\u001b[0;34m\u001b[0m\u001b[0m\n\u001b[0;32m---> 63\u001b[0;31m                 \u001b[0;32mreturn\u001b[0m \u001b[0mf\u001b[0m\u001b[0;34m(\u001b[0m\u001b[0;34m*\u001b[0m\u001b[0margs\u001b[0m\u001b[0;34m,\u001b[0m \u001b[0;34m**\u001b[0m\u001b[0mkwargs\u001b[0m\u001b[0;34m)\u001b[0m\u001b[0;34m\u001b[0m\u001b[0;34m\u001b[0m\u001b[0m\n\u001b[0m\u001b[1;32m     64\u001b[0m \u001b[0;34m\u001b[0m\u001b[0m\n\u001b[1;32m     65\u001b[0m             \u001b[0;31m# extra_args > 0\u001b[0m\u001b[0;34m\u001b[0m\u001b[0;34m\u001b[0m\u001b[0;34m\u001b[0m\u001b[0m\n",
      "\u001b[0;32m~/anaconda3/lib/python3.8/site-packages/sklearn/metrics/_classification.py\u001b[0m in \u001b[0;36mconfusion_matrix\u001b[0;34m(y_true, y_pred, labels, sample_weight, normalize)\u001b[0m\n\u001b[1;32m    297\u001b[0m \u001b[0;34m\u001b[0m\u001b[0m\n\u001b[1;32m    298\u001b[0m     \"\"\"\n\u001b[0;32m--> 299\u001b[0;31m     \u001b[0my_type\u001b[0m\u001b[0;34m,\u001b[0m \u001b[0my_true\u001b[0m\u001b[0;34m,\u001b[0m \u001b[0my_pred\u001b[0m \u001b[0;34m=\u001b[0m \u001b[0m_check_targets\u001b[0m\u001b[0;34m(\u001b[0m\u001b[0my_true\u001b[0m\u001b[0;34m,\u001b[0m \u001b[0my_pred\u001b[0m\u001b[0;34m)\u001b[0m\u001b[0;34m\u001b[0m\u001b[0;34m\u001b[0m\u001b[0m\n\u001b[0m\u001b[1;32m    300\u001b[0m     \u001b[0;32mif\u001b[0m \u001b[0my_type\u001b[0m \u001b[0;32mnot\u001b[0m \u001b[0;32min\u001b[0m \u001b[0;34m(\u001b[0m\u001b[0;34m\"binary\"\u001b[0m\u001b[0;34m,\u001b[0m \u001b[0;34m\"multiclass\"\u001b[0m\u001b[0;34m)\u001b[0m\u001b[0;34m:\u001b[0m\u001b[0;34m\u001b[0m\u001b[0;34m\u001b[0m\u001b[0m\n\u001b[1;32m    301\u001b[0m         \u001b[0;32mraise\u001b[0m \u001b[0mValueError\u001b[0m\u001b[0;34m(\u001b[0m\u001b[0;34m\"%s is not supported\"\u001b[0m \u001b[0;34m%\u001b[0m \u001b[0my_type\u001b[0m\u001b[0;34m)\u001b[0m\u001b[0;34m\u001b[0m\u001b[0;34m\u001b[0m\u001b[0m\n",
      "\u001b[0;32m~/anaconda3/lib/python3.8/site-packages/sklearn/metrics/_classification.py\u001b[0m in \u001b[0;36m_check_targets\u001b[0;34m(y_true, y_pred)\u001b[0m\n\u001b[1;32m     81\u001b[0m     \u001b[0my_pred\u001b[0m \u001b[0;34m:\u001b[0m \u001b[0marray\u001b[0m \u001b[0;32mor\u001b[0m \u001b[0mindicator\u001b[0m \u001b[0mmatrix\u001b[0m\u001b[0;34m\u001b[0m\u001b[0;34m\u001b[0m\u001b[0m\n\u001b[1;32m     82\u001b[0m     \"\"\"\n\u001b[0;32m---> 83\u001b[0;31m     \u001b[0mcheck_consistent_length\u001b[0m\u001b[0;34m(\u001b[0m\u001b[0my_true\u001b[0m\u001b[0;34m,\u001b[0m \u001b[0my_pred\u001b[0m\u001b[0;34m)\u001b[0m\u001b[0;34m\u001b[0m\u001b[0;34m\u001b[0m\u001b[0m\n\u001b[0m\u001b[1;32m     84\u001b[0m     \u001b[0mtype_true\u001b[0m \u001b[0;34m=\u001b[0m \u001b[0mtype_of_target\u001b[0m\u001b[0;34m(\u001b[0m\u001b[0my_true\u001b[0m\u001b[0;34m)\u001b[0m\u001b[0;34m\u001b[0m\u001b[0;34m\u001b[0m\u001b[0m\n\u001b[1;32m     85\u001b[0m     \u001b[0mtype_pred\u001b[0m \u001b[0;34m=\u001b[0m \u001b[0mtype_of_target\u001b[0m\u001b[0;34m(\u001b[0m\u001b[0my_pred\u001b[0m\u001b[0;34m)\u001b[0m\u001b[0;34m\u001b[0m\u001b[0;34m\u001b[0m\u001b[0m\n",
      "\u001b[0;32m~/anaconda3/lib/python3.8/site-packages/sklearn/utils/validation.py\u001b[0m in \u001b[0;36mcheck_consistent_length\u001b[0;34m(*arrays)\u001b[0m\n\u001b[1;32m    317\u001b[0m     \u001b[0muniques\u001b[0m \u001b[0;34m=\u001b[0m \u001b[0mnp\u001b[0m\u001b[0;34m.\u001b[0m\u001b[0munique\u001b[0m\u001b[0;34m(\u001b[0m\u001b[0mlengths\u001b[0m\u001b[0;34m)\u001b[0m\u001b[0;34m\u001b[0m\u001b[0;34m\u001b[0m\u001b[0m\n\u001b[1;32m    318\u001b[0m     \u001b[0;32mif\u001b[0m \u001b[0mlen\u001b[0m\u001b[0;34m(\u001b[0m\u001b[0muniques\u001b[0m\u001b[0;34m)\u001b[0m \u001b[0;34m>\u001b[0m \u001b[0;36m1\u001b[0m\u001b[0;34m:\u001b[0m\u001b[0;34m\u001b[0m\u001b[0;34m\u001b[0m\u001b[0m\n\u001b[0;32m--> 319\u001b[0;31m         raise ValueError(\"Found input variables with inconsistent numbers of\"\n\u001b[0m\u001b[1;32m    320\u001b[0m                          \" samples: %r\" % [int(l) for l in lengths])\n\u001b[1;32m    321\u001b[0m \u001b[0;34m\u001b[0m\u001b[0m\n",
      "\u001b[0;31mValueError\u001b[0m: Found input variables with inconsistent numbers of samples: [312, 418]"
     ]
    }
   ],
   "source": [
    "from sklearn.metrics import confusion_matrix\n",
=======
   "execution_count": 1585,
   "metadata": {},
   "outputs": [
    {
     "data": {
      "text/plain": [
       "array([[121,  13],\n",
       "       [ 26,  63]])"
      ]
     },
     "execution_count": 1585,
     "metadata": {},
     "output_type": "execute_result"
    }
   ],
   "source": [
>>>>>>> 919260e0344a37d9495170641d01e414d191855d
    "confusion_matrix(y_test,y_pred)"
   ]
  },
  {
   "cell_type": "code",
<<<<<<< HEAD
   "execution_count": 2079,
=======
   "execution_count": 1586,
>>>>>>> 919260e0344a37d9495170641d01e414d191855d
   "metadata": {},
   "outputs": [
    {
     "data": {
      "text/plain": [
<<<<<<< HEAD
       "0.8664421997755332"
      ]
     },
     "execution_count": 2079,
=======
       "0.937125748502994"
      ]
     },
     "execution_count": 1586,
>>>>>>> 919260e0344a37d9495170641d01e414d191855d
     "metadata": {},
     "output_type": "execute_result"
    }
   ],
   "source": [
    "clf.score(X_train, y_train)"
   ]
  },
  {
   "cell_type": "code",
<<<<<<< HEAD
   "execution_count": 1980,
=======
   "execution_count": 1587,
>>>>>>> 919260e0344a37d9495170641d01e414d191855d
   "metadata": {},
   "outputs": [
    {
     "data": {
      "text/plain": [
<<<<<<< HEAD
       "0.8205128205128205"
      ]
     },
     "execution_count": 1980,
=======
       "0.8251121076233184"
      ]
     },
     "execution_count": 1587,
>>>>>>> 919260e0344a37d9495170641d01e414d191855d
     "metadata": {},
     "output_type": "execute_result"
    }
   ],
   "source": [
<<<<<<< HEAD
    "sklearn_score = clf.score(X_test, y_test)\n",
    "sklearn_score"
=======
    "clf.score(X_test, y_test)"
>>>>>>> 919260e0344a37d9495170641d01e414d191855d
   ]
  },
  {
   "cell_type": "markdown",
   "metadata": {},
   "source": [
    "## 6.2. Random Forest from Scratch"
   ]
  },
  {
<<<<<<< HEAD
   "cell_type": "markdown",
   "metadata": {},
   "source": [
    "Initializing the data split indices"
   ]
  },
  {
   "cell_type": "code",
   "execution_count": 2080,
   "metadata": {},
   "outputs": [],
   "source": [
    "from sklearn.model_selection import ShuffleSplit\n",
    "\n",
    "def shuffle():\n",
    "    s = ShuffleSplit(n_splits=1000, random_state=42)\n",
    "    return s"
   ]
  },
  {
   "cell_type": "markdown",
   "metadata": {},
   "source": [
    "Using the indices to create dictionaries of train/test subsets"
   ]
  },
  {
   "cell_type": "code",
   "execution_count": 2081,
   "metadata": {},
   "outputs": [],
   "source": [
    "def create_subsets(s):\n",
    "    X_subsets = {}\n",
    "    y_subsets = {}\n",
    "\n",
    "    for i, indexes in enumerate(s.split(X_train)):\n",
    "        X_subsets[i] = X_train.values[indexes[0], :]\n",
    "        y_subsets[i] = y_train.values[indexes[0]]\n",
    "    \n",
    "    return X_subsets, y_subsets"
   ]
  },
  {
   "cell_type": "code",
   "execution_count": 2082,
   "metadata": {},
   "outputs": [],
   "source": [
    "from sklearn.tree import DecisionTreeClassifier\n",
    "import seaborn as sns\n",
    "from matplotlib import pyplot as plt\n",
    "from sklearn.tree import DecisionTreeClassifier, plot_tree\n",
    "from sklearn.metrics import plot_confusion_matrix"
   ]
  },
  {
   "cell_type": "markdown",
   "metadata": {},
   "source": [
    "Growing the Forest"
=======
   "cell_type": "code",
   "execution_count": 1588,
   "metadata": {},
   "outputs": [],
   "source": [
    "X_train_f = X_train.values\n",
    "y_train_f = y_train.values"
>>>>>>> 919260e0344a37d9495170641d01e414d191855d
   ]
  },
  {
   "cell_type": "code",
<<<<<<< HEAD
   "execution_count": 2084,
   "metadata": {},
   "outputs": [],
   "source": [
    "def grow_forest():\n",
    "    forest = []\n",
    "    ypreds = []\n",
    "    scores = []\n",
    "    # Defining the decision tree model\n",
    "    clf = DecisionTreeClassifier(criterion='entropy', max_depth=4, max_features='log2',\n",
    "                       random_state=42)\n",
    "\n",
    "    # Growing the forest\n",
    "    \n",
    "    s = shuffle()\n",
    "    X_subsets, y_subsets = create_subsets(s)\n",
    "    \n",
    "    for subset in range(s.get_n_splits()):\n",
    "        tree = clf.fit(X_subsets[subset], y_subsets[subset])    \n",
    "        forest.append(tree)\n",
    "    \n",
    "        ypred = clf.predict(X_test.values)\n",
    "        ypreds.append(ypred)\n",
    "    \n",
    "        #scores.append(clf.score(X_test, y_test))\n",
    "        \n",
    "        ## Creating a confusion matrix and a plot for each tree ##\n",
    "        # plot_confusion_matrix(clf, X_test, y_test, cmap=plt.cm.Blues)\n",
    "        # plt.savefig(f\"plots/conf_matr{subset}.jpg\")\n",
    "        # plt.close()\n",
    "        # plt.figure(figsize=(12, 8), dpi=150)\n",
    "        # plot_tree(clf, feature_names=X.columns, class_names=[\"survived\", \"drowned\"], filled=True)\n",
    "        # plt.savefig(f\"plots/tree{subset}.jpg\")\n",
    "        # plt.close()\n",
    "        \n",
    "    return forest, ypreds, scores"
   ]
  },
  {
   "cell_type": "code",
   "execution_count": 2085,
   "metadata": {},
   "outputs": [],
   "source": [
    "forest, ypreds, scores = grow_forest()"
   ]
  },
  {
   "cell_type": "code",
   "execution_count": 1986,
   "metadata": {
    "scrolled": true
   },
=======
   "execution_count": 1589,
   "metadata": {},
>>>>>>> 919260e0344a37d9495170641d01e414d191855d
   "outputs": [
    {
     "name": "stdout",
     "output_type": "stream",
     "text": [
<<<<<<< HEAD
      "Accuracy Score of the vote 0.811\n",
      "sklearn_score 0.821\n"
=======
      "ShuffleSplit(n_splits=1000, random_state=42, test_size=0.75, train_size=0.25)\n"
>>>>>>> 919260e0344a37d9495170641d01e414d191855d
     ]
    }
   ],
   "source": [
<<<<<<< HEAD
    "ballots = pd.DataFrame(ypreds)\n",
    "vote = ballots.mode().transpose()\n",
    "from sklearn.metrics import accuracy_score\n",
    "accuracy = accuracy_score(vote, y_test)\n",
    "print(\"Accuracy Score of the vote\", round(accuracy, 3))\n",
    "print(\"sklearn_score\", round(sklearn_score, 3))"
   ]
  },
  {
   "cell_type": "markdown",
   "metadata": {},
   "source": [
    "## Random Forest Optimization"
=======
    "from sklearn.model_selection import ShuffleSplit\n",
    "\n",
    "s = ShuffleSplit(n_splits=1000, train_size=0.25, test_size=0.75, random_state=42)\n",
    "s.get_n_splits(X_train_f)\n",
    "print(s)"
   ]
  },
  {
   "cell_type": "code",
   "execution_count": 1590,
   "metadata": {},
   "outputs": [],
   "source": [
    "subsets = [train for train, test in s.split(X_train_f)]"
>>>>>>> 919260e0344a37d9495170641d01e414d191855d
   ]
  },
  {
   "cell_type": "code",
<<<<<<< HEAD
   "execution_count": 55,
   "metadata": {},
   "outputs": [],
   "source": [
    "n_est = [500, 800, 1500]\n",
    "max_feat = [\"auto\", \"sqrt\", \"log2\"]\n",
    "max_depth = [1, 2, 3, 4, 5, 6, 7, 8, 9, 10, 15, 20]\n",
    "max_depth.append(None)\n",
    "min_samples_split = [2, 5, 10, 15, 20]\n",
    "min_samples_leaf = [1, 2, 5, 10, 15]"
=======
   "execution_count": 1591,
   "metadata": {},
   "outputs": [],
   "source": [
    "X_subsets = dict()\n",
    "y_subsets = dict()\n",
    "\n",
    "for i, indexes in enumerate(s.split(X_train_f)):\n",
    "    X_subsets[i] = X_train_f[indexes[0], :]\n",
    "    y_subsets[i] = y_train_f[indexes[0]]"
>>>>>>> 919260e0344a37d9495170641d01e414d191855d
   ]
  },
  {
   "cell_type": "code",
<<<<<<< HEAD
   "execution_count": 56,
   "metadata": {},
   "outputs": [],
   "source": [
    "grid_param = {\"n_estimators\": n_est,\n",
    "           \"max_features\": max_feat,\n",
    "            \"max_depth\": max_depth,\n",
    "            \"min_samples_split\": min_samples_split,\n",
    "            \"min_samples_leaf\": min_samples_leaf  \n",
    "           }"
=======
   "execution_count": 1592,
   "metadata": {},
   "outputs": [],
   "source": [
    "from sklearn.tree import DecisionTreeClassifier\n",
    "trees = []\n",
    "ypreds = []\n",
    "scores = []\n",
    "clf = DecisionTreeClassifier(max_features=2, max_depth=10, random_state=42)\n",
    "for i in range(s.get_n_splits()):\n",
    "    tree = clf.fit(X_subsets[i], y_subsets[i])\n",
    "    ypred = clf.predict(X_test.values)\n",
    "    trees.append(tree)\n",
    "    ypreds.append(ypred)\n",
    "    scores.append(clf.score(X_test, y_test))"
>>>>>>> 919260e0344a37d9495170641d01e414d191855d
   ]
  },
  {
   "cell_type": "code",
<<<<<<< HEAD
   "execution_count": 58,
=======
   "execution_count": 1593,
>>>>>>> 919260e0344a37d9495170641d01e414d191855d
   "metadata": {},
   "outputs": [
    {
     "name": "stdout",
     "output_type": "stream",
     "text": [
<<<<<<< HEAD
      "Fitting 2 folds for each of 500 candidates, totalling 1000 fits\n",
      "{'n_estimators': 500, 'min_samples_split': 20, 'min_samples_leaf': 1, 'max_features': 'auto', 'max_depth': 10}\n"
=======
      "0.7547937219730941\n",
      "0.8340807174887892\n"
>>>>>>> 919260e0344a37d9495170641d01e414d191855d
     ]
    }
   ],
   "source": [
<<<<<<< HEAD
    "from sklearn.ensemble import RandomForestClassifier\n",
    "from sklearn.model_selection import RandomizedSearchCV\n",
    "clf = RandomForestClassifier(random_state=42)\n",
    "clf_random = RandomizedSearchCV(estimator=clf, param_distributions=grid_param, n_iter=500, cv=2, verbose=2, random_state=42, n_jobs=-1)\n",
    "clf_random.fit(X_train, y_train)\n",
    "print(clf_random.best_params_)"
=======
    "print(statistics.mean(scores))\n",
    "print(max(scores))"
>>>>>>> 919260e0344a37d9495170641d01e414d191855d
   ]
  },
  {
   "cell_type": "code",
<<<<<<< HEAD
   "execution_count": 59,
   "metadata": {},
   "outputs": [
    {
     "name": "stdout",
     "output_type": "stream",
     "text": [
      "0.8462401795735129\n"
     ]
    }
   ],
   "source": [
    "y_pred = clf_random.predict(X_test)\n",
    "accuracy = clf_random.score(X_train, y_train)\n",
    "print(accuracy)"
=======
   "execution_count": 1594,
   "metadata": {},
   "outputs": [
    {
     "data": {
      "text/plain": [
       "0      0.0\n",
       "1      0.0\n",
       "2      0.0\n",
       "3      1.0\n",
       "4      0.0\n",
       "      ... \n",
       "218    1.0\n",
       "219    0.0\n",
       "220    0.0\n",
       "221    1.0\n",
       "222    0.0\n",
       "Name: 0, Length: 223, dtype: float64"
      ]
     },
     "execution_count": 1594,
     "metadata": {},
     "output_type": "execute_result"
    }
   ],
   "source": [
    "vote = pd.DataFrame(ypreds)\n",
    "vote = vote.mode().transpose()[0]\n",
    "vote"
>>>>>>> 919260e0344a37d9495170641d01e414d191855d
   ]
  },
  {
   "cell_type": "code",
<<<<<<< HEAD
   "execution_count": null,
   "metadata": {},
   "outputs": [],
   "source": []
=======
   "execution_count": 1595,
   "metadata": {},
   "outputs": [
    {
     "data": {
      "text/plain": [
       "0.8161434977578476"
      ]
     },
     "execution_count": 1595,
     "metadata": {},
     "output_type": "execute_result"
    }
   ],
   "source": [
    "accuracy = accuracy_score(y_test, vote)\n",
    "accuracy"
   ]
>>>>>>> 919260e0344a37d9495170641d01e414d191855d
  },
  {
   "cell_type": "markdown",
   "metadata": {},
   "source": [
    "## 6.3. Ensemble Model"
   ]
  },
  {
   "cell_type": "code",
<<<<<<< HEAD
   "execution_count": 78,
=======
   "execution_count": 1596,
>>>>>>> 919260e0344a37d9495170641d01e414d191855d
   "metadata": {},
   "outputs": [
    {
     "data": {
      "text/plain": [
<<<<<<< HEAD
       "0.8338945005611672"
      ]
     },
     "execution_count": 78,
=======
       "0.8161434977578476"
      ]
     },
     "execution_count": 1596,
>>>>>>> 919260e0344a37d9495170641d01e414d191855d
     "metadata": {},
     "output_type": "execute_result"
    }
   ],
   "source": [
    "from sklearn.linear_model import LogisticRegression\n",
    "from sklearn.tree import DecisionTreeClassifier\n",
    "from sklearn.svm import SVC\n",
    "from sklearn.ensemble import VotingClassifier\n",
<<<<<<< HEAD
    "from sklearn.ensemble import RandomForestClassifier\n",
    "\n",
    "models = [('logreg', LogisticRegression(penalty='l2', C=1, max_iter=1000, random_state=42)),\n",
    "          (\"forest\", RandomForestClassifier(criterion=\"entropy\", n_estimators=500, min_samples_split=20,\n",
    "                                            min_samples_leaf=1, max_features=\"auto\", max_depth=10,\n",
    "                                            random_state=42)),\n",
    "          ('svm', SVC(kernel='rbf', C=1, probability=True, random_state=42)),\n",
    "          ]\n",
    "m = VotingClassifier(models, n_jobs=-1, voting=\"hard\")\n",
    "\n",
    "m.fit(X_train, y_train)\n",
    "ypreds = m.predict(X_test)\n",
    "m.score(X_train, y_train)"
   ]
  },
  {
   "cell_type": "code",
   "execution_count": 79,
   "metadata": {},
   "outputs": [
    {
     "data": {
      "text/plain": [
       "array([0, 0, 0, 0, 0, 0, 1, 0, 1, 0, 0, 0, 1, 0, 1, 1, 0, 0, 0, 1, 0, 1,\n",
       "       1, 0, 1, 0, 1, 0, 1, 0, 0, 0, 0, 0, 0, 0, 1, 1, 0, 0, 0, 0, 0, 1,\n",
       "       1, 0, 1, 0, 1, 1, 0, 0, 1, 1, 0, 0, 0, 0, 0, 1, 0, 0, 0, 1, 1, 1,\n",
       "       1, 0, 1, 1, 1, 0, 1, 0, 1, 0, 0, 1, 0, 1, 0, 0, 0, 0, 0, 0, 1, 1,\n",
       "       1, 1, 0, 0, 1, 0, 0, 0, 1, 0, 1, 0, 1, 0, 0, 0, 0, 0, 0, 0, 0, 0,\n",
       "       0, 1, 1, 1, 1, 0, 0, 1, 0, 1, 1, 0, 1, 0, 0, 1, 0, 0, 0, 0, 0, 1,\n",
       "       1, 0, 0, 0, 0, 0, 1, 0, 0, 1, 0, 0, 0, 0, 0, 0, 0, 0, 1, 0, 0, 1,\n",
       "       0, 0, 1, 1, 1, 1, 1, 0, 1, 0, 0, 0, 1, 0, 1, 1, 0, 0, 0, 0, 0, 1,\n",
       "       1, 0, 1, 1, 0, 0, 1, 0, 1, 0, 1, 0, 0, 0, 0, 0, 0, 0, 1, 0, 1, 1,\n",
       "       0, 1, 1, 1, 1, 1, 0, 0, 1, 0, 1, 0, 0, 0, 0, 1, 0, 1, 1, 0, 1, 0,\n",
       "       1, 0, 1, 0, 1, 1, 0, 1, 0, 0, 0, 1, 0, 0, 0, 0, 0, 0, 1, 1, 1, 1,\n",
       "       1, 0, 0, 1, 1, 0, 1, 0, 1, 0, 0, 0, 0, 0, 0, 0, 1, 0, 0, 0, 1, 0,\n",
       "       0, 0, 0, 0, 1, 0, 0, 0, 1, 0, 0, 1, 0, 0, 0, 0, 1, 0, 1, 0, 0, 0,\n",
       "       0, 0, 0, 0, 0, 1, 0, 1, 0, 0, 1, 0, 0, 0, 0, 0, 0, 0, 1, 1, 1, 1,\n",
       "       0, 0, 0, 0, 0, 1, 1, 1, 0, 0, 0, 0, 0, 0, 0, 0, 1, 0, 1, 0, 0, 0,\n",
       "       1, 1, 0, 0, 0, 0, 0, 0, 0, 1, 0, 0, 0, 1, 0, 1, 0, 1, 0, 1, 1, 0,\n",
       "       0, 0, 0, 0, 1, 0, 0, 0, 0, 1, 1, 0, 1, 0, 0, 1, 1, 0, 0, 1, 1, 0,\n",
       "       1, 1, 0, 0, 0, 0, 0, 0, 1, 0, 0, 1, 0, 0, 0, 0, 1, 1, 1, 0, 0, 1,\n",
       "       0, 1, 0, 0, 1, 0, 1, 0, 0, 0, 0, 0, 1, 0, 1, 1, 1, 0, 1, 0, 0, 0])"
      ]
     },
     "execution_count": 79,
     "metadata": {},
     "output_type": "execute_result"
    }
   ],
   "source": [
    "ypreds.transpose()"
=======
    "\n",
    "models = [('logreg', LogisticRegression(penalty='l2', C=1, random_state=42)),\n",
    "          (\"forest\", RandomForestClassifier(criterion=\"entropy\", n_estimators=1000, max_depth=10, random_state=42)),\n",
    "          ('svm', SVC(kernel='poly')),\n",
    "          ]\n",
    "m = VotingClassifier(models)\n",
    "\n",
    "m.fit(X_train, y_train)\n",
    "m.score(X_test, y_test)"
>>>>>>> 919260e0344a37d9495170641d01e414d191855d
   ]
  },
  {
   "cell_type": "code",
<<<<<<< HEAD
   "execution_count": 80,
   "metadata": {},
   "outputs": [],
   "source": [
    "ypreds_df = pd.DataFrame(data=ypreds.transpose(), columns=[\"Survived\"])"
   ]
  },
  {
   "cell_type": "code",
   "execution_count": 81,
   "metadata": {},
   "outputs": [],
   "source": [
    "survivor_prediction_submission = pd.DataFrame(df_test[\"PassengerId\"]).join(ypreds_df)"
   ]
  },
  {
   "cell_type": "code",
   "execution_count": 82,
   "metadata": {},
   "outputs": [
    {
     "data": {
      "text/html": [
       "<div>\n",
       "<style scoped>\n",
       "    .dataframe tbody tr th:only-of-type {\n",
       "        vertical-align: middle;\n",
       "    }\n",
       "\n",
       "    .dataframe tbody tr th {\n",
       "        vertical-align: top;\n",
       "    }\n",
       "\n",
       "    .dataframe thead th {\n",
       "        text-align: right;\n",
       "    }\n",
       "</style>\n",
       "<table border=\"1\" class=\"dataframe\">\n",
       "  <thead>\n",
       "    <tr style=\"text-align: right;\">\n",
       "      <th></th>\n",
       "      <th>PassengerId</th>\n",
       "      <th>Survived</th>\n",
       "    </tr>\n",
       "  </thead>\n",
       "  <tbody>\n",
       "    <tr>\n",
       "      <th>0</th>\n",
       "      <td>892</td>\n",
       "      <td>0</td>\n",
       "    </tr>\n",
       "    <tr>\n",
       "      <th>1</th>\n",
       "      <td>893</td>\n",
       "      <td>0</td>\n",
       "    </tr>\n",
       "    <tr>\n",
       "      <th>2</th>\n",
       "      <td>894</td>\n",
       "      <td>0</td>\n",
       "    </tr>\n",
       "    <tr>\n",
       "      <th>3</th>\n",
       "      <td>895</td>\n",
       "      <td>0</td>\n",
       "    </tr>\n",
       "    <tr>\n",
       "      <th>4</th>\n",
       "      <td>896</td>\n",
       "      <td>0</td>\n",
       "    </tr>\n",
       "    <tr>\n",
       "      <th>...</th>\n",
       "      <td>...</td>\n",
       "      <td>...</td>\n",
       "    </tr>\n",
       "    <tr>\n",
       "      <th>413</th>\n",
       "      <td>1305</td>\n",
       "      <td>0</td>\n",
       "    </tr>\n",
       "    <tr>\n",
       "      <th>414</th>\n",
       "      <td>1306</td>\n",
       "      <td>1</td>\n",
       "    </tr>\n",
       "    <tr>\n",
       "      <th>415</th>\n",
       "      <td>1307</td>\n",
       "      <td>0</td>\n",
       "    </tr>\n",
       "    <tr>\n",
       "      <th>416</th>\n",
       "      <td>1308</td>\n",
       "      <td>0</td>\n",
       "    </tr>\n",
       "    <tr>\n",
       "      <th>417</th>\n",
       "      <td>1309</td>\n",
       "      <td>0</td>\n",
       "    </tr>\n",
       "  </tbody>\n",
       "</table>\n",
       "<p>418 rows × 2 columns</p>\n",
       "</div>"
      ],
      "text/plain": [
       "     PassengerId  Survived\n",
       "0            892         0\n",
       "1            893         0\n",
       "2            894         0\n",
       "3            895         0\n",
       "4            896         0\n",
       "..           ...       ...\n",
       "413         1305         0\n",
       "414         1306         1\n",
       "415         1307         0\n",
       "416         1308         0\n",
       "417         1309         0\n",
       "\n",
       "[418 rows x 2 columns]"
      ]
     },
     "execution_count": 82,
     "metadata": {},
     "output_type": "execute_result"
    }
   ],
   "source": [
    "survivor_prediction_submission"
   ]
  },
  {
   "cell_type": "code",
   "execution_count": 83,
   "metadata": {},
   "outputs": [],
   "source": [
    "survivor_prediction_submission.to_csv(\"survivor_prediction_submission.csv\", index=False)"
   ]
=======
   "execution_count": null,
   "metadata": {},
   "outputs": [],
   "source": []
  },
  {
   "cell_type": "code",
   "execution_count": null,
   "metadata": {},
   "outputs": [],
   "source": []
  },
  {
   "cell_type": "code",
   "execution_count": null,
   "metadata": {},
   "outputs": [],
   "source": []
>>>>>>> 919260e0344a37d9495170641d01e414d191855d
  },
  {
   "cell_type": "code",
   "execution_count": null,
   "metadata": {},
   "outputs": [],
   "source": []
  },
  {
   "cell_type": "code",
   "execution_count": null,
   "metadata": {},
   "outputs": [],
   "source": []
  }
 ],
 "metadata": {
  "kernelspec": {
   "display_name": "Python 3",
   "language": "python",
   "name": "python3"
  },
  "language_info": {
   "codemirror_mode": {
    "name": "ipython",
    "version": 3
   },
   "file_extension": ".py",
   "mimetype": "text/x-python",
   "name": "python",
   "nbconvert_exporter": "python",
   "pygments_lexer": "ipython3",
   "version": "3.8.5"
  }
 },
 "nbformat": 4,
 "nbformat_minor": 4
}
